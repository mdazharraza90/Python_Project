{
 "cells": [
  {
   "cell_type": "code",
   "execution_count": 1,
   "id": "d2663509",
   "metadata": {},
   "outputs": [],
   "source": [
    "import numpy as np\n",
    "import pandas as pd\n",
    "import matplotlib.pyplot as plt\n",
    "import seaborn as sns\n",
    "import requests\n",
    "from bs4 import BeautifulSoup\n",
    "import re\n",
    "import time"
   ]
  },
  {
   "cell_type": "markdown",
   "id": "2eae6048",
   "metadata": {},
   "source": [
    "Importing libraries"
   ]
  },
  {
   "cell_type": "code",
   "execution_count": 2,
   "id": "0b1e130a",
   "metadata": {},
   "outputs": [],
   "source": [
    "url = 'https://www.flipkart.com/search?q=tv+smart+tv&sid=ckf%2Cczl&as=on&as-show=on&otracker=AS_QueryStore_OrganicAutoSuggest_1_3_na_na_ps&otracker1=AS_QueryStore_OrganicAutoSuggest_1_3_na_na_ps&as-pos=1&as-type=RECENT&suggestionId=tv+smart+tv%7CTelevisions&requestId=4a66db9c-a5d7-4bd1-a82c-970ddd816d66&as-searchtext=tv+&p%5B%5D=facets.screen_size%255B%255D%3D39%2B-%2B43%2Binch&p%5B%5D=facets.screen_size%255B%255D%3D48%2B-%2B55%2Binch&p%5B%5D=facets.screen_size%255B%255D%3D60%2Binch%2B%2BAbove&p%5B%5D=facets.brand%255B%255D%3DSAMSUNG&p%5B%5D=facets.brand%255B%255D%3DSONY&p%5B%5D=facets.brand%255B%255D%3DLG&p%5B%5D=facets.brand%255B%255D%3DMi&p%5B%5D=facets.brand%255B%255D%3DMOTOROLA&p%5B%5D=facets.brand%255B%255D%3DHisense&p%5B%5D=facets.brand%255B%255D%3DInfinix&p%5B%5D=facets.brand%255B%255D%3DThomson&p%5B%5D=facets.brand%255B%255D%3DCANDY&p%5B%5D=facets.brand%255B%255D%3DTCL&p%5B%5D=facets.brand%255B%255D%3DSENS&p%5B%5D=facets.brand%255B%255D%3DTOSHIBA&p%5B%5D=facets.brand%255B%255D%3DHaier&p%5B%5D=facets.brand%255B%255D%3DAcer&p%5B%5D=facets.brand%255B%255D%3DSansui&p%5B%5D=facets.brand%255B%255D%3DKODAK&p%5B%5D=facets.brand%255B%255D%3DBlaupunkt&p%5B%5D=facets.brand%255B%255D%3DiFFALCON&p%5B%5D=facets.brand%255B%255D%3DVu&p%5B%5D=facets.brand%255B%255D%3DLloyd&p%5B%5D=facets.brand%255B%255D%3DCoocaa&p%5B%5D=facets.brand%255B%255D%3DBPL&p%5B%5D=facets.brand%255B%255D%3Dskylive&p%5B%5D=facets.brand%255B%255D%3DONIDA&p%5B%5D=facets.brand%255B%255D%3DDyanora&p%5B%5D=facets.brand%255B%255D%3DHyundai&p%5B%5D=facets.brand%255B%255D%3DAdmiral&page=2'"
   ]
  },
  {
   "cell_type": "code",
   "execution_count": 3,
   "id": "7a390710",
   "metadata": {},
   "outputs": [],
   "source": [
    "page = requests.get(url)"
   ]
  },
  {
   "cell_type": "code",
   "execution_count": 4,
   "id": "ee96fe5e",
   "metadata": {},
   "outputs": [
    {
     "data": {
      "text/plain": [
       "<Response [500]>"
      ]
     },
     "execution_count": 4,
     "metadata": {},
     "output_type": "execute_result"
    }
   ],
   "source": [
    "page"
   ]
  },
  {
   "cell_type": "markdown",
   "id": "63a47c84",
   "metadata": {},
   "source": [
    "## Unable to access webpage data \n",
    "To outcome this problem we have to give request header in side it we are giving content type, user agent, accept encoding"
   ]
  },
  {
   "cell_type": "code",
   "execution_count": 5,
   "id": "056bd14d",
   "metadata": {},
   "outputs": [],
   "source": [
    "request_header = {'Content-Type':'html/text;charset=UTF-8', 'User-Agent':'Chrome/101.0.0.0 (Windows NT 10.0, Winx64;x64;rv:109.0) Gecko/20100101 Firefox/119.0', 'Accept-Encoding':'gzip, deflate, br'}"
   ]
  },
  {
   "cell_type": "markdown",
   "id": "b744dd17",
   "metadata": {},
   "source": [
    "## After request _header\n",
    "Proving requests to url using request header"
   ]
  },
  {
   "cell_type": "code",
   "execution_count": 6,
   "id": "a2fe79e4",
   "metadata": {},
   "outputs": [],
   "source": [
    "page = requests.get(url, headers = request_header)"
   ]
  },
  {
   "cell_type": "code",
   "execution_count": 7,
   "id": "76aa10e9",
   "metadata": {},
   "outputs": [
    {
     "data": {
      "text/plain": [
       "<Response [200]>"
      ]
     },
     "execution_count": 7,
     "metadata": {},
     "output_type": "execute_result"
    }
   ],
   "source": [
    "page"
   ]
  },
  {
   "cell_type": "code",
   "execution_count": 8,
   "id": "e859e0c7",
   "metadata": {},
   "outputs": [
    {
     "data": {
      "text/plain": [
       "200"
      ]
     },
     "execution_count": 8,
     "metadata": {},
     "output_type": "execute_result"
    }
   ],
   "source": [
    "page.status_code"
   ]
  },
  {
   "cell_type": "code",
   "execution_count": 9,
   "id": "5f2dae08",
   "metadata": {},
   "outputs": [],
   "source": [
    "soup = BeautifulSoup(page.text)"
   ]
  },
  {
   "cell_type": "markdown",
   "id": "444ec417",
   "metadata": {},
   "source": [
    "## Data extraction from div class KzDlHZ\n",
    "Extracting the web page data from the div class KzDlHZ"
   ]
  },
  {
   "cell_type": "code",
   "execution_count": 10,
   "id": "83541f0b",
   "metadata": {},
   "outputs": [
    {
     "data": {
      "text/plain": [
       "[<div class=\"KzDlHZ\">iFFALCON by TCL 139 cm (55 inch) QLED Ultra HD (4K) Smart Google TV With Dolby Atmos Vision &amp; HDR10</div>,\n",
       " <div class=\"KzDlHZ\">LG UR7500 139 cm (55 inch) Ultra HD (4K) LED Smart WebOS TV with Alpha75 Gen6 AI Processor, AI Picture...</div>,\n",
       " <div class=\"KzDlHZ\">Vu GloLED 108 cm (43 inch) Ultra HD (4K) LED Smart Google TV with DJ Subwoofer 84W</div>,\n",
       " <div class=\"KzDlHZ\">TCL 138.71 cm (55 inch) Ultra HD (4K) LED Smart Google TV 2024 Edition with with 24W Dolby Audio and M...</div>,\n",
       " <div class=\"KzDlHZ\">Thomson FA Series 106 cm (42 inch) Full HD LED Smart Android TV with Dolby Digital Plus &amp; Android 11</div>,\n",
       " <div class=\"KzDlHZ\">Coocaa 138 cm (55 inch) Ultra HD (4K) LED Smart Coolita TV 2024 Edition with Dolby Audio and Eye Care ...</div>,\n",
       " <div class=\"KzDlHZ\">TCL 108 cm (43 inch) QLED Ultra HD (4K) Smart Google TV with 30W Dolby Atmos</div>,\n",
       " <div class=\"KzDlHZ\">SAMSUNG New D Series Brighter Crystal Vision Pro (2024 Edition) 138 cm (55 inch) Ultra HD (4K) LED Sma...</div>,\n",
       " <div class=\"KzDlHZ\">SAMSUNG 108 cm (43 inch) Full HD LED Smart Tizen TV</div>,\n",
       " <div class=\"KzDlHZ\">SONY Bravia X74L 138.8 cm (55 inch) Ultra HD (4K) LED Smart Google TV</div>,\n",
       " <div class=\"KzDlHZ\">iFFALCON by TCL 108 cm (43 inch) QLED Ultra HD (4K) Smart Google TV With Dolby Atmos Vision &amp; HDR10</div>,\n",
       " <div class=\"KzDlHZ\">Mi X Pro 108 cm (43 inch) Ultra HD (4K) LED Smart Google TV with 4K Dolby Vision IQ | HDR10+ | Dolby A...</div>,\n",
       " <div class=\"KzDlHZ\">Sansui 109 cm (43 inch) Full HD LED Smart Google TV</div>,\n",
       " <div class=\"KzDlHZ\">Thomson 126 cm (50 inch) Ultra HD (4K) LED Smart Google TV with Dolby Vision &amp; Atmos</div>,\n",
       " <div class=\"KzDlHZ\">MOTOROLA EnvisionX 165 cm (65 inch) QLED Ultra HD (4K) Smart Google TV with Dolby Vision and Dolby Atm...</div>,\n",
       " <div class=\"KzDlHZ\">TCL 138.71 cm (55 inch) QLED Ultra HD (4K) Smart Google TV Hands Free Voice Control |Dolby Vision- Atm...</div>,\n",
       " <div class=\"KzDlHZ\">MOTOROLA EnvisionX 127 cm (50 inch) Ultra HD (4K) LED Smart Google TV with Inbuilt Box Speakers</div>,\n",
       " <div class=\"KzDlHZ\">KODAK 108 cm (43 inch) Full HD LED Smart Android TV with Android 11 and Dolby Digital Plus</div>,\n",
       " <div class=\"KzDlHZ\">Acer Advanced I Series 127 cm (50 inch) Ultra HD (4K) LED Smart Google TV with Dolby Vision-Atmos, 36W...</div>,\n",
       " <div class=\"KzDlHZ\">LG UQ7550 139 cm (55 inch) Ultra HD (4K) LED Smart WebOS TV with Alpha75 Gen5 AI Processor 4K, Magic R...</div>,\n",
       " <div class=\"KzDlHZ\">iFFALCON by TCL U64 108 cm (43 inch) Ultra HD (4K) LED Smart Google TV with 24W Dolby Audio, HDR10</div>,\n",
       " <div class=\"KzDlHZ\">iFFALCON by TCL U62 164 cm (65 inch) Ultra HD (4K) LED Smart Google TV with Dolby Audio, HDR10</div>,\n",
       " <div class=\"KzDlHZ\">iFFALCON by TCL 126 cm (50 inch) QLED Ultra HD (4K) Smart Google TV With Dolby Atmos Vision &amp; HDR10</div>,\n",
       " <div class=\"KzDlHZ\">Thomson FA Series 108 cm (43 inch) Full HD LED Smart Android TV with Dolby Digital Plus &amp; Android 11</div>]"
      ]
     },
     "execution_count": 10,
     "metadata": {},
     "output_type": "execute_result"
    }
   ],
   "source": [
    "a = soup.find_all('div', attrs = {'class':'KzDlHZ'})\n",
    "a"
   ]
  },
  {
   "cell_type": "code",
   "execution_count": 11,
   "id": "70422757",
   "metadata": {},
   "outputs": [
    {
     "data": {
      "text/plain": [
       "<div class=\"KzDlHZ\">iFFALCON by TCL 139 cm (55 inch) QLED Ultra HD (4K) Smart Google TV With Dolby Atmos Vision &amp; HDR10</div>"
      ]
     },
     "execution_count": 11,
     "metadata": {},
     "output_type": "execute_result"
    }
   ],
   "source": [
    "## Accessing the products index wise\n",
    "a[0]"
   ]
  },
  {
   "cell_type": "markdown",
   "id": "b0363306",
   "metadata": {},
   "source": [
    "# .text\n",
    "The data is present inside the 'div' class hence we are accessing the data using .text method"
   ]
  },
  {
   "cell_type": "code",
   "execution_count": 12,
   "id": "6ce71737",
   "metadata": {},
   "outputs": [
    {
     "data": {
      "text/plain": [
       "'iFFALCON by TCL 139 cm (55 inch) QLED Ultra HD (4K) Smart Google TV With Dolby Atmos Vision & HDR10'"
      ]
     },
     "execution_count": 12,
     "metadata": {},
     "output_type": "execute_result"
    }
   ],
   "source": [
    "a[0].text"
   ]
  },
  {
   "cell_type": "markdown",
   "id": "c6744b66",
   "metadata": {},
   "source": [
    "extracting Prices of the products Using for loop we have extracted the div class cN1yYO\n",
    "\n",
    "In that Item is j and iterables are soup.find_all('div', attrs = {'class':'cN1yYO'})\n",
    "\n",
    "We have created the variable called Price inside that we have created find method which finds the 'div' from the class cN1yYO\n",
    "\n",
    "Inside it we have applied conditional statement if .\n",
    "\n",
    "If the Prices are None it prints np.nan Else it print Price.text\n",
    "\n",
    "Hence extracted all the text data using variable (Price) using (.text) method"
   ]
  },
  {
   "cell_type": "code",
   "execution_count": 13,
   "id": "02962904",
   "metadata": {},
   "outputs": [
    {
     "name": "stdout",
     "output_type": "stream",
     "text": [
      "₹33,999\n",
      "\n",
      "₹43,990\n",
      "\n",
      "₹26,499\n",
      "\n",
      "₹34,990\n",
      "\n",
      "₹15,499\n",
      "\n",
      "₹24,999\n",
      "\n",
      "₹27,990\n",
      "\n",
      "₹44,990\n",
      "\n",
      "₹24,990\n",
      "\n",
      "₹54,990\n",
      "\n",
      "₹20,990\n",
      "\n",
      "₹30,990\n",
      "\n",
      "₹20,499\n",
      "\n",
      "₹25,499\n",
      "\n",
      "₹42,999\n",
      "\n",
      "₹36,990\n",
      "\n",
      "₹27,999\n",
      "\n",
      "₹16,999\n",
      "\n",
      "₹27,999\n",
      "\n",
      "₹45,990\n",
      "\n",
      "₹20,999\n",
      "\n",
      "₹37,999\n",
      "\n",
      "₹27,990\n",
      "\n",
      "₹16,999\n",
      "\n"
     ]
    }
   ],
   "source": [
    "for j in soup.find_all('div', attrs = {'class':'cN1yYO'}):\n",
    "    Price = j.find('div', attrs = {'class':\"Nx9bqj _4b5DiR\"})\n",
    "    \n",
    "    if Price is None:\n",
    "        print(np.nan)\n",
    "        print()\n",
    "    else:\n",
    "        print(Price.text)\n",
    "        print()"
   ]
  },
  {
   "cell_type": "markdown",
   "id": "5720da4b",
   "metadata": {},
   "source": [
    "### extracting details of the products \n",
    "\n",
    "* Using for loop we have extracted the div class _6NESgJ\n",
    "\n",
    "* In that Item is j and iterables are soup.find_all('div', attrs = {'class':'_6NESgJ'})\n",
    "\n",
    "* We have created the variable called Specs inside that we have created  find method which finds the 'ul' from the class G4BRas\n",
    "\n",
    "* Inside it we have applied conditional statement if .\n",
    "\n",
    "* If the specs are None it prints np.nan Else it print Specs.text\n",
    "\n",
    "* Hence extracted all the text data using variable (Specs) using (.text) method\n"
   ]
  },
  {
   "cell_type": "code",
   "execution_count": 14,
   "id": "d1ed13d8",
   "metadata": {},
   "outputs": [
    {
     "name": "stdout",
     "output_type": "stream",
     "text": [
      "Operating System: Google TVUltra HD (4K) 3840 x 2160 PixelsLaunch Year: 20231 Year Warranty\n",
      "\n",
      "Operating System: WebOSUltra HD (4K) 3840 x 2160 PixelsLaunch Year: 20231 Year Product Warranty Applicable\n",
      "\n",
      "Operating System: Google TVUltra HD (4K) 3840 x 2160 PixelsLaunch Year: 20221 Year Domestic Warranty from Vu\n",
      "\n",
      "Operating System: Google TVUltra HD (4K) 3840 x 2160 PixelsLaunch Year: 20242 Years Warranty on Product\n",
      "\n",
      "Operating System: AndroidFull HD 1080 x 1920 PixelsLaunch Year: 20231 Year Warranty on Product and 6 Months Warranty on Accessories\n",
      "\n",
      "Operating System: CoolitaUltra HD (4K) 3840 x 2160 PixelsLaunch Year: 20241 Year Comprehensive Warranty On Product\n",
      "\n",
      "Operating System: Google TVUltra HD (4K) 3840 x 2160 PixelsLaunch Year: 20242 Years Comprehensive Warranty on Product\n",
      "\n",
      "Operating System: TizenUltra HD (4K) 3840 x 2160 PixelsLaunch Year: 20242 Year Warranty (1 Year Standard Warranty + 1 Year additional warranty on Panel)\n",
      "\n",
      "Operating System: TizenFull HD 1920 x 1080 PixelsLaunch Year: 20231 Year Comprehensive Warranty on Product and 1 Year Additional Warranty on Panel\n",
      "\n",
      "Operating System: Google TVUltra HD (4K) 3840 x 2160 PixelsLaunch Year: 20231 Year Warranty\n",
      "\n",
      "Operating System: Google TVUltra HD (4K) 3840 x 2160 PixelsLaunch Year: 20231 Year Warranty\n",
      "\n",
      "Operating System: Google TVUltra HD (4K) 3840 x 2160 PixelsLaunch Year: 20231 Year Warranty on Product and 2 Years Warranty on Panel\n",
      "\n",
      "Operating System: Google TVFull HD 1920 x 1080 PixelsLaunch Year: 20231 Year Comprehensive Warranty on Product and 2 Years Warranty on Panel\n",
      "\n",
      "Operating System: Google TVUltra HD (4K) 3840 x 2160 PixelsLaunch Year: 20231 Year Warranty on Product and 6 Months Warranty on Accessories\n",
      "\n",
      "Operating System: Google TVUltra HD (4K) 3840 x 2160 PixelsLaunch Year: 20231 Year Warranty\n",
      "\n",
      "Operating System: Google TVUltra HD (4K) 3840 x 2160 PixelsLaunch Year: 20242 Years Comprehensive Warranty\n",
      "\n",
      "Operating System: Google TVUltra HD (4K) 3840 x 2160 PixelsLaunch Year: 20231 Year Warranty\n",
      "\n",
      "Operating System: AndroidFull HD 1080 x 1920 PixelsLaunch Year: 20231 Year Warranty on Product and 6 Months Warranty on Accessories\n",
      "\n",
      "Operating System: Google TVUltra HD (4K) 3840 x 2160 PixelsLaunch Year: 20231 Year Comprehensive Warranty from the Date of Purchase\n",
      "\n",
      "Operating System: WebOSUltra HD (4K) 3840 x 2160 PixelsLaunch Year: 20231 Year Product Warranty Applicable\n",
      "\n",
      "Operating System: Google TVUltra HD (4K) 3840 x 2160 PixelsLaunch Year: 20241 Year Warranty on Product\n",
      "\n",
      "Operating System: Google TVUltra HD (4K) 3840 x 2160 PixelsLaunch Year: 20221 Year Warranty\n",
      "\n",
      "Operating System: Google TVUltra HD (4K) 3840 x 2160 PixelsLaunch Year: 20231 Year Warranty\n",
      "\n",
      "Operating System: AndroidFull HD 1080 x 1920 PixelsLaunch Year: 20231 Year Warranty on Product and 6 Months Warranty on Accessories\n",
      "\n"
     ]
    }
   ],
   "source": [
    "for j in soup.find_all('div', attrs = {'class':'_6NESgJ'}):\n",
    "    Specs = j.find('ul', attrs = {'class':\"G4BRas\"})\n",
    "    \n",
    "    if Specs is None:\n",
    "        print(np.nan)\n",
    "        print()\n",
    "    else:\n",
    "        print(Specs.text)\n",
    "        print()"
   ]
  },
  {
   "cell_type": "markdown",
   "id": "4cdcfefa",
   "metadata": {},
   "source": [
    "### extracting details of the ratings"
   ]
  },
  {
   "cell_type": "code",
   "execution_count": 15,
   "id": "37c714b1",
   "metadata": {},
   "outputs": [
    {
     "name": "stdout",
     "output_type": "stream",
     "text": [
      "4.2\n",
      "\n",
      "4.4\n",
      "\n",
      "4.4\n",
      "\n",
      "4.1\n",
      "\n",
      "4.3\n",
      "\n",
      "4.2\n",
      "\n",
      "4.2\n",
      "\n",
      "4.3\n",
      "\n",
      "4.3\n",
      "\n",
      "4.6\n",
      "\n",
      "4.2\n",
      "\n",
      "4.3\n",
      "\n",
      "4.2\n",
      "\n",
      "4.5\n",
      "\n",
      "4.3\n",
      "\n",
      "4.2\n",
      "\n",
      "4.3\n",
      "\n",
      "4.4\n",
      "\n",
      "4.3\n",
      "\n",
      "4.4\n",
      "\n",
      "4.2\n",
      "\n",
      "4.2\n",
      "\n",
      "4.2\n",
      "\n",
      "4.3\n",
      "\n"
     ]
    }
   ],
   "source": [
    "for j in soup.find_all('div', attrs = {'class':'_5OesEi'}):\n",
    "    Ratings = j.find('div', attrs = {'class':\"XQDdHH\"})\n",
    "    \n",
    "    if Ratings is None:\n",
    "        print(np.nan)\n",
    "        print()\n",
    "    else:\n",
    "        print(Ratings.text)\n",
    "        print()"
   ]
  },
  {
   "cell_type": "markdown",
   "id": "64d1ce52",
   "metadata": {},
   "source": [
    "# URL\n",
    "\n",
    "* Extracting all the url webpages using for loop\n",
    "\n",
    "* The URL is taken as strings and applied (.format) method to the url\n",
    "\n",
    "* Where the for loop contains the range of (1,31) The loop iterates i value prints as 1 2 3 4 ........\n",
    "\n",
    "* The web pages contains page numbers which we iterate i value using .format method in the url\n",
    "\n",
    "* All the web pages are printed"
   ]
  },
  {
   "cell_type": "code",
   "execution_count": 16,
   "id": "a22c750e",
   "metadata": {},
   "outputs": [
    {
     "name": "stdout",
     "output_type": "stream",
     "text": [
      "https://www.flipkart.com/search?q=tv+smart+tv&sid=ckf%2Cczl&as=on&as-show=on&otracker=AS_QueryStore_OrganicAutoSuggest_1_3_na_na_ps&otracker1=AS_QueryStore_OrganicAutoSuggest_1_3_na_na_ps&as-pos=1&as-type=RECENT&suggestionId=tv+smart+tv%7CTelevisions&requestId=4a66db9c-a5d7-4bd1-a82c-970ddd816d66&as-searchtext=tv+&p%5B%5D=facets.screen_size%255B%255D%3D39%2B-%2B43%2Binch&p%5B%5D=facets.screen_size%255B%255D%3D48%2B-%2B55%2Binch&p%5B%5D=facets.screen_size%255B%255D%3D60%2Binch%2B%2BAbove&p%5B%5D=facets.brand%255B%255D%3DSAMSUNG&p%5B%5D=facets.brand%255B%255D%3DSONY&p%5B%5D=facets.brand%255B%255D%3DLG&p%5B%5D=facets.brand%255B%255D%3DMi&p%5B%5D=facets.brand%255B%255D%3DMOTOROLA&p%5B%5D=facets.brand%255B%255D%3DHisense&p%5B%5D=facets.brand%255B%255D%3DInfinix&p%5B%5D=facets.brand%255B%255D%3DThomson&p%5B%5D=facets.brand%255B%255D%3DCANDY&p%5B%5D=facets.brand%255B%255D%3DTCL&p%5B%5D=facets.brand%255B%255D%3DSENS&p%5B%5D=facets.brand%255B%255D%3DTOSHIBA&p%5B%5D=facets.brand%255B%255D%3DHaier&p%5B%5D=facets.brand%255B%255D%3DAcer&p%5B%5D=facets.brand%255B%255D%3DSansui&p%5B%5D=facets.brand%255B%255D%3DKODAK&p%5B%5D=facets.brand%255B%255D%3DBlaupunkt&p%5B%5D=facets.brand%255B%255D%3DiFFALCON&p%5B%5D=facets.brand%255B%255D%3DVu&p%5B%5D=facets.brand%255B%255D%3DLloyd&p%5B%5D=facets.brand%255B%255D%3DCoocaa&p%5B%5D=facets.brand%255B%255D%3DBPL&p%5B%5D=facets.brand%255B%255D%3Dskylive&p%5B%5D=facets.brand%255B%255D%3DONIDA&p%5B%5D=facets.brand%255B%255D%3DDyanora&p%5B%5D=facets.brand%255B%255D%3DHyundai&p%5B%5D=facets.brand%255B%255D%3DAdmiral&page=1\n",
      "https://www.flipkart.com/search?q=tv+smart+tv&sid=ckf%2Cczl&as=on&as-show=on&otracker=AS_QueryStore_OrganicAutoSuggest_1_3_na_na_ps&otracker1=AS_QueryStore_OrganicAutoSuggest_1_3_na_na_ps&as-pos=1&as-type=RECENT&suggestionId=tv+smart+tv%7CTelevisions&requestId=4a66db9c-a5d7-4bd1-a82c-970ddd816d66&as-searchtext=tv+&p%5B%5D=facets.screen_size%255B%255D%3D39%2B-%2B43%2Binch&p%5B%5D=facets.screen_size%255B%255D%3D48%2B-%2B55%2Binch&p%5B%5D=facets.screen_size%255B%255D%3D60%2Binch%2B%2BAbove&p%5B%5D=facets.brand%255B%255D%3DSAMSUNG&p%5B%5D=facets.brand%255B%255D%3DSONY&p%5B%5D=facets.brand%255B%255D%3DLG&p%5B%5D=facets.brand%255B%255D%3DMi&p%5B%5D=facets.brand%255B%255D%3DMOTOROLA&p%5B%5D=facets.brand%255B%255D%3DHisense&p%5B%5D=facets.brand%255B%255D%3DInfinix&p%5B%5D=facets.brand%255B%255D%3DThomson&p%5B%5D=facets.brand%255B%255D%3DCANDY&p%5B%5D=facets.brand%255B%255D%3DTCL&p%5B%5D=facets.brand%255B%255D%3DSENS&p%5B%5D=facets.brand%255B%255D%3DTOSHIBA&p%5B%5D=facets.brand%255B%255D%3DHaier&p%5B%5D=facets.brand%255B%255D%3DAcer&p%5B%5D=facets.brand%255B%255D%3DSansui&p%5B%5D=facets.brand%255B%255D%3DKODAK&p%5B%5D=facets.brand%255B%255D%3DBlaupunkt&p%5B%5D=facets.brand%255B%255D%3DiFFALCON&p%5B%5D=facets.brand%255B%255D%3DVu&p%5B%5D=facets.brand%255B%255D%3DLloyd&p%5B%5D=facets.brand%255B%255D%3DCoocaa&p%5B%5D=facets.brand%255B%255D%3DBPL&p%5B%5D=facets.brand%255B%255D%3Dskylive&p%5B%5D=facets.brand%255B%255D%3DONIDA&p%5B%5D=facets.brand%255B%255D%3DDyanora&p%5B%5D=facets.brand%255B%255D%3DHyundai&p%5B%5D=facets.brand%255B%255D%3DAdmiral&page=2\n",
      "https://www.flipkart.com/search?q=tv+smart+tv&sid=ckf%2Cczl&as=on&as-show=on&otracker=AS_QueryStore_OrganicAutoSuggest_1_3_na_na_ps&otracker1=AS_QueryStore_OrganicAutoSuggest_1_3_na_na_ps&as-pos=1&as-type=RECENT&suggestionId=tv+smart+tv%7CTelevisions&requestId=4a66db9c-a5d7-4bd1-a82c-970ddd816d66&as-searchtext=tv+&p%5B%5D=facets.screen_size%255B%255D%3D39%2B-%2B43%2Binch&p%5B%5D=facets.screen_size%255B%255D%3D48%2B-%2B55%2Binch&p%5B%5D=facets.screen_size%255B%255D%3D60%2Binch%2B%2BAbove&p%5B%5D=facets.brand%255B%255D%3DSAMSUNG&p%5B%5D=facets.brand%255B%255D%3DSONY&p%5B%5D=facets.brand%255B%255D%3DLG&p%5B%5D=facets.brand%255B%255D%3DMi&p%5B%5D=facets.brand%255B%255D%3DMOTOROLA&p%5B%5D=facets.brand%255B%255D%3DHisense&p%5B%5D=facets.brand%255B%255D%3DInfinix&p%5B%5D=facets.brand%255B%255D%3DThomson&p%5B%5D=facets.brand%255B%255D%3DCANDY&p%5B%5D=facets.brand%255B%255D%3DTCL&p%5B%5D=facets.brand%255B%255D%3DSENS&p%5B%5D=facets.brand%255B%255D%3DTOSHIBA&p%5B%5D=facets.brand%255B%255D%3DHaier&p%5B%5D=facets.brand%255B%255D%3DAcer&p%5B%5D=facets.brand%255B%255D%3DSansui&p%5B%5D=facets.brand%255B%255D%3DKODAK&p%5B%5D=facets.brand%255B%255D%3DBlaupunkt&p%5B%5D=facets.brand%255B%255D%3DiFFALCON&p%5B%5D=facets.brand%255B%255D%3DVu&p%5B%5D=facets.brand%255B%255D%3DLloyd&p%5B%5D=facets.brand%255B%255D%3DCoocaa&p%5B%5D=facets.brand%255B%255D%3DBPL&p%5B%5D=facets.brand%255B%255D%3Dskylive&p%5B%5D=facets.brand%255B%255D%3DONIDA&p%5B%5D=facets.brand%255B%255D%3DDyanora&p%5B%5D=facets.brand%255B%255D%3DHyundai&p%5B%5D=facets.brand%255B%255D%3DAdmiral&page=3\n",
      "https://www.flipkart.com/search?q=tv+smart+tv&sid=ckf%2Cczl&as=on&as-show=on&otracker=AS_QueryStore_OrganicAutoSuggest_1_3_na_na_ps&otracker1=AS_QueryStore_OrganicAutoSuggest_1_3_na_na_ps&as-pos=1&as-type=RECENT&suggestionId=tv+smart+tv%7CTelevisions&requestId=4a66db9c-a5d7-4bd1-a82c-970ddd816d66&as-searchtext=tv+&p%5B%5D=facets.screen_size%255B%255D%3D39%2B-%2B43%2Binch&p%5B%5D=facets.screen_size%255B%255D%3D48%2B-%2B55%2Binch&p%5B%5D=facets.screen_size%255B%255D%3D60%2Binch%2B%2BAbove&p%5B%5D=facets.brand%255B%255D%3DSAMSUNG&p%5B%5D=facets.brand%255B%255D%3DSONY&p%5B%5D=facets.brand%255B%255D%3DLG&p%5B%5D=facets.brand%255B%255D%3DMi&p%5B%5D=facets.brand%255B%255D%3DMOTOROLA&p%5B%5D=facets.brand%255B%255D%3DHisense&p%5B%5D=facets.brand%255B%255D%3DInfinix&p%5B%5D=facets.brand%255B%255D%3DThomson&p%5B%5D=facets.brand%255B%255D%3DCANDY&p%5B%5D=facets.brand%255B%255D%3DTCL&p%5B%5D=facets.brand%255B%255D%3DSENS&p%5B%5D=facets.brand%255B%255D%3DTOSHIBA&p%5B%5D=facets.brand%255B%255D%3DHaier&p%5B%5D=facets.brand%255B%255D%3DAcer&p%5B%5D=facets.brand%255B%255D%3DSansui&p%5B%5D=facets.brand%255B%255D%3DKODAK&p%5B%5D=facets.brand%255B%255D%3DBlaupunkt&p%5B%5D=facets.brand%255B%255D%3DiFFALCON&p%5B%5D=facets.brand%255B%255D%3DVu&p%5B%5D=facets.brand%255B%255D%3DLloyd&p%5B%5D=facets.brand%255B%255D%3DCoocaa&p%5B%5D=facets.brand%255B%255D%3DBPL&p%5B%5D=facets.brand%255B%255D%3Dskylive&p%5B%5D=facets.brand%255B%255D%3DONIDA&p%5B%5D=facets.brand%255B%255D%3DDyanora&p%5B%5D=facets.brand%255B%255D%3DHyundai&p%5B%5D=facets.brand%255B%255D%3DAdmiral&page=4\n",
      "https://www.flipkart.com/search?q=tv+smart+tv&sid=ckf%2Cczl&as=on&as-show=on&otracker=AS_QueryStore_OrganicAutoSuggest_1_3_na_na_ps&otracker1=AS_QueryStore_OrganicAutoSuggest_1_3_na_na_ps&as-pos=1&as-type=RECENT&suggestionId=tv+smart+tv%7CTelevisions&requestId=4a66db9c-a5d7-4bd1-a82c-970ddd816d66&as-searchtext=tv+&p%5B%5D=facets.screen_size%255B%255D%3D39%2B-%2B43%2Binch&p%5B%5D=facets.screen_size%255B%255D%3D48%2B-%2B55%2Binch&p%5B%5D=facets.screen_size%255B%255D%3D60%2Binch%2B%2BAbove&p%5B%5D=facets.brand%255B%255D%3DSAMSUNG&p%5B%5D=facets.brand%255B%255D%3DSONY&p%5B%5D=facets.brand%255B%255D%3DLG&p%5B%5D=facets.brand%255B%255D%3DMi&p%5B%5D=facets.brand%255B%255D%3DMOTOROLA&p%5B%5D=facets.brand%255B%255D%3DHisense&p%5B%5D=facets.brand%255B%255D%3DInfinix&p%5B%5D=facets.brand%255B%255D%3DThomson&p%5B%5D=facets.brand%255B%255D%3DCANDY&p%5B%5D=facets.brand%255B%255D%3DTCL&p%5B%5D=facets.brand%255B%255D%3DSENS&p%5B%5D=facets.brand%255B%255D%3DTOSHIBA&p%5B%5D=facets.brand%255B%255D%3DHaier&p%5B%5D=facets.brand%255B%255D%3DAcer&p%5B%5D=facets.brand%255B%255D%3DSansui&p%5B%5D=facets.brand%255B%255D%3DKODAK&p%5B%5D=facets.brand%255B%255D%3DBlaupunkt&p%5B%5D=facets.brand%255B%255D%3DiFFALCON&p%5B%5D=facets.brand%255B%255D%3DVu&p%5B%5D=facets.brand%255B%255D%3DLloyd&p%5B%5D=facets.brand%255B%255D%3DCoocaa&p%5B%5D=facets.brand%255B%255D%3DBPL&p%5B%5D=facets.brand%255B%255D%3Dskylive&p%5B%5D=facets.brand%255B%255D%3DONIDA&p%5B%5D=facets.brand%255B%255D%3DDyanora&p%5B%5D=facets.brand%255B%255D%3DHyundai&p%5B%5D=facets.brand%255B%255D%3DAdmiral&page=5\n",
      "https://www.flipkart.com/search?q=tv+smart+tv&sid=ckf%2Cczl&as=on&as-show=on&otracker=AS_QueryStore_OrganicAutoSuggest_1_3_na_na_ps&otracker1=AS_QueryStore_OrganicAutoSuggest_1_3_na_na_ps&as-pos=1&as-type=RECENT&suggestionId=tv+smart+tv%7CTelevisions&requestId=4a66db9c-a5d7-4bd1-a82c-970ddd816d66&as-searchtext=tv+&p%5B%5D=facets.screen_size%255B%255D%3D39%2B-%2B43%2Binch&p%5B%5D=facets.screen_size%255B%255D%3D48%2B-%2B55%2Binch&p%5B%5D=facets.screen_size%255B%255D%3D60%2Binch%2B%2BAbove&p%5B%5D=facets.brand%255B%255D%3DSAMSUNG&p%5B%5D=facets.brand%255B%255D%3DSONY&p%5B%5D=facets.brand%255B%255D%3DLG&p%5B%5D=facets.brand%255B%255D%3DMi&p%5B%5D=facets.brand%255B%255D%3DMOTOROLA&p%5B%5D=facets.brand%255B%255D%3DHisense&p%5B%5D=facets.brand%255B%255D%3DInfinix&p%5B%5D=facets.brand%255B%255D%3DThomson&p%5B%5D=facets.brand%255B%255D%3DCANDY&p%5B%5D=facets.brand%255B%255D%3DTCL&p%5B%5D=facets.brand%255B%255D%3DSENS&p%5B%5D=facets.brand%255B%255D%3DTOSHIBA&p%5B%5D=facets.brand%255B%255D%3DHaier&p%5B%5D=facets.brand%255B%255D%3DAcer&p%5B%5D=facets.brand%255B%255D%3DSansui&p%5B%5D=facets.brand%255B%255D%3DKODAK&p%5B%5D=facets.brand%255B%255D%3DBlaupunkt&p%5B%5D=facets.brand%255B%255D%3DiFFALCON&p%5B%5D=facets.brand%255B%255D%3DVu&p%5B%5D=facets.brand%255B%255D%3DLloyd&p%5B%5D=facets.brand%255B%255D%3DCoocaa&p%5B%5D=facets.brand%255B%255D%3DBPL&p%5B%5D=facets.brand%255B%255D%3Dskylive&p%5B%5D=facets.brand%255B%255D%3DONIDA&p%5B%5D=facets.brand%255B%255D%3DDyanora&p%5B%5D=facets.brand%255B%255D%3DHyundai&p%5B%5D=facets.brand%255B%255D%3DAdmiral&page=6\n",
      "https://www.flipkart.com/search?q=tv+smart+tv&sid=ckf%2Cczl&as=on&as-show=on&otracker=AS_QueryStore_OrganicAutoSuggest_1_3_na_na_ps&otracker1=AS_QueryStore_OrganicAutoSuggest_1_3_na_na_ps&as-pos=1&as-type=RECENT&suggestionId=tv+smart+tv%7CTelevisions&requestId=4a66db9c-a5d7-4bd1-a82c-970ddd816d66&as-searchtext=tv+&p%5B%5D=facets.screen_size%255B%255D%3D39%2B-%2B43%2Binch&p%5B%5D=facets.screen_size%255B%255D%3D48%2B-%2B55%2Binch&p%5B%5D=facets.screen_size%255B%255D%3D60%2Binch%2B%2BAbove&p%5B%5D=facets.brand%255B%255D%3DSAMSUNG&p%5B%5D=facets.brand%255B%255D%3DSONY&p%5B%5D=facets.brand%255B%255D%3DLG&p%5B%5D=facets.brand%255B%255D%3DMi&p%5B%5D=facets.brand%255B%255D%3DMOTOROLA&p%5B%5D=facets.brand%255B%255D%3DHisense&p%5B%5D=facets.brand%255B%255D%3DInfinix&p%5B%5D=facets.brand%255B%255D%3DThomson&p%5B%5D=facets.brand%255B%255D%3DCANDY&p%5B%5D=facets.brand%255B%255D%3DTCL&p%5B%5D=facets.brand%255B%255D%3DSENS&p%5B%5D=facets.brand%255B%255D%3DTOSHIBA&p%5B%5D=facets.brand%255B%255D%3DHaier&p%5B%5D=facets.brand%255B%255D%3DAcer&p%5B%5D=facets.brand%255B%255D%3DSansui&p%5B%5D=facets.brand%255B%255D%3DKODAK&p%5B%5D=facets.brand%255B%255D%3DBlaupunkt&p%5B%5D=facets.brand%255B%255D%3DiFFALCON&p%5B%5D=facets.brand%255B%255D%3DVu&p%5B%5D=facets.brand%255B%255D%3DLloyd&p%5B%5D=facets.brand%255B%255D%3DCoocaa&p%5B%5D=facets.brand%255B%255D%3DBPL&p%5B%5D=facets.brand%255B%255D%3Dskylive&p%5B%5D=facets.brand%255B%255D%3DONIDA&p%5B%5D=facets.brand%255B%255D%3DDyanora&p%5B%5D=facets.brand%255B%255D%3DHyundai&p%5B%5D=facets.brand%255B%255D%3DAdmiral&page=7\n",
      "https://www.flipkart.com/search?q=tv+smart+tv&sid=ckf%2Cczl&as=on&as-show=on&otracker=AS_QueryStore_OrganicAutoSuggest_1_3_na_na_ps&otracker1=AS_QueryStore_OrganicAutoSuggest_1_3_na_na_ps&as-pos=1&as-type=RECENT&suggestionId=tv+smart+tv%7CTelevisions&requestId=4a66db9c-a5d7-4bd1-a82c-970ddd816d66&as-searchtext=tv+&p%5B%5D=facets.screen_size%255B%255D%3D39%2B-%2B43%2Binch&p%5B%5D=facets.screen_size%255B%255D%3D48%2B-%2B55%2Binch&p%5B%5D=facets.screen_size%255B%255D%3D60%2Binch%2B%2BAbove&p%5B%5D=facets.brand%255B%255D%3DSAMSUNG&p%5B%5D=facets.brand%255B%255D%3DSONY&p%5B%5D=facets.brand%255B%255D%3DLG&p%5B%5D=facets.brand%255B%255D%3DMi&p%5B%5D=facets.brand%255B%255D%3DMOTOROLA&p%5B%5D=facets.brand%255B%255D%3DHisense&p%5B%5D=facets.brand%255B%255D%3DInfinix&p%5B%5D=facets.brand%255B%255D%3DThomson&p%5B%5D=facets.brand%255B%255D%3DCANDY&p%5B%5D=facets.brand%255B%255D%3DTCL&p%5B%5D=facets.brand%255B%255D%3DSENS&p%5B%5D=facets.brand%255B%255D%3DTOSHIBA&p%5B%5D=facets.brand%255B%255D%3DHaier&p%5B%5D=facets.brand%255B%255D%3DAcer&p%5B%5D=facets.brand%255B%255D%3DSansui&p%5B%5D=facets.brand%255B%255D%3DKODAK&p%5B%5D=facets.brand%255B%255D%3DBlaupunkt&p%5B%5D=facets.brand%255B%255D%3DiFFALCON&p%5B%5D=facets.brand%255B%255D%3DVu&p%5B%5D=facets.brand%255B%255D%3DLloyd&p%5B%5D=facets.brand%255B%255D%3DCoocaa&p%5B%5D=facets.brand%255B%255D%3DBPL&p%5B%5D=facets.brand%255B%255D%3Dskylive&p%5B%5D=facets.brand%255B%255D%3DONIDA&p%5B%5D=facets.brand%255B%255D%3DDyanora&p%5B%5D=facets.brand%255B%255D%3DHyundai&p%5B%5D=facets.brand%255B%255D%3DAdmiral&page=8\n",
      "https://www.flipkart.com/search?q=tv+smart+tv&sid=ckf%2Cczl&as=on&as-show=on&otracker=AS_QueryStore_OrganicAutoSuggest_1_3_na_na_ps&otracker1=AS_QueryStore_OrganicAutoSuggest_1_3_na_na_ps&as-pos=1&as-type=RECENT&suggestionId=tv+smart+tv%7CTelevisions&requestId=4a66db9c-a5d7-4bd1-a82c-970ddd816d66&as-searchtext=tv+&p%5B%5D=facets.screen_size%255B%255D%3D39%2B-%2B43%2Binch&p%5B%5D=facets.screen_size%255B%255D%3D48%2B-%2B55%2Binch&p%5B%5D=facets.screen_size%255B%255D%3D60%2Binch%2B%2BAbove&p%5B%5D=facets.brand%255B%255D%3DSAMSUNG&p%5B%5D=facets.brand%255B%255D%3DSONY&p%5B%5D=facets.brand%255B%255D%3DLG&p%5B%5D=facets.brand%255B%255D%3DMi&p%5B%5D=facets.brand%255B%255D%3DMOTOROLA&p%5B%5D=facets.brand%255B%255D%3DHisense&p%5B%5D=facets.brand%255B%255D%3DInfinix&p%5B%5D=facets.brand%255B%255D%3DThomson&p%5B%5D=facets.brand%255B%255D%3DCANDY&p%5B%5D=facets.brand%255B%255D%3DTCL&p%5B%5D=facets.brand%255B%255D%3DSENS&p%5B%5D=facets.brand%255B%255D%3DTOSHIBA&p%5B%5D=facets.brand%255B%255D%3DHaier&p%5B%5D=facets.brand%255B%255D%3DAcer&p%5B%5D=facets.brand%255B%255D%3DSansui&p%5B%5D=facets.brand%255B%255D%3DKODAK&p%5B%5D=facets.brand%255B%255D%3DBlaupunkt&p%5B%5D=facets.brand%255B%255D%3DiFFALCON&p%5B%5D=facets.brand%255B%255D%3DVu&p%5B%5D=facets.brand%255B%255D%3DLloyd&p%5B%5D=facets.brand%255B%255D%3DCoocaa&p%5B%5D=facets.brand%255B%255D%3DBPL&p%5B%5D=facets.brand%255B%255D%3Dskylive&p%5B%5D=facets.brand%255B%255D%3DONIDA&p%5B%5D=facets.brand%255B%255D%3DDyanora&p%5B%5D=facets.brand%255B%255D%3DHyundai&p%5B%5D=facets.brand%255B%255D%3DAdmiral&page=9\n",
      "https://www.flipkart.com/search?q=tv+smart+tv&sid=ckf%2Cczl&as=on&as-show=on&otracker=AS_QueryStore_OrganicAutoSuggest_1_3_na_na_ps&otracker1=AS_QueryStore_OrganicAutoSuggest_1_3_na_na_ps&as-pos=1&as-type=RECENT&suggestionId=tv+smart+tv%7CTelevisions&requestId=4a66db9c-a5d7-4bd1-a82c-970ddd816d66&as-searchtext=tv+&p%5B%5D=facets.screen_size%255B%255D%3D39%2B-%2B43%2Binch&p%5B%5D=facets.screen_size%255B%255D%3D48%2B-%2B55%2Binch&p%5B%5D=facets.screen_size%255B%255D%3D60%2Binch%2B%2BAbove&p%5B%5D=facets.brand%255B%255D%3DSAMSUNG&p%5B%5D=facets.brand%255B%255D%3DSONY&p%5B%5D=facets.brand%255B%255D%3DLG&p%5B%5D=facets.brand%255B%255D%3DMi&p%5B%5D=facets.brand%255B%255D%3DMOTOROLA&p%5B%5D=facets.brand%255B%255D%3DHisense&p%5B%5D=facets.brand%255B%255D%3DInfinix&p%5B%5D=facets.brand%255B%255D%3DThomson&p%5B%5D=facets.brand%255B%255D%3DCANDY&p%5B%5D=facets.brand%255B%255D%3DTCL&p%5B%5D=facets.brand%255B%255D%3DSENS&p%5B%5D=facets.brand%255B%255D%3DTOSHIBA&p%5B%5D=facets.brand%255B%255D%3DHaier&p%5B%5D=facets.brand%255B%255D%3DAcer&p%5B%5D=facets.brand%255B%255D%3DSansui&p%5B%5D=facets.brand%255B%255D%3DKODAK&p%5B%5D=facets.brand%255B%255D%3DBlaupunkt&p%5B%5D=facets.brand%255B%255D%3DiFFALCON&p%5B%5D=facets.brand%255B%255D%3DVu&p%5B%5D=facets.brand%255B%255D%3DLloyd&p%5B%5D=facets.brand%255B%255D%3DCoocaa&p%5B%5D=facets.brand%255B%255D%3DBPL&p%5B%5D=facets.brand%255B%255D%3Dskylive&p%5B%5D=facets.brand%255B%255D%3DONIDA&p%5B%5D=facets.brand%255B%255D%3DDyanora&p%5B%5D=facets.brand%255B%255D%3DHyundai&p%5B%5D=facets.brand%255B%255D%3DAdmiral&page=10\n",
      "https://www.flipkart.com/search?q=tv+smart+tv&sid=ckf%2Cczl&as=on&as-show=on&otracker=AS_QueryStore_OrganicAutoSuggest_1_3_na_na_ps&otracker1=AS_QueryStore_OrganicAutoSuggest_1_3_na_na_ps&as-pos=1&as-type=RECENT&suggestionId=tv+smart+tv%7CTelevisions&requestId=4a66db9c-a5d7-4bd1-a82c-970ddd816d66&as-searchtext=tv+&p%5B%5D=facets.screen_size%255B%255D%3D39%2B-%2B43%2Binch&p%5B%5D=facets.screen_size%255B%255D%3D48%2B-%2B55%2Binch&p%5B%5D=facets.screen_size%255B%255D%3D60%2Binch%2B%2BAbove&p%5B%5D=facets.brand%255B%255D%3DSAMSUNG&p%5B%5D=facets.brand%255B%255D%3DSONY&p%5B%5D=facets.brand%255B%255D%3DLG&p%5B%5D=facets.brand%255B%255D%3DMi&p%5B%5D=facets.brand%255B%255D%3DMOTOROLA&p%5B%5D=facets.brand%255B%255D%3DHisense&p%5B%5D=facets.brand%255B%255D%3DInfinix&p%5B%5D=facets.brand%255B%255D%3DThomson&p%5B%5D=facets.brand%255B%255D%3DCANDY&p%5B%5D=facets.brand%255B%255D%3DTCL&p%5B%5D=facets.brand%255B%255D%3DSENS&p%5B%5D=facets.brand%255B%255D%3DTOSHIBA&p%5B%5D=facets.brand%255B%255D%3DHaier&p%5B%5D=facets.brand%255B%255D%3DAcer&p%5B%5D=facets.brand%255B%255D%3DSansui&p%5B%5D=facets.brand%255B%255D%3DKODAK&p%5B%5D=facets.brand%255B%255D%3DBlaupunkt&p%5B%5D=facets.brand%255B%255D%3DiFFALCON&p%5B%5D=facets.brand%255B%255D%3DVu&p%5B%5D=facets.brand%255B%255D%3DLloyd&p%5B%5D=facets.brand%255B%255D%3DCoocaa&p%5B%5D=facets.brand%255B%255D%3DBPL&p%5B%5D=facets.brand%255B%255D%3Dskylive&p%5B%5D=facets.brand%255B%255D%3DONIDA&p%5B%5D=facets.brand%255B%255D%3DDyanora&p%5B%5D=facets.brand%255B%255D%3DHyundai&p%5B%5D=facets.brand%255B%255D%3DAdmiral&page=11\n",
      "https://www.flipkart.com/search?q=tv+smart+tv&sid=ckf%2Cczl&as=on&as-show=on&otracker=AS_QueryStore_OrganicAutoSuggest_1_3_na_na_ps&otracker1=AS_QueryStore_OrganicAutoSuggest_1_3_na_na_ps&as-pos=1&as-type=RECENT&suggestionId=tv+smart+tv%7CTelevisions&requestId=4a66db9c-a5d7-4bd1-a82c-970ddd816d66&as-searchtext=tv+&p%5B%5D=facets.screen_size%255B%255D%3D39%2B-%2B43%2Binch&p%5B%5D=facets.screen_size%255B%255D%3D48%2B-%2B55%2Binch&p%5B%5D=facets.screen_size%255B%255D%3D60%2Binch%2B%2BAbove&p%5B%5D=facets.brand%255B%255D%3DSAMSUNG&p%5B%5D=facets.brand%255B%255D%3DSONY&p%5B%5D=facets.brand%255B%255D%3DLG&p%5B%5D=facets.brand%255B%255D%3DMi&p%5B%5D=facets.brand%255B%255D%3DMOTOROLA&p%5B%5D=facets.brand%255B%255D%3DHisense&p%5B%5D=facets.brand%255B%255D%3DInfinix&p%5B%5D=facets.brand%255B%255D%3DThomson&p%5B%5D=facets.brand%255B%255D%3DCANDY&p%5B%5D=facets.brand%255B%255D%3DTCL&p%5B%5D=facets.brand%255B%255D%3DSENS&p%5B%5D=facets.brand%255B%255D%3DTOSHIBA&p%5B%5D=facets.brand%255B%255D%3DHaier&p%5B%5D=facets.brand%255B%255D%3DAcer&p%5B%5D=facets.brand%255B%255D%3DSansui&p%5B%5D=facets.brand%255B%255D%3DKODAK&p%5B%5D=facets.brand%255B%255D%3DBlaupunkt&p%5B%5D=facets.brand%255B%255D%3DiFFALCON&p%5B%5D=facets.brand%255B%255D%3DVu&p%5B%5D=facets.brand%255B%255D%3DLloyd&p%5B%5D=facets.brand%255B%255D%3DCoocaa&p%5B%5D=facets.brand%255B%255D%3DBPL&p%5B%5D=facets.brand%255B%255D%3Dskylive&p%5B%5D=facets.brand%255B%255D%3DONIDA&p%5B%5D=facets.brand%255B%255D%3DDyanora&p%5B%5D=facets.brand%255B%255D%3DHyundai&p%5B%5D=facets.brand%255B%255D%3DAdmiral&page=12\n",
      "https://www.flipkart.com/search?q=tv+smart+tv&sid=ckf%2Cczl&as=on&as-show=on&otracker=AS_QueryStore_OrganicAutoSuggest_1_3_na_na_ps&otracker1=AS_QueryStore_OrganicAutoSuggest_1_3_na_na_ps&as-pos=1&as-type=RECENT&suggestionId=tv+smart+tv%7CTelevisions&requestId=4a66db9c-a5d7-4bd1-a82c-970ddd816d66&as-searchtext=tv+&p%5B%5D=facets.screen_size%255B%255D%3D39%2B-%2B43%2Binch&p%5B%5D=facets.screen_size%255B%255D%3D48%2B-%2B55%2Binch&p%5B%5D=facets.screen_size%255B%255D%3D60%2Binch%2B%2BAbove&p%5B%5D=facets.brand%255B%255D%3DSAMSUNG&p%5B%5D=facets.brand%255B%255D%3DSONY&p%5B%5D=facets.brand%255B%255D%3DLG&p%5B%5D=facets.brand%255B%255D%3DMi&p%5B%5D=facets.brand%255B%255D%3DMOTOROLA&p%5B%5D=facets.brand%255B%255D%3DHisense&p%5B%5D=facets.brand%255B%255D%3DInfinix&p%5B%5D=facets.brand%255B%255D%3DThomson&p%5B%5D=facets.brand%255B%255D%3DCANDY&p%5B%5D=facets.brand%255B%255D%3DTCL&p%5B%5D=facets.brand%255B%255D%3DSENS&p%5B%5D=facets.brand%255B%255D%3DTOSHIBA&p%5B%5D=facets.brand%255B%255D%3DHaier&p%5B%5D=facets.brand%255B%255D%3DAcer&p%5B%5D=facets.brand%255B%255D%3DSansui&p%5B%5D=facets.brand%255B%255D%3DKODAK&p%5B%5D=facets.brand%255B%255D%3DBlaupunkt&p%5B%5D=facets.brand%255B%255D%3DiFFALCON&p%5B%5D=facets.brand%255B%255D%3DVu&p%5B%5D=facets.brand%255B%255D%3DLloyd&p%5B%5D=facets.brand%255B%255D%3DCoocaa&p%5B%5D=facets.brand%255B%255D%3DBPL&p%5B%5D=facets.brand%255B%255D%3Dskylive&p%5B%5D=facets.brand%255B%255D%3DONIDA&p%5B%5D=facets.brand%255B%255D%3DDyanora&p%5B%5D=facets.brand%255B%255D%3DHyundai&p%5B%5D=facets.brand%255B%255D%3DAdmiral&page=13\n",
      "https://www.flipkart.com/search?q=tv+smart+tv&sid=ckf%2Cczl&as=on&as-show=on&otracker=AS_QueryStore_OrganicAutoSuggest_1_3_na_na_ps&otracker1=AS_QueryStore_OrganicAutoSuggest_1_3_na_na_ps&as-pos=1&as-type=RECENT&suggestionId=tv+smart+tv%7CTelevisions&requestId=4a66db9c-a5d7-4bd1-a82c-970ddd816d66&as-searchtext=tv+&p%5B%5D=facets.screen_size%255B%255D%3D39%2B-%2B43%2Binch&p%5B%5D=facets.screen_size%255B%255D%3D48%2B-%2B55%2Binch&p%5B%5D=facets.screen_size%255B%255D%3D60%2Binch%2B%2BAbove&p%5B%5D=facets.brand%255B%255D%3DSAMSUNG&p%5B%5D=facets.brand%255B%255D%3DSONY&p%5B%5D=facets.brand%255B%255D%3DLG&p%5B%5D=facets.brand%255B%255D%3DMi&p%5B%5D=facets.brand%255B%255D%3DMOTOROLA&p%5B%5D=facets.brand%255B%255D%3DHisense&p%5B%5D=facets.brand%255B%255D%3DInfinix&p%5B%5D=facets.brand%255B%255D%3DThomson&p%5B%5D=facets.brand%255B%255D%3DCANDY&p%5B%5D=facets.brand%255B%255D%3DTCL&p%5B%5D=facets.brand%255B%255D%3DSENS&p%5B%5D=facets.brand%255B%255D%3DTOSHIBA&p%5B%5D=facets.brand%255B%255D%3DHaier&p%5B%5D=facets.brand%255B%255D%3DAcer&p%5B%5D=facets.brand%255B%255D%3DSansui&p%5B%5D=facets.brand%255B%255D%3DKODAK&p%5B%5D=facets.brand%255B%255D%3DBlaupunkt&p%5B%5D=facets.brand%255B%255D%3DiFFALCON&p%5B%5D=facets.brand%255B%255D%3DVu&p%5B%5D=facets.brand%255B%255D%3DLloyd&p%5B%5D=facets.brand%255B%255D%3DCoocaa&p%5B%5D=facets.brand%255B%255D%3DBPL&p%5B%5D=facets.brand%255B%255D%3Dskylive&p%5B%5D=facets.brand%255B%255D%3DONIDA&p%5B%5D=facets.brand%255B%255D%3DDyanora&p%5B%5D=facets.brand%255B%255D%3DHyundai&p%5B%5D=facets.brand%255B%255D%3DAdmiral&page=14\n",
      "https://www.flipkart.com/search?q=tv+smart+tv&sid=ckf%2Cczl&as=on&as-show=on&otracker=AS_QueryStore_OrganicAutoSuggest_1_3_na_na_ps&otracker1=AS_QueryStore_OrganicAutoSuggest_1_3_na_na_ps&as-pos=1&as-type=RECENT&suggestionId=tv+smart+tv%7CTelevisions&requestId=4a66db9c-a5d7-4bd1-a82c-970ddd816d66&as-searchtext=tv+&p%5B%5D=facets.screen_size%255B%255D%3D39%2B-%2B43%2Binch&p%5B%5D=facets.screen_size%255B%255D%3D48%2B-%2B55%2Binch&p%5B%5D=facets.screen_size%255B%255D%3D60%2Binch%2B%2BAbove&p%5B%5D=facets.brand%255B%255D%3DSAMSUNG&p%5B%5D=facets.brand%255B%255D%3DSONY&p%5B%5D=facets.brand%255B%255D%3DLG&p%5B%5D=facets.brand%255B%255D%3DMi&p%5B%5D=facets.brand%255B%255D%3DMOTOROLA&p%5B%5D=facets.brand%255B%255D%3DHisense&p%5B%5D=facets.brand%255B%255D%3DInfinix&p%5B%5D=facets.brand%255B%255D%3DThomson&p%5B%5D=facets.brand%255B%255D%3DCANDY&p%5B%5D=facets.brand%255B%255D%3DTCL&p%5B%5D=facets.brand%255B%255D%3DSENS&p%5B%5D=facets.brand%255B%255D%3DTOSHIBA&p%5B%5D=facets.brand%255B%255D%3DHaier&p%5B%5D=facets.brand%255B%255D%3DAcer&p%5B%5D=facets.brand%255B%255D%3DSansui&p%5B%5D=facets.brand%255B%255D%3DKODAK&p%5B%5D=facets.brand%255B%255D%3DBlaupunkt&p%5B%5D=facets.brand%255B%255D%3DiFFALCON&p%5B%5D=facets.brand%255B%255D%3DVu&p%5B%5D=facets.brand%255B%255D%3DLloyd&p%5B%5D=facets.brand%255B%255D%3DCoocaa&p%5B%5D=facets.brand%255B%255D%3DBPL&p%5B%5D=facets.brand%255B%255D%3Dskylive&p%5B%5D=facets.brand%255B%255D%3DONIDA&p%5B%5D=facets.brand%255B%255D%3DDyanora&p%5B%5D=facets.brand%255B%255D%3DHyundai&p%5B%5D=facets.brand%255B%255D%3DAdmiral&page=15\n",
      "https://www.flipkart.com/search?q=tv+smart+tv&sid=ckf%2Cczl&as=on&as-show=on&otracker=AS_QueryStore_OrganicAutoSuggest_1_3_na_na_ps&otracker1=AS_QueryStore_OrganicAutoSuggest_1_3_na_na_ps&as-pos=1&as-type=RECENT&suggestionId=tv+smart+tv%7CTelevisions&requestId=4a66db9c-a5d7-4bd1-a82c-970ddd816d66&as-searchtext=tv+&p%5B%5D=facets.screen_size%255B%255D%3D39%2B-%2B43%2Binch&p%5B%5D=facets.screen_size%255B%255D%3D48%2B-%2B55%2Binch&p%5B%5D=facets.screen_size%255B%255D%3D60%2Binch%2B%2BAbove&p%5B%5D=facets.brand%255B%255D%3DSAMSUNG&p%5B%5D=facets.brand%255B%255D%3DSONY&p%5B%5D=facets.brand%255B%255D%3DLG&p%5B%5D=facets.brand%255B%255D%3DMi&p%5B%5D=facets.brand%255B%255D%3DMOTOROLA&p%5B%5D=facets.brand%255B%255D%3DHisense&p%5B%5D=facets.brand%255B%255D%3DInfinix&p%5B%5D=facets.brand%255B%255D%3DThomson&p%5B%5D=facets.brand%255B%255D%3DCANDY&p%5B%5D=facets.brand%255B%255D%3DTCL&p%5B%5D=facets.brand%255B%255D%3DSENS&p%5B%5D=facets.brand%255B%255D%3DTOSHIBA&p%5B%5D=facets.brand%255B%255D%3DHaier&p%5B%5D=facets.brand%255B%255D%3DAcer&p%5B%5D=facets.brand%255B%255D%3DSansui&p%5B%5D=facets.brand%255B%255D%3DKODAK&p%5B%5D=facets.brand%255B%255D%3DBlaupunkt&p%5B%5D=facets.brand%255B%255D%3DiFFALCON&p%5B%5D=facets.brand%255B%255D%3DVu&p%5B%5D=facets.brand%255B%255D%3DLloyd&p%5B%5D=facets.brand%255B%255D%3DCoocaa&p%5B%5D=facets.brand%255B%255D%3DBPL&p%5B%5D=facets.brand%255B%255D%3Dskylive&p%5B%5D=facets.brand%255B%255D%3DONIDA&p%5B%5D=facets.brand%255B%255D%3DDyanora&p%5B%5D=facets.brand%255B%255D%3DHyundai&p%5B%5D=facets.brand%255B%255D%3DAdmiral&page=16\n",
      "https://www.flipkart.com/search?q=tv+smart+tv&sid=ckf%2Cczl&as=on&as-show=on&otracker=AS_QueryStore_OrganicAutoSuggest_1_3_na_na_ps&otracker1=AS_QueryStore_OrganicAutoSuggest_1_3_na_na_ps&as-pos=1&as-type=RECENT&suggestionId=tv+smart+tv%7CTelevisions&requestId=4a66db9c-a5d7-4bd1-a82c-970ddd816d66&as-searchtext=tv+&p%5B%5D=facets.screen_size%255B%255D%3D39%2B-%2B43%2Binch&p%5B%5D=facets.screen_size%255B%255D%3D48%2B-%2B55%2Binch&p%5B%5D=facets.screen_size%255B%255D%3D60%2Binch%2B%2BAbove&p%5B%5D=facets.brand%255B%255D%3DSAMSUNG&p%5B%5D=facets.brand%255B%255D%3DSONY&p%5B%5D=facets.brand%255B%255D%3DLG&p%5B%5D=facets.brand%255B%255D%3DMi&p%5B%5D=facets.brand%255B%255D%3DMOTOROLA&p%5B%5D=facets.brand%255B%255D%3DHisense&p%5B%5D=facets.brand%255B%255D%3DInfinix&p%5B%5D=facets.brand%255B%255D%3DThomson&p%5B%5D=facets.brand%255B%255D%3DCANDY&p%5B%5D=facets.brand%255B%255D%3DTCL&p%5B%5D=facets.brand%255B%255D%3DSENS&p%5B%5D=facets.brand%255B%255D%3DTOSHIBA&p%5B%5D=facets.brand%255B%255D%3DHaier&p%5B%5D=facets.brand%255B%255D%3DAcer&p%5B%5D=facets.brand%255B%255D%3DSansui&p%5B%5D=facets.brand%255B%255D%3DKODAK&p%5B%5D=facets.brand%255B%255D%3DBlaupunkt&p%5B%5D=facets.brand%255B%255D%3DiFFALCON&p%5B%5D=facets.brand%255B%255D%3DVu&p%5B%5D=facets.brand%255B%255D%3DLloyd&p%5B%5D=facets.brand%255B%255D%3DCoocaa&p%5B%5D=facets.brand%255B%255D%3DBPL&p%5B%5D=facets.brand%255B%255D%3Dskylive&p%5B%5D=facets.brand%255B%255D%3DONIDA&p%5B%5D=facets.brand%255B%255D%3DDyanora&p%5B%5D=facets.brand%255B%255D%3DHyundai&p%5B%5D=facets.brand%255B%255D%3DAdmiral&page=17\n",
      "https://www.flipkart.com/search?q=tv+smart+tv&sid=ckf%2Cczl&as=on&as-show=on&otracker=AS_QueryStore_OrganicAutoSuggest_1_3_na_na_ps&otracker1=AS_QueryStore_OrganicAutoSuggest_1_3_na_na_ps&as-pos=1&as-type=RECENT&suggestionId=tv+smart+tv%7CTelevisions&requestId=4a66db9c-a5d7-4bd1-a82c-970ddd816d66&as-searchtext=tv+&p%5B%5D=facets.screen_size%255B%255D%3D39%2B-%2B43%2Binch&p%5B%5D=facets.screen_size%255B%255D%3D48%2B-%2B55%2Binch&p%5B%5D=facets.screen_size%255B%255D%3D60%2Binch%2B%2BAbove&p%5B%5D=facets.brand%255B%255D%3DSAMSUNG&p%5B%5D=facets.brand%255B%255D%3DSONY&p%5B%5D=facets.brand%255B%255D%3DLG&p%5B%5D=facets.brand%255B%255D%3DMi&p%5B%5D=facets.brand%255B%255D%3DMOTOROLA&p%5B%5D=facets.brand%255B%255D%3DHisense&p%5B%5D=facets.brand%255B%255D%3DInfinix&p%5B%5D=facets.brand%255B%255D%3DThomson&p%5B%5D=facets.brand%255B%255D%3DCANDY&p%5B%5D=facets.brand%255B%255D%3DTCL&p%5B%5D=facets.brand%255B%255D%3DSENS&p%5B%5D=facets.brand%255B%255D%3DTOSHIBA&p%5B%5D=facets.brand%255B%255D%3DHaier&p%5B%5D=facets.brand%255B%255D%3DAcer&p%5B%5D=facets.brand%255B%255D%3DSansui&p%5B%5D=facets.brand%255B%255D%3DKODAK&p%5B%5D=facets.brand%255B%255D%3DBlaupunkt&p%5B%5D=facets.brand%255B%255D%3DiFFALCON&p%5B%5D=facets.brand%255B%255D%3DVu&p%5B%5D=facets.brand%255B%255D%3DLloyd&p%5B%5D=facets.brand%255B%255D%3DCoocaa&p%5B%5D=facets.brand%255B%255D%3DBPL&p%5B%5D=facets.brand%255B%255D%3Dskylive&p%5B%5D=facets.brand%255B%255D%3DONIDA&p%5B%5D=facets.brand%255B%255D%3DDyanora&p%5B%5D=facets.brand%255B%255D%3DHyundai&p%5B%5D=facets.brand%255B%255D%3DAdmiral&page=18\n",
      "https://www.flipkart.com/search?q=tv+smart+tv&sid=ckf%2Cczl&as=on&as-show=on&otracker=AS_QueryStore_OrganicAutoSuggest_1_3_na_na_ps&otracker1=AS_QueryStore_OrganicAutoSuggest_1_3_na_na_ps&as-pos=1&as-type=RECENT&suggestionId=tv+smart+tv%7CTelevisions&requestId=4a66db9c-a5d7-4bd1-a82c-970ddd816d66&as-searchtext=tv+&p%5B%5D=facets.screen_size%255B%255D%3D39%2B-%2B43%2Binch&p%5B%5D=facets.screen_size%255B%255D%3D48%2B-%2B55%2Binch&p%5B%5D=facets.screen_size%255B%255D%3D60%2Binch%2B%2BAbove&p%5B%5D=facets.brand%255B%255D%3DSAMSUNG&p%5B%5D=facets.brand%255B%255D%3DSONY&p%5B%5D=facets.brand%255B%255D%3DLG&p%5B%5D=facets.brand%255B%255D%3DMi&p%5B%5D=facets.brand%255B%255D%3DMOTOROLA&p%5B%5D=facets.brand%255B%255D%3DHisense&p%5B%5D=facets.brand%255B%255D%3DInfinix&p%5B%5D=facets.brand%255B%255D%3DThomson&p%5B%5D=facets.brand%255B%255D%3DCANDY&p%5B%5D=facets.brand%255B%255D%3DTCL&p%5B%5D=facets.brand%255B%255D%3DSENS&p%5B%5D=facets.brand%255B%255D%3DTOSHIBA&p%5B%5D=facets.brand%255B%255D%3DHaier&p%5B%5D=facets.brand%255B%255D%3DAcer&p%5B%5D=facets.brand%255B%255D%3DSansui&p%5B%5D=facets.brand%255B%255D%3DKODAK&p%5B%5D=facets.brand%255B%255D%3DBlaupunkt&p%5B%5D=facets.brand%255B%255D%3DiFFALCON&p%5B%5D=facets.brand%255B%255D%3DVu&p%5B%5D=facets.brand%255B%255D%3DLloyd&p%5B%5D=facets.brand%255B%255D%3DCoocaa&p%5B%5D=facets.brand%255B%255D%3DBPL&p%5B%5D=facets.brand%255B%255D%3Dskylive&p%5B%5D=facets.brand%255B%255D%3DONIDA&p%5B%5D=facets.brand%255B%255D%3DDyanora&p%5B%5D=facets.brand%255B%255D%3DHyundai&p%5B%5D=facets.brand%255B%255D%3DAdmiral&page=19\n",
      "https://www.flipkart.com/search?q=tv+smart+tv&sid=ckf%2Cczl&as=on&as-show=on&otracker=AS_QueryStore_OrganicAutoSuggest_1_3_na_na_ps&otracker1=AS_QueryStore_OrganicAutoSuggest_1_3_na_na_ps&as-pos=1&as-type=RECENT&suggestionId=tv+smart+tv%7CTelevisions&requestId=4a66db9c-a5d7-4bd1-a82c-970ddd816d66&as-searchtext=tv+&p%5B%5D=facets.screen_size%255B%255D%3D39%2B-%2B43%2Binch&p%5B%5D=facets.screen_size%255B%255D%3D48%2B-%2B55%2Binch&p%5B%5D=facets.screen_size%255B%255D%3D60%2Binch%2B%2BAbove&p%5B%5D=facets.brand%255B%255D%3DSAMSUNG&p%5B%5D=facets.brand%255B%255D%3DSONY&p%5B%5D=facets.brand%255B%255D%3DLG&p%5B%5D=facets.brand%255B%255D%3DMi&p%5B%5D=facets.brand%255B%255D%3DMOTOROLA&p%5B%5D=facets.brand%255B%255D%3DHisense&p%5B%5D=facets.brand%255B%255D%3DInfinix&p%5B%5D=facets.brand%255B%255D%3DThomson&p%5B%5D=facets.brand%255B%255D%3DCANDY&p%5B%5D=facets.brand%255B%255D%3DTCL&p%5B%5D=facets.brand%255B%255D%3DSENS&p%5B%5D=facets.brand%255B%255D%3DTOSHIBA&p%5B%5D=facets.brand%255B%255D%3DHaier&p%5B%5D=facets.brand%255B%255D%3DAcer&p%5B%5D=facets.brand%255B%255D%3DSansui&p%5B%5D=facets.brand%255B%255D%3DKODAK&p%5B%5D=facets.brand%255B%255D%3DBlaupunkt&p%5B%5D=facets.brand%255B%255D%3DiFFALCON&p%5B%5D=facets.brand%255B%255D%3DVu&p%5B%5D=facets.brand%255B%255D%3DLloyd&p%5B%5D=facets.brand%255B%255D%3DCoocaa&p%5B%5D=facets.brand%255B%255D%3DBPL&p%5B%5D=facets.brand%255B%255D%3Dskylive&p%5B%5D=facets.brand%255B%255D%3DONIDA&p%5B%5D=facets.brand%255B%255D%3DDyanora&p%5B%5D=facets.brand%255B%255D%3DHyundai&p%5B%5D=facets.brand%255B%255D%3DAdmiral&page=20\n",
      "https://www.flipkart.com/search?q=tv+smart+tv&sid=ckf%2Cczl&as=on&as-show=on&otracker=AS_QueryStore_OrganicAutoSuggest_1_3_na_na_ps&otracker1=AS_QueryStore_OrganicAutoSuggest_1_3_na_na_ps&as-pos=1&as-type=RECENT&suggestionId=tv+smart+tv%7CTelevisions&requestId=4a66db9c-a5d7-4bd1-a82c-970ddd816d66&as-searchtext=tv+&p%5B%5D=facets.screen_size%255B%255D%3D39%2B-%2B43%2Binch&p%5B%5D=facets.screen_size%255B%255D%3D48%2B-%2B55%2Binch&p%5B%5D=facets.screen_size%255B%255D%3D60%2Binch%2B%2BAbove&p%5B%5D=facets.brand%255B%255D%3DSAMSUNG&p%5B%5D=facets.brand%255B%255D%3DSONY&p%5B%5D=facets.brand%255B%255D%3DLG&p%5B%5D=facets.brand%255B%255D%3DMi&p%5B%5D=facets.brand%255B%255D%3DMOTOROLA&p%5B%5D=facets.brand%255B%255D%3DHisense&p%5B%5D=facets.brand%255B%255D%3DInfinix&p%5B%5D=facets.brand%255B%255D%3DThomson&p%5B%5D=facets.brand%255B%255D%3DCANDY&p%5B%5D=facets.brand%255B%255D%3DTCL&p%5B%5D=facets.brand%255B%255D%3DSENS&p%5B%5D=facets.brand%255B%255D%3DTOSHIBA&p%5B%5D=facets.brand%255B%255D%3DHaier&p%5B%5D=facets.brand%255B%255D%3DAcer&p%5B%5D=facets.brand%255B%255D%3DSansui&p%5B%5D=facets.brand%255B%255D%3DKODAK&p%5B%5D=facets.brand%255B%255D%3DBlaupunkt&p%5B%5D=facets.brand%255B%255D%3DiFFALCON&p%5B%5D=facets.brand%255B%255D%3DVu&p%5B%5D=facets.brand%255B%255D%3DLloyd&p%5B%5D=facets.brand%255B%255D%3DCoocaa&p%5B%5D=facets.brand%255B%255D%3DBPL&p%5B%5D=facets.brand%255B%255D%3Dskylive&p%5B%5D=facets.brand%255B%255D%3DONIDA&p%5B%5D=facets.brand%255B%255D%3DDyanora&p%5B%5D=facets.brand%255B%255D%3DHyundai&p%5B%5D=facets.brand%255B%255D%3DAdmiral&page=21\n",
      "https://www.flipkart.com/search?q=tv+smart+tv&sid=ckf%2Cczl&as=on&as-show=on&otracker=AS_QueryStore_OrganicAutoSuggest_1_3_na_na_ps&otracker1=AS_QueryStore_OrganicAutoSuggest_1_3_na_na_ps&as-pos=1&as-type=RECENT&suggestionId=tv+smart+tv%7CTelevisions&requestId=4a66db9c-a5d7-4bd1-a82c-970ddd816d66&as-searchtext=tv+&p%5B%5D=facets.screen_size%255B%255D%3D39%2B-%2B43%2Binch&p%5B%5D=facets.screen_size%255B%255D%3D48%2B-%2B55%2Binch&p%5B%5D=facets.screen_size%255B%255D%3D60%2Binch%2B%2BAbove&p%5B%5D=facets.brand%255B%255D%3DSAMSUNG&p%5B%5D=facets.brand%255B%255D%3DSONY&p%5B%5D=facets.brand%255B%255D%3DLG&p%5B%5D=facets.brand%255B%255D%3DMi&p%5B%5D=facets.brand%255B%255D%3DMOTOROLA&p%5B%5D=facets.brand%255B%255D%3DHisense&p%5B%5D=facets.brand%255B%255D%3DInfinix&p%5B%5D=facets.brand%255B%255D%3DThomson&p%5B%5D=facets.brand%255B%255D%3DCANDY&p%5B%5D=facets.brand%255B%255D%3DTCL&p%5B%5D=facets.brand%255B%255D%3DSENS&p%5B%5D=facets.brand%255B%255D%3DTOSHIBA&p%5B%5D=facets.brand%255B%255D%3DHaier&p%5B%5D=facets.brand%255B%255D%3DAcer&p%5B%5D=facets.brand%255B%255D%3DSansui&p%5B%5D=facets.brand%255B%255D%3DKODAK&p%5B%5D=facets.brand%255B%255D%3DBlaupunkt&p%5B%5D=facets.brand%255B%255D%3DiFFALCON&p%5B%5D=facets.brand%255B%255D%3DVu&p%5B%5D=facets.brand%255B%255D%3DLloyd&p%5B%5D=facets.brand%255B%255D%3DCoocaa&p%5B%5D=facets.brand%255B%255D%3DBPL&p%5B%5D=facets.brand%255B%255D%3Dskylive&p%5B%5D=facets.brand%255B%255D%3DONIDA&p%5B%5D=facets.brand%255B%255D%3DDyanora&p%5B%5D=facets.brand%255B%255D%3DHyundai&p%5B%5D=facets.brand%255B%255D%3DAdmiral&page=22\n",
      "https://www.flipkart.com/search?q=tv+smart+tv&sid=ckf%2Cczl&as=on&as-show=on&otracker=AS_QueryStore_OrganicAutoSuggest_1_3_na_na_ps&otracker1=AS_QueryStore_OrganicAutoSuggest_1_3_na_na_ps&as-pos=1&as-type=RECENT&suggestionId=tv+smart+tv%7CTelevisions&requestId=4a66db9c-a5d7-4bd1-a82c-970ddd816d66&as-searchtext=tv+&p%5B%5D=facets.screen_size%255B%255D%3D39%2B-%2B43%2Binch&p%5B%5D=facets.screen_size%255B%255D%3D48%2B-%2B55%2Binch&p%5B%5D=facets.screen_size%255B%255D%3D60%2Binch%2B%2BAbove&p%5B%5D=facets.brand%255B%255D%3DSAMSUNG&p%5B%5D=facets.brand%255B%255D%3DSONY&p%5B%5D=facets.brand%255B%255D%3DLG&p%5B%5D=facets.brand%255B%255D%3DMi&p%5B%5D=facets.brand%255B%255D%3DMOTOROLA&p%5B%5D=facets.brand%255B%255D%3DHisense&p%5B%5D=facets.brand%255B%255D%3DInfinix&p%5B%5D=facets.brand%255B%255D%3DThomson&p%5B%5D=facets.brand%255B%255D%3DCANDY&p%5B%5D=facets.brand%255B%255D%3DTCL&p%5B%5D=facets.brand%255B%255D%3DSENS&p%5B%5D=facets.brand%255B%255D%3DTOSHIBA&p%5B%5D=facets.brand%255B%255D%3DHaier&p%5B%5D=facets.brand%255B%255D%3DAcer&p%5B%5D=facets.brand%255B%255D%3DSansui&p%5B%5D=facets.brand%255B%255D%3DKODAK&p%5B%5D=facets.brand%255B%255D%3DBlaupunkt&p%5B%5D=facets.brand%255B%255D%3DiFFALCON&p%5B%5D=facets.brand%255B%255D%3DVu&p%5B%5D=facets.brand%255B%255D%3DLloyd&p%5B%5D=facets.brand%255B%255D%3DCoocaa&p%5B%5D=facets.brand%255B%255D%3DBPL&p%5B%5D=facets.brand%255B%255D%3Dskylive&p%5B%5D=facets.brand%255B%255D%3DONIDA&p%5B%5D=facets.brand%255B%255D%3DDyanora&p%5B%5D=facets.brand%255B%255D%3DHyundai&p%5B%5D=facets.brand%255B%255D%3DAdmiral&page=23\n",
      "https://www.flipkart.com/search?q=tv+smart+tv&sid=ckf%2Cczl&as=on&as-show=on&otracker=AS_QueryStore_OrganicAutoSuggest_1_3_na_na_ps&otracker1=AS_QueryStore_OrganicAutoSuggest_1_3_na_na_ps&as-pos=1&as-type=RECENT&suggestionId=tv+smart+tv%7CTelevisions&requestId=4a66db9c-a5d7-4bd1-a82c-970ddd816d66&as-searchtext=tv+&p%5B%5D=facets.screen_size%255B%255D%3D39%2B-%2B43%2Binch&p%5B%5D=facets.screen_size%255B%255D%3D48%2B-%2B55%2Binch&p%5B%5D=facets.screen_size%255B%255D%3D60%2Binch%2B%2BAbove&p%5B%5D=facets.brand%255B%255D%3DSAMSUNG&p%5B%5D=facets.brand%255B%255D%3DSONY&p%5B%5D=facets.brand%255B%255D%3DLG&p%5B%5D=facets.brand%255B%255D%3DMi&p%5B%5D=facets.brand%255B%255D%3DMOTOROLA&p%5B%5D=facets.brand%255B%255D%3DHisense&p%5B%5D=facets.brand%255B%255D%3DInfinix&p%5B%5D=facets.brand%255B%255D%3DThomson&p%5B%5D=facets.brand%255B%255D%3DCANDY&p%5B%5D=facets.brand%255B%255D%3DTCL&p%5B%5D=facets.brand%255B%255D%3DSENS&p%5B%5D=facets.brand%255B%255D%3DTOSHIBA&p%5B%5D=facets.brand%255B%255D%3DHaier&p%5B%5D=facets.brand%255B%255D%3DAcer&p%5B%5D=facets.brand%255B%255D%3DSansui&p%5B%5D=facets.brand%255B%255D%3DKODAK&p%5B%5D=facets.brand%255B%255D%3DBlaupunkt&p%5B%5D=facets.brand%255B%255D%3DiFFALCON&p%5B%5D=facets.brand%255B%255D%3DVu&p%5B%5D=facets.brand%255B%255D%3DLloyd&p%5B%5D=facets.brand%255B%255D%3DCoocaa&p%5B%5D=facets.brand%255B%255D%3DBPL&p%5B%5D=facets.brand%255B%255D%3Dskylive&p%5B%5D=facets.brand%255B%255D%3DONIDA&p%5B%5D=facets.brand%255B%255D%3DDyanora&p%5B%5D=facets.brand%255B%255D%3DHyundai&p%5B%5D=facets.brand%255B%255D%3DAdmiral&page=24\n",
      "https://www.flipkart.com/search?q=tv+smart+tv&sid=ckf%2Cczl&as=on&as-show=on&otracker=AS_QueryStore_OrganicAutoSuggest_1_3_na_na_ps&otracker1=AS_QueryStore_OrganicAutoSuggest_1_3_na_na_ps&as-pos=1&as-type=RECENT&suggestionId=tv+smart+tv%7CTelevisions&requestId=4a66db9c-a5d7-4bd1-a82c-970ddd816d66&as-searchtext=tv+&p%5B%5D=facets.screen_size%255B%255D%3D39%2B-%2B43%2Binch&p%5B%5D=facets.screen_size%255B%255D%3D48%2B-%2B55%2Binch&p%5B%5D=facets.screen_size%255B%255D%3D60%2Binch%2B%2BAbove&p%5B%5D=facets.brand%255B%255D%3DSAMSUNG&p%5B%5D=facets.brand%255B%255D%3DSONY&p%5B%5D=facets.brand%255B%255D%3DLG&p%5B%5D=facets.brand%255B%255D%3DMi&p%5B%5D=facets.brand%255B%255D%3DMOTOROLA&p%5B%5D=facets.brand%255B%255D%3DHisense&p%5B%5D=facets.brand%255B%255D%3DInfinix&p%5B%5D=facets.brand%255B%255D%3DThomson&p%5B%5D=facets.brand%255B%255D%3DCANDY&p%5B%5D=facets.brand%255B%255D%3DTCL&p%5B%5D=facets.brand%255B%255D%3DSENS&p%5B%5D=facets.brand%255B%255D%3DTOSHIBA&p%5B%5D=facets.brand%255B%255D%3DHaier&p%5B%5D=facets.brand%255B%255D%3DAcer&p%5B%5D=facets.brand%255B%255D%3DSansui&p%5B%5D=facets.brand%255B%255D%3DKODAK&p%5B%5D=facets.brand%255B%255D%3DBlaupunkt&p%5B%5D=facets.brand%255B%255D%3DiFFALCON&p%5B%5D=facets.brand%255B%255D%3DVu&p%5B%5D=facets.brand%255B%255D%3DLloyd&p%5B%5D=facets.brand%255B%255D%3DCoocaa&p%5B%5D=facets.brand%255B%255D%3DBPL&p%5B%5D=facets.brand%255B%255D%3Dskylive&p%5B%5D=facets.brand%255B%255D%3DONIDA&p%5B%5D=facets.brand%255B%255D%3DDyanora&p%5B%5D=facets.brand%255B%255D%3DHyundai&p%5B%5D=facets.brand%255B%255D%3DAdmiral&page=25\n",
      "https://www.flipkart.com/search?q=tv+smart+tv&sid=ckf%2Cczl&as=on&as-show=on&otracker=AS_QueryStore_OrganicAutoSuggest_1_3_na_na_ps&otracker1=AS_QueryStore_OrganicAutoSuggest_1_3_na_na_ps&as-pos=1&as-type=RECENT&suggestionId=tv+smart+tv%7CTelevisions&requestId=4a66db9c-a5d7-4bd1-a82c-970ddd816d66&as-searchtext=tv+&p%5B%5D=facets.screen_size%255B%255D%3D39%2B-%2B43%2Binch&p%5B%5D=facets.screen_size%255B%255D%3D48%2B-%2B55%2Binch&p%5B%5D=facets.screen_size%255B%255D%3D60%2Binch%2B%2BAbove&p%5B%5D=facets.brand%255B%255D%3DSAMSUNG&p%5B%5D=facets.brand%255B%255D%3DSONY&p%5B%5D=facets.brand%255B%255D%3DLG&p%5B%5D=facets.brand%255B%255D%3DMi&p%5B%5D=facets.brand%255B%255D%3DMOTOROLA&p%5B%5D=facets.brand%255B%255D%3DHisense&p%5B%5D=facets.brand%255B%255D%3DInfinix&p%5B%5D=facets.brand%255B%255D%3DThomson&p%5B%5D=facets.brand%255B%255D%3DCANDY&p%5B%5D=facets.brand%255B%255D%3DTCL&p%5B%5D=facets.brand%255B%255D%3DSENS&p%5B%5D=facets.brand%255B%255D%3DTOSHIBA&p%5B%5D=facets.brand%255B%255D%3DHaier&p%5B%5D=facets.brand%255B%255D%3DAcer&p%5B%5D=facets.brand%255B%255D%3DSansui&p%5B%5D=facets.brand%255B%255D%3DKODAK&p%5B%5D=facets.brand%255B%255D%3DBlaupunkt&p%5B%5D=facets.brand%255B%255D%3DiFFALCON&p%5B%5D=facets.brand%255B%255D%3DVu&p%5B%5D=facets.brand%255B%255D%3DLloyd&p%5B%5D=facets.brand%255B%255D%3DCoocaa&p%5B%5D=facets.brand%255B%255D%3DBPL&p%5B%5D=facets.brand%255B%255D%3Dskylive&p%5B%5D=facets.brand%255B%255D%3DONIDA&p%5B%5D=facets.brand%255B%255D%3DDyanora&p%5B%5D=facets.brand%255B%255D%3DHyundai&p%5B%5D=facets.brand%255B%255D%3DAdmiral&page=26\n",
      "https://www.flipkart.com/search?q=tv+smart+tv&sid=ckf%2Cczl&as=on&as-show=on&otracker=AS_QueryStore_OrganicAutoSuggest_1_3_na_na_ps&otracker1=AS_QueryStore_OrganicAutoSuggest_1_3_na_na_ps&as-pos=1&as-type=RECENT&suggestionId=tv+smart+tv%7CTelevisions&requestId=4a66db9c-a5d7-4bd1-a82c-970ddd816d66&as-searchtext=tv+&p%5B%5D=facets.screen_size%255B%255D%3D39%2B-%2B43%2Binch&p%5B%5D=facets.screen_size%255B%255D%3D48%2B-%2B55%2Binch&p%5B%5D=facets.screen_size%255B%255D%3D60%2Binch%2B%2BAbove&p%5B%5D=facets.brand%255B%255D%3DSAMSUNG&p%5B%5D=facets.brand%255B%255D%3DSONY&p%5B%5D=facets.brand%255B%255D%3DLG&p%5B%5D=facets.brand%255B%255D%3DMi&p%5B%5D=facets.brand%255B%255D%3DMOTOROLA&p%5B%5D=facets.brand%255B%255D%3DHisense&p%5B%5D=facets.brand%255B%255D%3DInfinix&p%5B%5D=facets.brand%255B%255D%3DThomson&p%5B%5D=facets.brand%255B%255D%3DCANDY&p%5B%5D=facets.brand%255B%255D%3DTCL&p%5B%5D=facets.brand%255B%255D%3DSENS&p%5B%5D=facets.brand%255B%255D%3DTOSHIBA&p%5B%5D=facets.brand%255B%255D%3DHaier&p%5B%5D=facets.brand%255B%255D%3DAcer&p%5B%5D=facets.brand%255B%255D%3DSansui&p%5B%5D=facets.brand%255B%255D%3DKODAK&p%5B%5D=facets.brand%255B%255D%3DBlaupunkt&p%5B%5D=facets.brand%255B%255D%3DiFFALCON&p%5B%5D=facets.brand%255B%255D%3DVu&p%5B%5D=facets.brand%255B%255D%3DLloyd&p%5B%5D=facets.brand%255B%255D%3DCoocaa&p%5B%5D=facets.brand%255B%255D%3DBPL&p%5B%5D=facets.brand%255B%255D%3Dskylive&p%5B%5D=facets.brand%255B%255D%3DONIDA&p%5B%5D=facets.brand%255B%255D%3DDyanora&p%5B%5D=facets.brand%255B%255D%3DHyundai&p%5B%5D=facets.brand%255B%255D%3DAdmiral&page=27\n",
      "https://www.flipkart.com/search?q=tv+smart+tv&sid=ckf%2Cczl&as=on&as-show=on&otracker=AS_QueryStore_OrganicAutoSuggest_1_3_na_na_ps&otracker1=AS_QueryStore_OrganicAutoSuggest_1_3_na_na_ps&as-pos=1&as-type=RECENT&suggestionId=tv+smart+tv%7CTelevisions&requestId=4a66db9c-a5d7-4bd1-a82c-970ddd816d66&as-searchtext=tv+&p%5B%5D=facets.screen_size%255B%255D%3D39%2B-%2B43%2Binch&p%5B%5D=facets.screen_size%255B%255D%3D48%2B-%2B55%2Binch&p%5B%5D=facets.screen_size%255B%255D%3D60%2Binch%2B%2BAbove&p%5B%5D=facets.brand%255B%255D%3DSAMSUNG&p%5B%5D=facets.brand%255B%255D%3DSONY&p%5B%5D=facets.brand%255B%255D%3DLG&p%5B%5D=facets.brand%255B%255D%3DMi&p%5B%5D=facets.brand%255B%255D%3DMOTOROLA&p%5B%5D=facets.brand%255B%255D%3DHisense&p%5B%5D=facets.brand%255B%255D%3DInfinix&p%5B%5D=facets.brand%255B%255D%3DThomson&p%5B%5D=facets.brand%255B%255D%3DCANDY&p%5B%5D=facets.brand%255B%255D%3DTCL&p%5B%5D=facets.brand%255B%255D%3DSENS&p%5B%5D=facets.brand%255B%255D%3DTOSHIBA&p%5B%5D=facets.brand%255B%255D%3DHaier&p%5B%5D=facets.brand%255B%255D%3DAcer&p%5B%5D=facets.brand%255B%255D%3DSansui&p%5B%5D=facets.brand%255B%255D%3DKODAK&p%5B%5D=facets.brand%255B%255D%3DBlaupunkt&p%5B%5D=facets.brand%255B%255D%3DiFFALCON&p%5B%5D=facets.brand%255B%255D%3DVu&p%5B%5D=facets.brand%255B%255D%3DLloyd&p%5B%5D=facets.brand%255B%255D%3DCoocaa&p%5B%5D=facets.brand%255B%255D%3DBPL&p%5B%5D=facets.brand%255B%255D%3Dskylive&p%5B%5D=facets.brand%255B%255D%3DONIDA&p%5B%5D=facets.brand%255B%255D%3DDyanora&p%5B%5D=facets.brand%255B%255D%3DHyundai&p%5B%5D=facets.brand%255B%255D%3DAdmiral&page=28\n",
      "https://www.flipkart.com/search?q=tv+smart+tv&sid=ckf%2Cczl&as=on&as-show=on&otracker=AS_QueryStore_OrganicAutoSuggest_1_3_na_na_ps&otracker1=AS_QueryStore_OrganicAutoSuggest_1_3_na_na_ps&as-pos=1&as-type=RECENT&suggestionId=tv+smart+tv%7CTelevisions&requestId=4a66db9c-a5d7-4bd1-a82c-970ddd816d66&as-searchtext=tv+&p%5B%5D=facets.screen_size%255B%255D%3D39%2B-%2B43%2Binch&p%5B%5D=facets.screen_size%255B%255D%3D48%2B-%2B55%2Binch&p%5B%5D=facets.screen_size%255B%255D%3D60%2Binch%2B%2BAbove&p%5B%5D=facets.brand%255B%255D%3DSAMSUNG&p%5B%5D=facets.brand%255B%255D%3DSONY&p%5B%5D=facets.brand%255B%255D%3DLG&p%5B%5D=facets.brand%255B%255D%3DMi&p%5B%5D=facets.brand%255B%255D%3DMOTOROLA&p%5B%5D=facets.brand%255B%255D%3DHisense&p%5B%5D=facets.brand%255B%255D%3DInfinix&p%5B%5D=facets.brand%255B%255D%3DThomson&p%5B%5D=facets.brand%255B%255D%3DCANDY&p%5B%5D=facets.brand%255B%255D%3DTCL&p%5B%5D=facets.brand%255B%255D%3DSENS&p%5B%5D=facets.brand%255B%255D%3DTOSHIBA&p%5B%5D=facets.brand%255B%255D%3DHaier&p%5B%5D=facets.brand%255B%255D%3DAcer&p%5B%5D=facets.brand%255B%255D%3DSansui&p%5B%5D=facets.brand%255B%255D%3DKODAK&p%5B%5D=facets.brand%255B%255D%3DBlaupunkt&p%5B%5D=facets.brand%255B%255D%3DiFFALCON&p%5B%5D=facets.brand%255B%255D%3DVu&p%5B%5D=facets.brand%255B%255D%3DLloyd&p%5B%5D=facets.brand%255B%255D%3DCoocaa&p%5B%5D=facets.brand%255B%255D%3DBPL&p%5B%5D=facets.brand%255B%255D%3Dskylive&p%5B%5D=facets.brand%255B%255D%3DONIDA&p%5B%5D=facets.brand%255B%255D%3DDyanora&p%5B%5D=facets.brand%255B%255D%3DHyundai&p%5B%5D=facets.brand%255B%255D%3DAdmiral&page=29\n",
      "https://www.flipkart.com/search?q=tv+smart+tv&sid=ckf%2Cczl&as=on&as-show=on&otracker=AS_QueryStore_OrganicAutoSuggest_1_3_na_na_ps&otracker1=AS_QueryStore_OrganicAutoSuggest_1_3_na_na_ps&as-pos=1&as-type=RECENT&suggestionId=tv+smart+tv%7CTelevisions&requestId=4a66db9c-a5d7-4bd1-a82c-970ddd816d66&as-searchtext=tv+&p%5B%5D=facets.screen_size%255B%255D%3D39%2B-%2B43%2Binch&p%5B%5D=facets.screen_size%255B%255D%3D48%2B-%2B55%2Binch&p%5B%5D=facets.screen_size%255B%255D%3D60%2Binch%2B%2BAbove&p%5B%5D=facets.brand%255B%255D%3DSAMSUNG&p%5B%5D=facets.brand%255B%255D%3DSONY&p%5B%5D=facets.brand%255B%255D%3DLG&p%5B%5D=facets.brand%255B%255D%3DMi&p%5B%5D=facets.brand%255B%255D%3DMOTOROLA&p%5B%5D=facets.brand%255B%255D%3DHisense&p%5B%5D=facets.brand%255B%255D%3DInfinix&p%5B%5D=facets.brand%255B%255D%3DThomson&p%5B%5D=facets.brand%255B%255D%3DCANDY&p%5B%5D=facets.brand%255B%255D%3DTCL&p%5B%5D=facets.brand%255B%255D%3DSENS&p%5B%5D=facets.brand%255B%255D%3DTOSHIBA&p%5B%5D=facets.brand%255B%255D%3DHaier&p%5B%5D=facets.brand%255B%255D%3DAcer&p%5B%5D=facets.brand%255B%255D%3DSansui&p%5B%5D=facets.brand%255B%255D%3DKODAK&p%5B%5D=facets.brand%255B%255D%3DBlaupunkt&p%5B%5D=facets.brand%255B%255D%3DiFFALCON&p%5B%5D=facets.brand%255B%255D%3DVu&p%5B%5D=facets.brand%255B%255D%3DLloyd&p%5B%5D=facets.brand%255B%255D%3DCoocaa&p%5B%5D=facets.brand%255B%255D%3DBPL&p%5B%5D=facets.brand%255B%255D%3Dskylive&p%5B%5D=facets.brand%255B%255D%3DONIDA&p%5B%5D=facets.brand%255B%255D%3DDyanora&p%5B%5D=facets.brand%255B%255D%3DHyundai&p%5B%5D=facets.brand%255B%255D%3DAdmiral&page=30\n"
     ]
    }
   ],
   "source": [
    "for i in range(1,31):\n",
    "    url = 'https://www.flipkart.com/search?q=tv+smart+tv&sid=ckf%2Cczl&as=on&as-show=on&otracker=AS_QueryStore_OrganicAutoSuggest_1_3_na_na_ps&otracker1=AS_QueryStore_OrganicAutoSuggest_1_3_na_na_ps&as-pos=1&as-type=RECENT&suggestionId=tv+smart+tv%7CTelevisions&requestId=4a66db9c-a5d7-4bd1-a82c-970ddd816d66&as-searchtext=tv+&p%5B%5D=facets.screen_size%255B%255D%3D39%2B-%2B43%2Binch&p%5B%5D=facets.screen_size%255B%255D%3D48%2B-%2B55%2Binch&p%5B%5D=facets.screen_size%255B%255D%3D60%2Binch%2B%2BAbove&p%5B%5D=facets.brand%255B%255D%3DSAMSUNG&p%5B%5D=facets.brand%255B%255D%3DSONY&p%5B%5D=facets.brand%255B%255D%3DLG&p%5B%5D=facets.brand%255B%255D%3DMi&p%5B%5D=facets.brand%255B%255D%3DMOTOROLA&p%5B%5D=facets.brand%255B%255D%3DHisense&p%5B%5D=facets.brand%255B%255D%3DInfinix&p%5B%5D=facets.brand%255B%255D%3DThomson&p%5B%5D=facets.brand%255B%255D%3DCANDY&p%5B%5D=facets.brand%255B%255D%3DTCL&p%5B%5D=facets.brand%255B%255D%3DSENS&p%5B%5D=facets.brand%255B%255D%3DTOSHIBA&p%5B%5D=facets.brand%255B%255D%3DHaier&p%5B%5D=facets.brand%255B%255D%3DAcer&p%5B%5D=facets.brand%255B%255D%3DSansui&p%5B%5D=facets.brand%255B%255D%3DKODAK&p%5B%5D=facets.brand%255B%255D%3DBlaupunkt&p%5B%5D=facets.brand%255B%255D%3DiFFALCON&p%5B%5D=facets.brand%255B%255D%3DVu&p%5B%5D=facets.brand%255B%255D%3DLloyd&p%5B%5D=facets.brand%255B%255D%3DCoocaa&p%5B%5D=facets.brand%255B%255D%3DBPL&p%5B%5D=facets.brand%255B%255D%3Dskylive&p%5B%5D=facets.brand%255B%255D%3DONIDA&p%5B%5D=facets.brand%255B%255D%3DDyanora&p%5B%5D=facets.brand%255B%255D%3DHyundai&p%5B%5D=facets.brand%255B%255D%3DAdmiral&page={}'.format(i)\n",
    "    print(url)"
   ]
  },
  {
   "cell_type": "markdown",
   "id": "2214f9d5",
   "metadata": {},
   "source": [
    "### Merging \n",
    "\n",
    "* Created the empty lists of Product_Name, Selling_Price, Original_Price, Specs, Ratings\n",
    "\n",
    "* Iterating the data of the web pages using FOR loops\n",
    "\n",
    "* Provided the request headers if the page response is 500. The website url data may be not extracted\n",
    "\n",
    "* created another FOR loop inside where the div class iterated through soup.find_all('div', attrs = {'class':'yKfJKb row'})\n",
    "\n",
    "* Created variables as pname, price, op, specs, ratings where it find respective classes \n",
    "\n",
    "* Extracting the data using if else condition if the data is not present it prints np.nan else it prints variables.text"
   ]
  },
  {
   "cell_type": "code",
   "execution_count": 17,
   "id": "e2cb459f",
   "metadata": {},
   "outputs": [
    {
     "name": "stdout",
     "output_type": "stream",
     "text": [
      "The time taken is 1.3720760345458984\n",
      "The time taken is 1.58237886428833\n",
      "The time taken is 1.5257251262664795\n",
      "The time taken is 1.3822650909423828\n",
      "The time taken is 1.577925682067871\n",
      "The time taken is 1.4203417301177979\n",
      "The time taken is 1.5375926494598389\n",
      "The time taken is 1.4217867851257324\n",
      "The time taken is 1.6548962593078613\n",
      "The time taken is 1.3144009113311768\n",
      "The time taken is 1.490173578262329\n",
      "The time taken is 1.3059501647949219\n",
      "The time taken is 1.5609674453735352\n",
      "The time taken is 1.3892812728881836\n",
      "The time taken is 1.5399510860443115\n",
      "The time taken is 1.6010627746582031\n",
      "The time taken is 1.8452284336090088\n",
      "The time taken is 2.65276837348938\n",
      "The time taken is 1.3679490089416504\n",
      "The time taken is 1.2683403491973877\n",
      "The time taken is 1.244565486907959\n",
      "The time taken is 1.3408498764038086\n",
      "The time taken is 1.1531596183776855\n",
      "The time taken is 1.637221097946167\n",
      "The time taken is 1.439131259918213\n",
      "The time taken is 1.3618102073669434\n",
      "The time taken is 1.3035175800323486\n",
      "The time taken is 1.4697482585906982\n",
      "The time taken is 1.4987990856170654\n",
      "The time taken is 2.583364725112915\n",
      "The time taken is 1.0733282566070557\n",
      "The time taken is 1.0500833988189697\n",
      "The time taken is 0.973320484161377\n",
      "The time taken is 1.0693902969360352\n",
      "The time taken is 1.0294342041015625\n",
      "The time taken is 1.125309944152832\n",
      "The time taken is 1.1245479583740234\n",
      "The time taken is 1.1290290355682373\n",
      "The time taken is 1.0873963832855225\n"
     ]
    }
   ],
   "source": [
    "### now extract all the data from the above webpages\n",
    "\n",
    "Product_Name = []\n",
    "Selling_Price = []\n",
    "Original_Price=[]\n",
    "Specs = []\n",
    "Ratings = []\n",
    "\n",
    "\n",
    "for i in range(1,40):\n",
    "    starttime = time.time()\n",
    "    url = 'https://www.flipkart.com/search?q=tv+smart+tv&sid=ckf%2Cczl&as=on&as-show=on&otracker=AS_QueryStore_OrganicAutoSuggest_1_3_na_na_ps&otracker1=AS_QueryStore_OrganicAutoSuggest_1_3_na_na_ps&as-pos=1&as-type=RECENT&suggestionId=tv+smart+tv%7CTelevisions&requestId=4a66db9c-a5d7-4bd1-a82c-970ddd816d66&as-searchtext=tv+&p%5B%5D=facets.screen_size%255B%255D%3D39%2B-%2B43%2Binch&p%5B%5D=facets.screen_size%255B%255D%3D48%2B-%2B55%2Binch&p%5B%5D=facets.screen_size%255B%255D%3D60%2Binch%2B%2BAbove&p%5B%5D=facets.brand%255B%255D%3DSAMSUNG&p%5B%5D=facets.brand%255B%255D%3DSONY&p%5B%5D=facets.brand%255B%255D%3DLG&p%5B%5D=facets.brand%255B%255D%3DMi&p%5B%5D=facets.brand%255B%255D%3DMOTOROLA&p%5B%5D=facets.brand%255B%255D%3DHisense&p%5B%5D=facets.brand%255B%255D%3DInfinix&p%5B%5D=facets.brand%255B%255D%3DThomson&p%5B%5D=facets.brand%255B%255D%3DCANDY&p%5B%5D=facets.brand%255B%255D%3DTCL&p%5B%5D=facets.brand%255B%255D%3DSENS&p%5B%5D=facets.brand%255B%255D%3DTOSHIBA&p%5B%5D=facets.brand%255B%255D%3DHaier&p%5B%5D=facets.brand%255B%255D%3DAcer&p%5B%5D=facets.brand%255B%255D%3DSansui&p%5B%5D=facets.brand%255B%255D%3DKODAK&p%5B%5D=facets.brand%255B%255D%3DBlaupunkt&p%5B%5D=facets.brand%255B%255D%3DiFFALCON&p%5B%5D=facets.brand%255B%255D%3DVu&p%5B%5D=facets.brand%255B%255D%3DLloyd&p%5B%5D=facets.brand%255B%255D%3DCoocaa&p%5B%5D=facets.brand%255B%255D%3DBPL&p%5B%5D=facets.brand%255B%255D%3Dskylive&p%5B%5D=facets.brand%255B%255D%3DONIDA&p%5B%5D=facets.brand%255B%255D%3DDyanora&p%5B%5D=facets.brand%255B%255D%3DHyundai&p%5B%5D=facets.brand%255B%255D%3DAdmiral&page={}'.format(i)\n",
    "    page = requests.get(url, headers = request_header)\n",
    "    soup = BeautifulSoup(page.text)\n",
    "    \n",
    "    \n",
    "    for j in soup.find_all('div', attrs = {'class':'yKfJKb row'}):\n",
    "        pname = j.find('div', attrs = {'class':'KzDlHZ'})\n",
    "        price = j.find('div', attrs = {'class':'Nx9bqj _4b5DiR'})\n",
    "        op = j.find('div', attrs = {'class':'yRaY8j ZYYwLA'})\n",
    "        specs = j.find('ul', attrs = {'class':'G4BRas'})\n",
    "        ratings = j.find('div', attrs = {'class':'XQDdHH'})\n",
    "        \n",
    "        if pname is None:\n",
    "            Product_Name.append(np.nan)\n",
    "        else:\n",
    "            Product_Name.append(pname.text)\n",
    "            \n",
    "        if price is None:\n",
    "            Selling_Price.append(np.nan)\n",
    "        else:\n",
    "            Selling_Price.append(price.text)\n",
    "        \n",
    "        \n",
    "        if op is None:\n",
    "            Original_Price.append(np.nan)\n",
    "        else:\n",
    "            Original_Price.append(op.text)\n",
    "            \n",
    "            \n",
    "                \n",
    "        if specs is None:\n",
    "            Specs.append(np.nan)\n",
    "        else:\n",
    "            Specs.append(specs.text)\n",
    "            \n",
    "        if ratings is None:\n",
    "            Ratings.append(np.nan)\n",
    "        else:\n",
    "            Ratings.append(ratings.text)\n",
    "    endtime = time.time()\n",
    "    print('The time taken is {}'.format(endtime-starttime))"
   ]
  },
  {
   "cell_type": "markdown",
   "id": "b4f5489c",
   "metadata": {},
   "source": [
    "# Appended data into list form\n",
    "\n",
    "* Created data Varible with respect to lists.\n",
    "\n",
    "* Inside the dictionary, the headers are used as keys, and the values are lists that have been appended.\n",
    "\n",
    "* Created a dataframe named df using pandas df = pd.DataFrame(data)"
   ]
  },
  {
   "cell_type": "code",
   "execution_count": 18,
   "id": "640822dc",
   "metadata": {},
   "outputs": [],
   "source": [
    "data = {\n",
    "    'Product_Name':Product_Name,\n",
    "    'Selling_Price':Selling_Price,\n",
    "    'Original_Price':Original_Price,\n",
    "    'Specs':Specs,\n",
    "    'Ratings':Ratings,\n",
    "    \n",
    "}"
   ]
  },
  {
   "cell_type": "code",
   "execution_count": 19,
   "id": "858eb495",
   "metadata": {},
   "outputs": [
    {
     "data": {
      "text/html": [
       "<div>\n",
       "<style scoped>\n",
       "    .dataframe tbody tr th:only-of-type {\n",
       "        vertical-align: middle;\n",
       "    }\n",
       "\n",
       "    .dataframe tbody tr th {\n",
       "        vertical-align: top;\n",
       "    }\n",
       "\n",
       "    .dataframe thead th {\n",
       "        text-align: right;\n",
       "    }\n",
       "</style>\n",
       "<table border=\"1\" class=\"dataframe\">\n",
       "  <thead>\n",
       "    <tr style=\"text-align: right;\">\n",
       "      <th></th>\n",
       "      <th>Product_Name</th>\n",
       "      <th>Selling_Price</th>\n",
       "      <th>Original_Price</th>\n",
       "      <th>Specs</th>\n",
       "      <th>Ratings</th>\n",
       "    </tr>\n",
       "  </thead>\n",
       "  <tbody>\n",
       "    <tr>\n",
       "      <th>0</th>\n",
       "      <td>Acer Advanced I Series 102 cm (40 inch) Full H...</td>\n",
       "      <td>₹17,499</td>\n",
       "      <td>₹29,999</td>\n",
       "      <td>Operating System: Google TVFull HD 1080 x 1920...</td>\n",
       "      <td>4.3</td>\n",
       "    </tr>\n",
       "    <tr>\n",
       "      <th>1</th>\n",
       "      <td>SONY Bravia 2 108 cm (43 inch) Ultra HD (4K) L...</td>\n",
       "      <td>₹40,990</td>\n",
       "      <td>₹59,900</td>\n",
       "      <td>Operating System: Google TVUltra HD (4K) 3840 ...</td>\n",
       "      <td>4.7</td>\n",
       "    </tr>\n",
       "    <tr>\n",
       "      <th>2</th>\n",
       "      <td>Thomson Phoenix 108 cm (43 inch) QLED Ultra HD...</td>\n",
       "      <td>₹21,999</td>\n",
       "      <td>₹31,999</td>\n",
       "      <td>Operating System: Google TVUltra HD (4K) 3840 ...</td>\n",
       "      <td>4.5</td>\n",
       "    </tr>\n",
       "    <tr>\n",
       "      <th>3</th>\n",
       "      <td>Mi X Series 138 cm (55 inch) Ultra HD (4K) LED...</td>\n",
       "      <td>₹36,999</td>\n",
       "      <td>₹54,999</td>\n",
       "      <td>Operating System: Google TVUltra HD (4K) 3840 ...</td>\n",
       "      <td>4.3</td>\n",
       "    </tr>\n",
       "    <tr>\n",
       "      <th>4</th>\n",
       "      <td>MOTOROLA EnvisionX 140 cm (55 inch) QLED Ultra...</td>\n",
       "      <td>₹32,999</td>\n",
       "      <td>₹1,19,980</td>\n",
       "      <td>Operating System: Google TVUltra HD (4K) 3840 ...</td>\n",
       "      <td>4.3</td>\n",
       "    </tr>\n",
       "    <tr>\n",
       "      <th>...</th>\n",
       "      <td>...</td>\n",
       "      <td>...</td>\n",
       "      <td>...</td>\n",
       "      <td>...</td>\n",
       "      <td>...</td>\n",
       "    </tr>\n",
       "    <tr>\n",
       "      <th>691</th>\n",
       "      <td>Mi Q1 138.8 cm (55 inch) QLED Ultra HD (4K) Sm...</td>\n",
       "      <td>₹59,999</td>\n",
       "      <td>NaN</td>\n",
       "      <td>Operating System: AndroidUltra HD (4K) 3840 x ...</td>\n",
       "      <td>4.4</td>\n",
       "    </tr>\n",
       "    <tr>\n",
       "      <th>692</th>\n",
       "      <td>KODAK 108 cm (43 inch) Full HD LED Smart Linux...</td>\n",
       "      <td>₹14,999</td>\n",
       "      <td>₹22,999</td>\n",
       "      <td>Operating System: LinuxFull HD 1920 x 1080 Pix...</td>\n",
       "      <td>4.3</td>\n",
       "    </tr>\n",
       "    <tr>\n",
       "      <th>693</th>\n",
       "      <td>SAMSUNG New D Series Brighter Crystal Vivid (2...</td>\n",
       "      <td>₹43,990</td>\n",
       "      <td>₹64,900</td>\n",
       "      <td>Operating System: TizenUltra HD (4K) 3840 x 21...</td>\n",
       "      <td>4.3</td>\n",
       "    </tr>\n",
       "    <tr>\n",
       "      <th>694</th>\n",
       "      <td>SONY Bravia 138.8 cm (55 inch) OLED Ultra HD (...</td>\n",
       "      <td>₹1,56,900</td>\n",
       "      <td>₹2,49,900</td>\n",
       "      <td>Operating System: Google TVUltra HD (4K) 3840 ...</td>\n",
       "      <td>4.8</td>\n",
       "    </tr>\n",
       "    <tr>\n",
       "      <th>695</th>\n",
       "      <td>SONY Bravia 139 cm (55 inch) Ultra HD (4K) LED...</td>\n",
       "      <td>₹57,990</td>\n",
       "      <td>₹99,990</td>\n",
       "      <td>Operating System: Google TVUltra HD (4K) 3840 ...</td>\n",
       "      <td>NaN</td>\n",
       "    </tr>\n",
       "  </tbody>\n",
       "</table>\n",
       "<p>696 rows × 5 columns</p>\n",
       "</div>"
      ],
      "text/plain": [
       "                                          Product_Name Selling_Price  \\\n",
       "0    Acer Advanced I Series 102 cm (40 inch) Full H...       ₹17,499   \n",
       "1    SONY Bravia 2 108 cm (43 inch) Ultra HD (4K) L...       ₹40,990   \n",
       "2    Thomson Phoenix 108 cm (43 inch) QLED Ultra HD...       ₹21,999   \n",
       "3    Mi X Series 138 cm (55 inch) Ultra HD (4K) LED...       ₹36,999   \n",
       "4    MOTOROLA EnvisionX 140 cm (55 inch) QLED Ultra...       ₹32,999   \n",
       "..                                                 ...           ...   \n",
       "691  Mi Q1 138.8 cm (55 inch) QLED Ultra HD (4K) Sm...       ₹59,999   \n",
       "692  KODAK 108 cm (43 inch) Full HD LED Smart Linux...       ₹14,999   \n",
       "693  SAMSUNG New D Series Brighter Crystal Vivid (2...       ₹43,990   \n",
       "694  SONY Bravia 138.8 cm (55 inch) OLED Ultra HD (...     ₹1,56,900   \n",
       "695  SONY Bravia 139 cm (55 inch) Ultra HD (4K) LED...       ₹57,990   \n",
       "\n",
       "    Original_Price                                              Specs Ratings  \n",
       "0          ₹29,999  Operating System: Google TVFull HD 1080 x 1920...     4.3  \n",
       "1          ₹59,900  Operating System: Google TVUltra HD (4K) 3840 ...     4.7  \n",
       "2          ₹31,999  Operating System: Google TVUltra HD (4K) 3840 ...     4.5  \n",
       "3          ₹54,999  Operating System: Google TVUltra HD (4K) 3840 ...     4.3  \n",
       "4        ₹1,19,980  Operating System: Google TVUltra HD (4K) 3840 ...     4.3  \n",
       "..             ...                                                ...     ...  \n",
       "691            NaN  Operating System: AndroidUltra HD (4K) 3840 x ...     4.4  \n",
       "692        ₹22,999  Operating System: LinuxFull HD 1920 x 1080 Pix...     4.3  \n",
       "693        ₹64,900  Operating System: TizenUltra HD (4K) 3840 x 21...     4.3  \n",
       "694      ₹2,49,900  Operating System: Google TVUltra HD (4K) 3840 ...     4.8  \n",
       "695        ₹99,990  Operating System: Google TVUltra HD (4K) 3840 ...     NaN  \n",
       "\n",
       "[696 rows x 5 columns]"
      ]
     },
     "execution_count": 19,
     "metadata": {},
     "output_type": "execute_result"
    }
   ],
   "source": [
    "df = pd.DataFrame(data)\n",
    "df"
   ]
  },
  {
   "cell_type": "markdown",
   "id": "f1dc48b4",
   "metadata": {},
   "source": [
    "* The data frame consists of 671 rows and 5 columns\n",
    "\n",
    "* Saving the data frame to csv using df.to_csv('Telivisions.csv', index = False)\n",
    "\n",
    "* Reading the saved csv using pd.read_csv(Telivisions.csv)\n"
   ]
  },
  {
   "cell_type": "code",
   "execution_count": 20,
   "id": "625d5c51",
   "metadata": {},
   "outputs": [
    {
     "data": {
      "text/html": [
       "<div>\n",
       "<style scoped>\n",
       "    .dataframe tbody tr th:only-of-type {\n",
       "        vertical-align: middle;\n",
       "    }\n",
       "\n",
       "    .dataframe tbody tr th {\n",
       "        vertical-align: top;\n",
       "    }\n",
       "\n",
       "    .dataframe thead th {\n",
       "        text-align: right;\n",
       "    }\n",
       "</style>\n",
       "<table border=\"1\" class=\"dataframe\">\n",
       "  <thead>\n",
       "    <tr style=\"text-align: right;\">\n",
       "      <th></th>\n",
       "      <th>Product_Name</th>\n",
       "      <th>Selling_Price</th>\n",
       "      <th>Original_Price</th>\n",
       "      <th>Specs</th>\n",
       "      <th>Ratings</th>\n",
       "    </tr>\n",
       "  </thead>\n",
       "  <tbody>\n",
       "    <tr>\n",
       "      <th>0</th>\n",
       "      <td>Acer Advanced I Series 102 cm (40 inch) Full H...</td>\n",
       "      <td>₹17,499</td>\n",
       "      <td>₹29,999</td>\n",
       "      <td>Operating System: Google TVFull HD 1080 x 1920...</td>\n",
       "      <td>4.3</td>\n",
       "    </tr>\n",
       "    <tr>\n",
       "      <th>1</th>\n",
       "      <td>SONY Bravia 2 108 cm (43 inch) Ultra HD (4K) L...</td>\n",
       "      <td>₹40,990</td>\n",
       "      <td>₹59,900</td>\n",
       "      <td>Operating System: Google TVUltra HD (4K) 3840 ...</td>\n",
       "      <td>4.7</td>\n",
       "    </tr>\n",
       "    <tr>\n",
       "      <th>2</th>\n",
       "      <td>Thomson Phoenix 108 cm (43 inch) QLED Ultra HD...</td>\n",
       "      <td>₹21,999</td>\n",
       "      <td>₹31,999</td>\n",
       "      <td>Operating System: Google TVUltra HD (4K) 3840 ...</td>\n",
       "      <td>4.5</td>\n",
       "    </tr>\n",
       "    <tr>\n",
       "      <th>3</th>\n",
       "      <td>Mi X Series 138 cm (55 inch) Ultra HD (4K) LED...</td>\n",
       "      <td>₹36,999</td>\n",
       "      <td>₹54,999</td>\n",
       "      <td>Operating System: Google TVUltra HD (4K) 3840 ...</td>\n",
       "      <td>4.3</td>\n",
       "    </tr>\n",
       "    <tr>\n",
       "      <th>4</th>\n",
       "      <td>MOTOROLA EnvisionX 140 cm (55 inch) QLED Ultra...</td>\n",
       "      <td>₹32,999</td>\n",
       "      <td>₹1,19,980</td>\n",
       "      <td>Operating System: Google TVUltra HD (4K) 3840 ...</td>\n",
       "      <td>4.3</td>\n",
       "    </tr>\n",
       "    <tr>\n",
       "      <th>...</th>\n",
       "      <td>...</td>\n",
       "      <td>...</td>\n",
       "      <td>...</td>\n",
       "      <td>...</td>\n",
       "      <td>...</td>\n",
       "    </tr>\n",
       "    <tr>\n",
       "      <th>691</th>\n",
       "      <td>Mi Q1 138.8 cm (55 inch) QLED Ultra HD (4K) Sm...</td>\n",
       "      <td>₹59,999</td>\n",
       "      <td>NaN</td>\n",
       "      <td>Operating System: AndroidUltra HD (4K) 3840 x ...</td>\n",
       "      <td>4.4</td>\n",
       "    </tr>\n",
       "    <tr>\n",
       "      <th>692</th>\n",
       "      <td>KODAK 108 cm (43 inch) Full HD LED Smart Linux...</td>\n",
       "      <td>₹14,999</td>\n",
       "      <td>₹22,999</td>\n",
       "      <td>Operating System: LinuxFull HD 1920 x 1080 Pix...</td>\n",
       "      <td>4.3</td>\n",
       "    </tr>\n",
       "    <tr>\n",
       "      <th>693</th>\n",
       "      <td>SAMSUNG New D Series Brighter Crystal Vivid (2...</td>\n",
       "      <td>₹43,990</td>\n",
       "      <td>₹64,900</td>\n",
       "      <td>Operating System: TizenUltra HD (4K) 3840 x 21...</td>\n",
       "      <td>4.3</td>\n",
       "    </tr>\n",
       "    <tr>\n",
       "      <th>694</th>\n",
       "      <td>SONY Bravia 138.8 cm (55 inch) OLED Ultra HD (...</td>\n",
       "      <td>₹1,56,900</td>\n",
       "      <td>₹2,49,900</td>\n",
       "      <td>Operating System: Google TVUltra HD (4K) 3840 ...</td>\n",
       "      <td>4.8</td>\n",
       "    </tr>\n",
       "    <tr>\n",
       "      <th>695</th>\n",
       "      <td>SONY Bravia 139 cm (55 inch) Ultra HD (4K) LED...</td>\n",
       "      <td>₹57,990</td>\n",
       "      <td>₹99,990</td>\n",
       "      <td>Operating System: Google TVUltra HD (4K) 3840 ...</td>\n",
       "      <td>NaN</td>\n",
       "    </tr>\n",
       "  </tbody>\n",
       "</table>\n",
       "<p>696 rows × 5 columns</p>\n",
       "</div>"
      ],
      "text/plain": [
       "                                          Product_Name Selling_Price  \\\n",
       "0    Acer Advanced I Series 102 cm (40 inch) Full H...       ₹17,499   \n",
       "1    SONY Bravia 2 108 cm (43 inch) Ultra HD (4K) L...       ₹40,990   \n",
       "2    Thomson Phoenix 108 cm (43 inch) QLED Ultra HD...       ₹21,999   \n",
       "3    Mi X Series 138 cm (55 inch) Ultra HD (4K) LED...       ₹36,999   \n",
       "4    MOTOROLA EnvisionX 140 cm (55 inch) QLED Ultra...       ₹32,999   \n",
       "..                                                 ...           ...   \n",
       "691  Mi Q1 138.8 cm (55 inch) QLED Ultra HD (4K) Sm...       ₹59,999   \n",
       "692  KODAK 108 cm (43 inch) Full HD LED Smart Linux...       ₹14,999   \n",
       "693  SAMSUNG New D Series Brighter Crystal Vivid (2...       ₹43,990   \n",
       "694  SONY Bravia 138.8 cm (55 inch) OLED Ultra HD (...     ₹1,56,900   \n",
       "695  SONY Bravia 139 cm (55 inch) Ultra HD (4K) LED...       ₹57,990   \n",
       "\n",
       "    Original_Price                                              Specs  Ratings  \n",
       "0          ₹29,999  Operating System: Google TVFull HD 1080 x 1920...      4.3  \n",
       "1          ₹59,900  Operating System: Google TVUltra HD (4K) 3840 ...      4.7  \n",
       "2          ₹31,999  Operating System: Google TVUltra HD (4K) 3840 ...      4.5  \n",
       "3          ₹54,999  Operating System: Google TVUltra HD (4K) 3840 ...      4.3  \n",
       "4        ₹1,19,980  Operating System: Google TVUltra HD (4K) 3840 ...      4.3  \n",
       "..             ...                                                ...      ...  \n",
       "691            NaN  Operating System: AndroidUltra HD (4K) 3840 x ...      4.4  \n",
       "692        ₹22,999  Operating System: LinuxFull HD 1920 x 1080 Pix...      4.3  \n",
       "693        ₹64,900  Operating System: TizenUltra HD (4K) 3840 x 21...      4.3  \n",
       "694      ₹2,49,900  Operating System: Google TVUltra HD (4K) 3840 ...      4.8  \n",
       "695        ₹99,990  Operating System: Google TVUltra HD (4K) 3840 ...      NaN  \n",
       "\n",
       "[696 rows x 5 columns]"
      ]
     },
     "execution_count": 20,
     "metadata": {},
     "output_type": "execute_result"
    }
   ],
   "source": [
    "df.to_csv('Telivisions.csv', index = False)\n",
    "df = pd.read_csv('Telivisions.csv')\n",
    "df"
   ]
  },
  {
   "cell_type": "code",
   "execution_count": 21,
   "id": "ed8e045d",
   "metadata": {},
   "outputs": [
    {
     "data": {
      "text/html": [
       "<div>\n",
       "<style scoped>\n",
       "    .dataframe tbody tr th:only-of-type {\n",
       "        vertical-align: middle;\n",
       "    }\n",
       "\n",
       "    .dataframe tbody tr th {\n",
       "        vertical-align: top;\n",
       "    }\n",
       "\n",
       "    .dataframe thead th {\n",
       "        text-align: right;\n",
       "    }\n",
       "</style>\n",
       "<table border=\"1\" class=\"dataframe\">\n",
       "  <thead>\n",
       "    <tr style=\"text-align: right;\">\n",
       "      <th></th>\n",
       "      <th>Product_Name</th>\n",
       "      <th>Selling_Price</th>\n",
       "      <th>Original_Price</th>\n",
       "      <th>Specs</th>\n",
       "      <th>Ratings</th>\n",
       "    </tr>\n",
       "  </thead>\n",
       "  <tbody>\n",
       "    <tr>\n",
       "      <th>0</th>\n",
       "      <td>Acer Advanced I Series 102 cm (40 inch) Full H...</td>\n",
       "      <td>₹17,499</td>\n",
       "      <td>₹29,999</td>\n",
       "      <td>Operating System: Google TVFull HD 1080 x 1920...</td>\n",
       "      <td>4.3</td>\n",
       "    </tr>\n",
       "    <tr>\n",
       "      <th>1</th>\n",
       "      <td>SONY Bravia 2 108 cm (43 inch) Ultra HD (4K) L...</td>\n",
       "      <td>₹40,990</td>\n",
       "      <td>₹59,900</td>\n",
       "      <td>Operating System: Google TVUltra HD (4K) 3840 ...</td>\n",
       "      <td>4.7</td>\n",
       "    </tr>\n",
       "    <tr>\n",
       "      <th>2</th>\n",
       "      <td>Thomson Phoenix 108 cm (43 inch) QLED Ultra HD...</td>\n",
       "      <td>₹21,999</td>\n",
       "      <td>₹31,999</td>\n",
       "      <td>Operating System: Google TVUltra HD (4K) 3840 ...</td>\n",
       "      <td>4.5</td>\n",
       "    </tr>\n",
       "    <tr>\n",
       "      <th>3</th>\n",
       "      <td>Mi X Series 138 cm (55 inch) Ultra HD (4K) LED...</td>\n",
       "      <td>₹36,999</td>\n",
       "      <td>₹54,999</td>\n",
       "      <td>Operating System: Google TVUltra HD (4K) 3840 ...</td>\n",
       "      <td>4.3</td>\n",
       "    </tr>\n",
       "    <tr>\n",
       "      <th>4</th>\n",
       "      <td>MOTOROLA EnvisionX 140 cm (55 inch) QLED Ultra...</td>\n",
       "      <td>₹32,999</td>\n",
       "      <td>₹1,19,980</td>\n",
       "      <td>Operating System: Google TVUltra HD (4K) 3840 ...</td>\n",
       "      <td>4.3</td>\n",
       "    </tr>\n",
       "  </tbody>\n",
       "</table>\n",
       "</div>"
      ],
      "text/plain": [
       "                                        Product_Name Selling_Price  \\\n",
       "0  Acer Advanced I Series 102 cm (40 inch) Full H...       ₹17,499   \n",
       "1  SONY Bravia 2 108 cm (43 inch) Ultra HD (4K) L...       ₹40,990   \n",
       "2  Thomson Phoenix 108 cm (43 inch) QLED Ultra HD...       ₹21,999   \n",
       "3  Mi X Series 138 cm (55 inch) Ultra HD (4K) LED...       ₹36,999   \n",
       "4  MOTOROLA EnvisionX 140 cm (55 inch) QLED Ultra...       ₹32,999   \n",
       "\n",
       "  Original_Price                                              Specs  Ratings  \n",
       "0        ₹29,999  Operating System: Google TVFull HD 1080 x 1920...      4.3  \n",
       "1        ₹59,900  Operating System: Google TVUltra HD (4K) 3840 ...      4.7  \n",
       "2        ₹31,999  Operating System: Google TVUltra HD (4K) 3840 ...      4.5  \n",
       "3        ₹54,999  Operating System: Google TVUltra HD (4K) 3840 ...      4.3  \n",
       "4      ₹1,19,980  Operating System: Google TVUltra HD (4K) 3840 ...      4.3  "
      ]
     },
     "execution_count": 21,
     "metadata": {},
     "output_type": "execute_result"
    }
   ],
   "source": [
    "df.head()"
   ]
  },
  {
   "cell_type": "markdown",
   "id": "2117d51c",
   "metadata": {},
   "source": [
    "# Creating Name column\n",
    "\n",
    "* Applying regular expressions to it from the product name it finds the name of the product using \\w+ \n",
    "\n",
    "* \\w is the short hand method from regular expressions which extracts A word character(a-zA-z0-9)\n",
    "\n",
    "* \\w+ referest to A word character(a-zA-z0-9)+ which extract a word\n",
    "\n",
    "* ^ = (starttswith)\n",
    "\n",
    "* ^\\w+ is the from of regular expression which extracts the first word from the data\n",
    "\n",
    "* Applying lambda method where it apply the index as x \n",
    "\n",
    "* Converting the name column into title method which returns tha name in title format string data ex: Samsung, Lg, Sony"
   ]
  },
  {
   "cell_type": "code",
   "execution_count": 22,
   "id": "8b005b68",
   "metadata": {},
   "outputs": [
    {
     "data": {
      "text/plain": [
       "'Acer Advanced I Series 102 cm (40 inch) Full HD LED Smart Google TV with 1.5GB RAM, 16GB Storage, 30W ...'"
      ]
     },
     "execution_count": 22,
     "metadata": {},
     "output_type": "execute_result"
    }
   ],
   "source": [
    "df.Product_Name[0]"
   ]
  },
  {
   "cell_type": "code",
   "execution_count": 23,
   "id": "5556fc82",
   "metadata": {},
   "outputs": [
    {
     "data": {
      "text/plain": [
       "['Acer']"
      ]
     },
     "execution_count": 23,
     "metadata": {},
     "output_type": "execute_result"
    }
   ],
   "source": [
    "re.findall('^\\w+',df.Product_Name[0])"
   ]
  },
  {
   "cell_type": "code",
   "execution_count": 24,
   "id": "461fd4d1",
   "metadata": {},
   "outputs": [],
   "source": [
    "df['Name'] = df.Product_Name.apply(lambda x: ' '.join(re.findall('^\\w+',x)))"
   ]
  },
  {
   "cell_type": "code",
   "execution_count": 25,
   "id": "aeffdb2b",
   "metadata": {},
   "outputs": [
    {
     "data": {
      "text/html": [
       "<div>\n",
       "<style scoped>\n",
       "    .dataframe tbody tr th:only-of-type {\n",
       "        vertical-align: middle;\n",
       "    }\n",
       "\n",
       "    .dataframe tbody tr th {\n",
       "        vertical-align: top;\n",
       "    }\n",
       "\n",
       "    .dataframe thead th {\n",
       "        text-align: right;\n",
       "    }\n",
       "</style>\n",
       "<table border=\"1\" class=\"dataframe\">\n",
       "  <thead>\n",
       "    <tr style=\"text-align: right;\">\n",
       "      <th></th>\n",
       "      <th>Product_Name</th>\n",
       "      <th>Selling_Price</th>\n",
       "      <th>Original_Price</th>\n",
       "      <th>Specs</th>\n",
       "      <th>Ratings</th>\n",
       "      <th>Name</th>\n",
       "    </tr>\n",
       "  </thead>\n",
       "  <tbody>\n",
       "    <tr>\n",
       "      <th>0</th>\n",
       "      <td>Acer Advanced I Series 102 cm (40 inch) Full H...</td>\n",
       "      <td>₹17,499</td>\n",
       "      <td>₹29,999</td>\n",
       "      <td>Operating System: Google TVFull HD 1080 x 1920...</td>\n",
       "      <td>4.3</td>\n",
       "      <td>Acer</td>\n",
       "    </tr>\n",
       "    <tr>\n",
       "      <th>1</th>\n",
       "      <td>SONY Bravia 2 108 cm (43 inch) Ultra HD (4K) L...</td>\n",
       "      <td>₹40,990</td>\n",
       "      <td>₹59,900</td>\n",
       "      <td>Operating System: Google TVUltra HD (4K) 3840 ...</td>\n",
       "      <td>4.7</td>\n",
       "      <td>SONY</td>\n",
       "    </tr>\n",
       "    <tr>\n",
       "      <th>2</th>\n",
       "      <td>Thomson Phoenix 108 cm (43 inch) QLED Ultra HD...</td>\n",
       "      <td>₹21,999</td>\n",
       "      <td>₹31,999</td>\n",
       "      <td>Operating System: Google TVUltra HD (4K) 3840 ...</td>\n",
       "      <td>4.5</td>\n",
       "      <td>Thomson</td>\n",
       "    </tr>\n",
       "    <tr>\n",
       "      <th>3</th>\n",
       "      <td>Mi X Series 138 cm (55 inch) Ultra HD (4K) LED...</td>\n",
       "      <td>₹36,999</td>\n",
       "      <td>₹54,999</td>\n",
       "      <td>Operating System: Google TVUltra HD (4K) 3840 ...</td>\n",
       "      <td>4.3</td>\n",
       "      <td>Mi</td>\n",
       "    </tr>\n",
       "    <tr>\n",
       "      <th>4</th>\n",
       "      <td>MOTOROLA EnvisionX 140 cm (55 inch) QLED Ultra...</td>\n",
       "      <td>₹32,999</td>\n",
       "      <td>₹1,19,980</td>\n",
       "      <td>Operating System: Google TVUltra HD (4K) 3840 ...</td>\n",
       "      <td>4.3</td>\n",
       "      <td>MOTOROLA</td>\n",
       "    </tr>\n",
       "    <tr>\n",
       "      <th>...</th>\n",
       "      <td>...</td>\n",
       "      <td>...</td>\n",
       "      <td>...</td>\n",
       "      <td>...</td>\n",
       "      <td>...</td>\n",
       "      <td>...</td>\n",
       "    </tr>\n",
       "    <tr>\n",
       "      <th>691</th>\n",
       "      <td>Mi Q1 138.8 cm (55 inch) QLED Ultra HD (4K) Sm...</td>\n",
       "      <td>₹59,999</td>\n",
       "      <td>NaN</td>\n",
       "      <td>Operating System: AndroidUltra HD (4K) 3840 x ...</td>\n",
       "      <td>4.4</td>\n",
       "      <td>Mi</td>\n",
       "    </tr>\n",
       "    <tr>\n",
       "      <th>692</th>\n",
       "      <td>KODAK 108 cm (43 inch) Full HD LED Smart Linux...</td>\n",
       "      <td>₹14,999</td>\n",
       "      <td>₹22,999</td>\n",
       "      <td>Operating System: LinuxFull HD 1920 x 1080 Pix...</td>\n",
       "      <td>4.3</td>\n",
       "      <td>KODAK</td>\n",
       "    </tr>\n",
       "    <tr>\n",
       "      <th>693</th>\n",
       "      <td>SAMSUNG New D Series Brighter Crystal Vivid (2...</td>\n",
       "      <td>₹43,990</td>\n",
       "      <td>₹64,900</td>\n",
       "      <td>Operating System: TizenUltra HD (4K) 3840 x 21...</td>\n",
       "      <td>4.3</td>\n",
       "      <td>SAMSUNG</td>\n",
       "    </tr>\n",
       "    <tr>\n",
       "      <th>694</th>\n",
       "      <td>SONY Bravia 138.8 cm (55 inch) OLED Ultra HD (...</td>\n",
       "      <td>₹1,56,900</td>\n",
       "      <td>₹2,49,900</td>\n",
       "      <td>Operating System: Google TVUltra HD (4K) 3840 ...</td>\n",
       "      <td>4.8</td>\n",
       "      <td>SONY</td>\n",
       "    </tr>\n",
       "    <tr>\n",
       "      <th>695</th>\n",
       "      <td>SONY Bravia 139 cm (55 inch) Ultra HD (4K) LED...</td>\n",
       "      <td>₹57,990</td>\n",
       "      <td>₹99,990</td>\n",
       "      <td>Operating System: Google TVUltra HD (4K) 3840 ...</td>\n",
       "      <td>NaN</td>\n",
       "      <td>SONY</td>\n",
       "    </tr>\n",
       "  </tbody>\n",
       "</table>\n",
       "<p>696 rows × 6 columns</p>\n",
       "</div>"
      ],
      "text/plain": [
       "                                          Product_Name Selling_Price  \\\n",
       "0    Acer Advanced I Series 102 cm (40 inch) Full H...       ₹17,499   \n",
       "1    SONY Bravia 2 108 cm (43 inch) Ultra HD (4K) L...       ₹40,990   \n",
       "2    Thomson Phoenix 108 cm (43 inch) QLED Ultra HD...       ₹21,999   \n",
       "3    Mi X Series 138 cm (55 inch) Ultra HD (4K) LED...       ₹36,999   \n",
       "4    MOTOROLA EnvisionX 140 cm (55 inch) QLED Ultra...       ₹32,999   \n",
       "..                                                 ...           ...   \n",
       "691  Mi Q1 138.8 cm (55 inch) QLED Ultra HD (4K) Sm...       ₹59,999   \n",
       "692  KODAK 108 cm (43 inch) Full HD LED Smart Linux...       ₹14,999   \n",
       "693  SAMSUNG New D Series Brighter Crystal Vivid (2...       ₹43,990   \n",
       "694  SONY Bravia 138.8 cm (55 inch) OLED Ultra HD (...     ₹1,56,900   \n",
       "695  SONY Bravia 139 cm (55 inch) Ultra HD (4K) LED...       ₹57,990   \n",
       "\n",
       "    Original_Price                                              Specs  \\\n",
       "0          ₹29,999  Operating System: Google TVFull HD 1080 x 1920...   \n",
       "1          ₹59,900  Operating System: Google TVUltra HD (4K) 3840 ...   \n",
       "2          ₹31,999  Operating System: Google TVUltra HD (4K) 3840 ...   \n",
       "3          ₹54,999  Operating System: Google TVUltra HD (4K) 3840 ...   \n",
       "4        ₹1,19,980  Operating System: Google TVUltra HD (4K) 3840 ...   \n",
       "..             ...                                                ...   \n",
       "691            NaN  Operating System: AndroidUltra HD (4K) 3840 x ...   \n",
       "692        ₹22,999  Operating System: LinuxFull HD 1920 x 1080 Pix...   \n",
       "693        ₹64,900  Operating System: TizenUltra HD (4K) 3840 x 21...   \n",
       "694      ₹2,49,900  Operating System: Google TVUltra HD (4K) 3840 ...   \n",
       "695        ₹99,990  Operating System: Google TVUltra HD (4K) 3840 ...   \n",
       "\n",
       "     Ratings      Name  \n",
       "0        4.3      Acer  \n",
       "1        4.7      SONY  \n",
       "2        4.5   Thomson  \n",
       "3        4.3        Mi  \n",
       "4        4.3  MOTOROLA  \n",
       "..       ...       ...  \n",
       "691      4.4        Mi  \n",
       "692      4.3     KODAK  \n",
       "693      4.3   SAMSUNG  \n",
       "694      4.8      SONY  \n",
       "695      NaN      SONY  \n",
       "\n",
       "[696 rows x 6 columns]"
      ]
     },
     "execution_count": 25,
     "metadata": {},
     "output_type": "execute_result"
    }
   ],
   "source": [
    "df"
   ]
  },
  {
   "cell_type": "code",
   "execution_count": 26,
   "id": "c7fac89d",
   "metadata": {},
   "outputs": [],
   "source": [
    "df['Name'] = df.Name.str.title()"
   ]
  },
  {
   "cell_type": "code",
   "execution_count": 27,
   "id": "3a554b8a",
   "metadata": {},
   "outputs": [
    {
     "data": {
      "text/html": [
       "<div>\n",
       "<style scoped>\n",
       "    .dataframe tbody tr th:only-of-type {\n",
       "        vertical-align: middle;\n",
       "    }\n",
       "\n",
       "    .dataframe tbody tr th {\n",
       "        vertical-align: top;\n",
       "    }\n",
       "\n",
       "    .dataframe thead th {\n",
       "        text-align: right;\n",
       "    }\n",
       "</style>\n",
       "<table border=\"1\" class=\"dataframe\">\n",
       "  <thead>\n",
       "    <tr style=\"text-align: right;\">\n",
       "      <th></th>\n",
       "      <th>Product_Name</th>\n",
       "      <th>Selling_Price</th>\n",
       "      <th>Original_Price</th>\n",
       "      <th>Specs</th>\n",
       "      <th>Ratings</th>\n",
       "      <th>Name</th>\n",
       "    </tr>\n",
       "  </thead>\n",
       "  <tbody>\n",
       "    <tr>\n",
       "      <th>0</th>\n",
       "      <td>Acer Advanced I Series 102 cm (40 inch) Full H...</td>\n",
       "      <td>₹17,499</td>\n",
       "      <td>₹29,999</td>\n",
       "      <td>Operating System: Google TVFull HD 1080 x 1920...</td>\n",
       "      <td>4.3</td>\n",
       "      <td>Acer</td>\n",
       "    </tr>\n",
       "    <tr>\n",
       "      <th>1</th>\n",
       "      <td>SONY Bravia 2 108 cm (43 inch) Ultra HD (4K) L...</td>\n",
       "      <td>₹40,990</td>\n",
       "      <td>₹59,900</td>\n",
       "      <td>Operating System: Google TVUltra HD (4K) 3840 ...</td>\n",
       "      <td>4.7</td>\n",
       "      <td>Sony</td>\n",
       "    </tr>\n",
       "    <tr>\n",
       "      <th>2</th>\n",
       "      <td>Thomson Phoenix 108 cm (43 inch) QLED Ultra HD...</td>\n",
       "      <td>₹21,999</td>\n",
       "      <td>₹31,999</td>\n",
       "      <td>Operating System: Google TVUltra HD (4K) 3840 ...</td>\n",
       "      <td>4.5</td>\n",
       "      <td>Thomson</td>\n",
       "    </tr>\n",
       "    <tr>\n",
       "      <th>3</th>\n",
       "      <td>Mi X Series 138 cm (55 inch) Ultra HD (4K) LED...</td>\n",
       "      <td>₹36,999</td>\n",
       "      <td>₹54,999</td>\n",
       "      <td>Operating System: Google TVUltra HD (4K) 3840 ...</td>\n",
       "      <td>4.3</td>\n",
       "      <td>Mi</td>\n",
       "    </tr>\n",
       "    <tr>\n",
       "      <th>4</th>\n",
       "      <td>MOTOROLA EnvisionX 140 cm (55 inch) QLED Ultra...</td>\n",
       "      <td>₹32,999</td>\n",
       "      <td>₹1,19,980</td>\n",
       "      <td>Operating System: Google TVUltra HD (4K) 3840 ...</td>\n",
       "      <td>4.3</td>\n",
       "      <td>Motorola</td>\n",
       "    </tr>\n",
       "    <tr>\n",
       "      <th>...</th>\n",
       "      <td>...</td>\n",
       "      <td>...</td>\n",
       "      <td>...</td>\n",
       "      <td>...</td>\n",
       "      <td>...</td>\n",
       "      <td>...</td>\n",
       "    </tr>\n",
       "    <tr>\n",
       "      <th>691</th>\n",
       "      <td>Mi Q1 138.8 cm (55 inch) QLED Ultra HD (4K) Sm...</td>\n",
       "      <td>₹59,999</td>\n",
       "      <td>NaN</td>\n",
       "      <td>Operating System: AndroidUltra HD (4K) 3840 x ...</td>\n",
       "      <td>4.4</td>\n",
       "      <td>Mi</td>\n",
       "    </tr>\n",
       "    <tr>\n",
       "      <th>692</th>\n",
       "      <td>KODAK 108 cm (43 inch) Full HD LED Smart Linux...</td>\n",
       "      <td>₹14,999</td>\n",
       "      <td>₹22,999</td>\n",
       "      <td>Operating System: LinuxFull HD 1920 x 1080 Pix...</td>\n",
       "      <td>4.3</td>\n",
       "      <td>Kodak</td>\n",
       "    </tr>\n",
       "    <tr>\n",
       "      <th>693</th>\n",
       "      <td>SAMSUNG New D Series Brighter Crystal Vivid (2...</td>\n",
       "      <td>₹43,990</td>\n",
       "      <td>₹64,900</td>\n",
       "      <td>Operating System: TizenUltra HD (4K) 3840 x 21...</td>\n",
       "      <td>4.3</td>\n",
       "      <td>Samsung</td>\n",
       "    </tr>\n",
       "    <tr>\n",
       "      <th>694</th>\n",
       "      <td>SONY Bravia 138.8 cm (55 inch) OLED Ultra HD (...</td>\n",
       "      <td>₹1,56,900</td>\n",
       "      <td>₹2,49,900</td>\n",
       "      <td>Operating System: Google TVUltra HD (4K) 3840 ...</td>\n",
       "      <td>4.8</td>\n",
       "      <td>Sony</td>\n",
       "    </tr>\n",
       "    <tr>\n",
       "      <th>695</th>\n",
       "      <td>SONY Bravia 139 cm (55 inch) Ultra HD (4K) LED...</td>\n",
       "      <td>₹57,990</td>\n",
       "      <td>₹99,990</td>\n",
       "      <td>Operating System: Google TVUltra HD (4K) 3840 ...</td>\n",
       "      <td>NaN</td>\n",
       "      <td>Sony</td>\n",
       "    </tr>\n",
       "  </tbody>\n",
       "</table>\n",
       "<p>696 rows × 6 columns</p>\n",
       "</div>"
      ],
      "text/plain": [
       "                                          Product_Name Selling_Price  \\\n",
       "0    Acer Advanced I Series 102 cm (40 inch) Full H...       ₹17,499   \n",
       "1    SONY Bravia 2 108 cm (43 inch) Ultra HD (4K) L...       ₹40,990   \n",
       "2    Thomson Phoenix 108 cm (43 inch) QLED Ultra HD...       ₹21,999   \n",
       "3    Mi X Series 138 cm (55 inch) Ultra HD (4K) LED...       ₹36,999   \n",
       "4    MOTOROLA EnvisionX 140 cm (55 inch) QLED Ultra...       ₹32,999   \n",
       "..                                                 ...           ...   \n",
       "691  Mi Q1 138.8 cm (55 inch) QLED Ultra HD (4K) Sm...       ₹59,999   \n",
       "692  KODAK 108 cm (43 inch) Full HD LED Smart Linux...       ₹14,999   \n",
       "693  SAMSUNG New D Series Brighter Crystal Vivid (2...       ₹43,990   \n",
       "694  SONY Bravia 138.8 cm (55 inch) OLED Ultra HD (...     ₹1,56,900   \n",
       "695  SONY Bravia 139 cm (55 inch) Ultra HD (4K) LED...       ₹57,990   \n",
       "\n",
       "    Original_Price                                              Specs  \\\n",
       "0          ₹29,999  Operating System: Google TVFull HD 1080 x 1920...   \n",
       "1          ₹59,900  Operating System: Google TVUltra HD (4K) 3840 ...   \n",
       "2          ₹31,999  Operating System: Google TVUltra HD (4K) 3840 ...   \n",
       "3          ₹54,999  Operating System: Google TVUltra HD (4K) 3840 ...   \n",
       "4        ₹1,19,980  Operating System: Google TVUltra HD (4K) 3840 ...   \n",
       "..             ...                                                ...   \n",
       "691            NaN  Operating System: AndroidUltra HD (4K) 3840 x ...   \n",
       "692        ₹22,999  Operating System: LinuxFull HD 1920 x 1080 Pix...   \n",
       "693        ₹64,900  Operating System: TizenUltra HD (4K) 3840 x 21...   \n",
       "694      ₹2,49,900  Operating System: Google TVUltra HD (4K) 3840 ...   \n",
       "695        ₹99,990  Operating System: Google TVUltra HD (4K) 3840 ...   \n",
       "\n",
       "     Ratings      Name  \n",
       "0        4.3      Acer  \n",
       "1        4.7      Sony  \n",
       "2        4.5   Thomson  \n",
       "3        4.3        Mi  \n",
       "4        4.3  Motorola  \n",
       "..       ...       ...  \n",
       "691      4.4        Mi  \n",
       "692      4.3     Kodak  \n",
       "693      4.3   Samsung  \n",
       "694      4.8      Sony  \n",
       "695      NaN      Sony  \n",
       "\n",
       "[696 rows x 6 columns]"
      ]
     },
     "execution_count": 27,
     "metadata": {},
     "output_type": "execute_result"
    }
   ],
   "source": [
    "df"
   ]
  },
  {
   "cell_type": "markdown",
   "id": "a394059d",
   "metadata": {},
   "source": [
    "### Size Column\n",
    "\n",
    "* \\d is the shorthand method to extract number (0-9) Where + extracts the number of continious numbers after (0-9)+. Ex: 43\n",
    "\n",
    "* \\s stands for slash\n",
    "\n",
    "* '\\d+\\sinch' Extracts the inches values form the column df.Product_Name\n",
    "\n",
    "* Extracting the strings containing inch and and replacing the null values with np.nan\n",
    "\n",
    "* Hence converting it into integer data type using .astype(int)\n",
    "\n",
    "* After converting the data dropping the columns where the sizes are missing"
   ]
  },
  {
   "cell_type": "code",
   "execution_count": 28,
   "id": "4b42cbc8",
   "metadata": {},
   "outputs": [
    {
     "data": {
      "text/plain": [
       "['40 inch']"
      ]
     },
     "execution_count": 28,
     "metadata": {},
     "output_type": "execute_result"
    }
   ],
   "source": [
    "re.findall('\\d+\\sinch', df['Product_Name'][0] )"
   ]
  },
  {
   "cell_type": "code",
   "execution_count": 29,
   "id": "3f2a8e3e",
   "metadata": {},
   "outputs": [],
   "source": [
    "df['Size'] = df['Product_Name'].apply(lambda x: ''.join(re.findall(  '\\d+\\sinch' ,x)))"
   ]
  },
  {
   "cell_type": "code",
   "execution_count": 30,
   "id": "0defc755",
   "metadata": {},
   "outputs": [
    {
     "data": {
      "text/html": [
       "<div>\n",
       "<style scoped>\n",
       "    .dataframe tbody tr th:only-of-type {\n",
       "        vertical-align: middle;\n",
       "    }\n",
       "\n",
       "    .dataframe tbody tr th {\n",
       "        vertical-align: top;\n",
       "    }\n",
       "\n",
       "    .dataframe thead th {\n",
       "        text-align: right;\n",
       "    }\n",
       "</style>\n",
       "<table border=\"1\" class=\"dataframe\">\n",
       "  <thead>\n",
       "    <tr style=\"text-align: right;\">\n",
       "      <th></th>\n",
       "      <th>Product_Name</th>\n",
       "      <th>Selling_Price</th>\n",
       "      <th>Original_Price</th>\n",
       "      <th>Specs</th>\n",
       "      <th>Ratings</th>\n",
       "      <th>Name</th>\n",
       "      <th>Size</th>\n",
       "    </tr>\n",
       "  </thead>\n",
       "  <tbody>\n",
       "    <tr>\n",
       "      <th>0</th>\n",
       "      <td>Acer Advanced I Series 102 cm (40 inch) Full H...</td>\n",
       "      <td>₹17,499</td>\n",
       "      <td>₹29,999</td>\n",
       "      <td>Operating System: Google TVFull HD 1080 x 1920...</td>\n",
       "      <td>4.3</td>\n",
       "      <td>Acer</td>\n",
       "      <td>40 inch</td>\n",
       "    </tr>\n",
       "    <tr>\n",
       "      <th>1</th>\n",
       "      <td>SONY Bravia 2 108 cm (43 inch) Ultra HD (4K) L...</td>\n",
       "      <td>₹40,990</td>\n",
       "      <td>₹59,900</td>\n",
       "      <td>Operating System: Google TVUltra HD (4K) 3840 ...</td>\n",
       "      <td>4.7</td>\n",
       "      <td>Sony</td>\n",
       "      <td>43 inch</td>\n",
       "    </tr>\n",
       "    <tr>\n",
       "      <th>2</th>\n",
       "      <td>Thomson Phoenix 108 cm (43 inch) QLED Ultra HD...</td>\n",
       "      <td>₹21,999</td>\n",
       "      <td>₹31,999</td>\n",
       "      <td>Operating System: Google TVUltra HD (4K) 3840 ...</td>\n",
       "      <td>4.5</td>\n",
       "      <td>Thomson</td>\n",
       "      <td>43 inch</td>\n",
       "    </tr>\n",
       "    <tr>\n",
       "      <th>3</th>\n",
       "      <td>Mi X Series 138 cm (55 inch) Ultra HD (4K) LED...</td>\n",
       "      <td>₹36,999</td>\n",
       "      <td>₹54,999</td>\n",
       "      <td>Operating System: Google TVUltra HD (4K) 3840 ...</td>\n",
       "      <td>4.3</td>\n",
       "      <td>Mi</td>\n",
       "      <td>55 inch</td>\n",
       "    </tr>\n",
       "    <tr>\n",
       "      <th>4</th>\n",
       "      <td>MOTOROLA EnvisionX 140 cm (55 inch) QLED Ultra...</td>\n",
       "      <td>₹32,999</td>\n",
       "      <td>₹1,19,980</td>\n",
       "      <td>Operating System: Google TVUltra HD (4K) 3840 ...</td>\n",
       "      <td>4.3</td>\n",
       "      <td>Motorola</td>\n",
       "      <td>55 inch</td>\n",
       "    </tr>\n",
       "    <tr>\n",
       "      <th>...</th>\n",
       "      <td>...</td>\n",
       "      <td>...</td>\n",
       "      <td>...</td>\n",
       "      <td>...</td>\n",
       "      <td>...</td>\n",
       "      <td>...</td>\n",
       "      <td>...</td>\n",
       "    </tr>\n",
       "    <tr>\n",
       "      <th>691</th>\n",
       "      <td>Mi Q1 138.8 cm (55 inch) QLED Ultra HD (4K) Sm...</td>\n",
       "      <td>₹59,999</td>\n",
       "      <td>NaN</td>\n",
       "      <td>Operating System: AndroidUltra HD (4K) 3840 x ...</td>\n",
       "      <td>4.4</td>\n",
       "      <td>Mi</td>\n",
       "      <td>55 inch</td>\n",
       "    </tr>\n",
       "    <tr>\n",
       "      <th>692</th>\n",
       "      <td>KODAK 108 cm (43 inch) Full HD LED Smart Linux...</td>\n",
       "      <td>₹14,999</td>\n",
       "      <td>₹22,999</td>\n",
       "      <td>Operating System: LinuxFull HD 1920 x 1080 Pix...</td>\n",
       "      <td>4.3</td>\n",
       "      <td>Kodak</td>\n",
       "      <td>43 inch</td>\n",
       "    </tr>\n",
       "    <tr>\n",
       "      <th>693</th>\n",
       "      <td>SAMSUNG New D Series Brighter Crystal Vivid (2...</td>\n",
       "      <td>₹43,990</td>\n",
       "      <td>₹64,900</td>\n",
       "      <td>Operating System: TizenUltra HD (4K) 3840 x 21...</td>\n",
       "      <td>4.3</td>\n",
       "      <td>Samsung</td>\n",
       "      <td>55 inch</td>\n",
       "    </tr>\n",
       "    <tr>\n",
       "      <th>694</th>\n",
       "      <td>SONY Bravia 138.8 cm (55 inch) OLED Ultra HD (...</td>\n",
       "      <td>₹1,56,900</td>\n",
       "      <td>₹2,49,900</td>\n",
       "      <td>Operating System: Google TVUltra HD (4K) 3840 ...</td>\n",
       "      <td>4.8</td>\n",
       "      <td>Sony</td>\n",
       "      <td>55 inch</td>\n",
       "    </tr>\n",
       "    <tr>\n",
       "      <th>695</th>\n",
       "      <td>SONY Bravia 139 cm (55 inch) Ultra HD (4K) LED...</td>\n",
       "      <td>₹57,990</td>\n",
       "      <td>₹99,990</td>\n",
       "      <td>Operating System: Google TVUltra HD (4K) 3840 ...</td>\n",
       "      <td>NaN</td>\n",
       "      <td>Sony</td>\n",
       "      <td>55 inch</td>\n",
       "    </tr>\n",
       "  </tbody>\n",
       "</table>\n",
       "<p>696 rows × 7 columns</p>\n",
       "</div>"
      ],
      "text/plain": [
       "                                          Product_Name Selling_Price  \\\n",
       "0    Acer Advanced I Series 102 cm (40 inch) Full H...       ₹17,499   \n",
       "1    SONY Bravia 2 108 cm (43 inch) Ultra HD (4K) L...       ₹40,990   \n",
       "2    Thomson Phoenix 108 cm (43 inch) QLED Ultra HD...       ₹21,999   \n",
       "3    Mi X Series 138 cm (55 inch) Ultra HD (4K) LED...       ₹36,999   \n",
       "4    MOTOROLA EnvisionX 140 cm (55 inch) QLED Ultra...       ₹32,999   \n",
       "..                                                 ...           ...   \n",
       "691  Mi Q1 138.8 cm (55 inch) QLED Ultra HD (4K) Sm...       ₹59,999   \n",
       "692  KODAK 108 cm (43 inch) Full HD LED Smart Linux...       ₹14,999   \n",
       "693  SAMSUNG New D Series Brighter Crystal Vivid (2...       ₹43,990   \n",
       "694  SONY Bravia 138.8 cm (55 inch) OLED Ultra HD (...     ₹1,56,900   \n",
       "695  SONY Bravia 139 cm (55 inch) Ultra HD (4K) LED...       ₹57,990   \n",
       "\n",
       "    Original_Price                                              Specs  \\\n",
       "0          ₹29,999  Operating System: Google TVFull HD 1080 x 1920...   \n",
       "1          ₹59,900  Operating System: Google TVUltra HD (4K) 3840 ...   \n",
       "2          ₹31,999  Operating System: Google TVUltra HD (4K) 3840 ...   \n",
       "3          ₹54,999  Operating System: Google TVUltra HD (4K) 3840 ...   \n",
       "4        ₹1,19,980  Operating System: Google TVUltra HD (4K) 3840 ...   \n",
       "..             ...                                                ...   \n",
       "691            NaN  Operating System: AndroidUltra HD (4K) 3840 x ...   \n",
       "692        ₹22,999  Operating System: LinuxFull HD 1920 x 1080 Pix...   \n",
       "693        ₹64,900  Operating System: TizenUltra HD (4K) 3840 x 21...   \n",
       "694      ₹2,49,900  Operating System: Google TVUltra HD (4K) 3840 ...   \n",
       "695        ₹99,990  Operating System: Google TVUltra HD (4K) 3840 ...   \n",
       "\n",
       "     Ratings      Name     Size  \n",
       "0        4.3      Acer  40 inch  \n",
       "1        4.7      Sony  43 inch  \n",
       "2        4.5   Thomson  43 inch  \n",
       "3        4.3        Mi  55 inch  \n",
       "4        4.3  Motorola  55 inch  \n",
       "..       ...       ...      ...  \n",
       "691      4.4        Mi  55 inch  \n",
       "692      4.3     Kodak  43 inch  \n",
       "693      4.3   Samsung  55 inch  \n",
       "694      4.8      Sony  55 inch  \n",
       "695      NaN      Sony  55 inch  \n",
       "\n",
       "[696 rows x 7 columns]"
      ]
     },
     "execution_count": 30,
     "metadata": {},
     "output_type": "execute_result"
    }
   ],
   "source": [
    "df"
   ]
  },
  {
   "cell_type": "code",
   "execution_count": 31,
   "id": "0686c4ea",
   "metadata": {},
   "outputs": [],
   "source": [
    "df['Size'] = df['Size'].str.replace(' inch','')\n"
   ]
  },
  {
   "cell_type": "code",
   "execution_count": 32,
   "id": "227f6e76",
   "metadata": {},
   "outputs": [],
   "source": [
    "df['Size'] = df['Size'].replace('',np.nan)"
   ]
  },
  {
   "cell_type": "code",
   "execution_count": 33,
   "id": "0f66c1cf",
   "metadata": {},
   "outputs": [],
   "source": [
    "df = df.dropna(subset = 'Size')"
   ]
  },
  {
   "cell_type": "code",
   "execution_count": 34,
   "id": "27fb6e07",
   "metadata": {},
   "outputs": [
    {
     "name": "stderr",
     "output_type": "stream",
     "text": [
      "C:\\Users\\mdazh\\AppData\\Local\\Temp\\ipykernel_22652\\4069769182.py:1: SettingWithCopyWarning: \n",
      "A value is trying to be set on a copy of a slice from a DataFrame.\n",
      "Try using .loc[row_indexer,col_indexer] = value instead\n",
      "\n",
      "See the caveats in the documentation: https://pandas.pydata.org/pandas-docs/stable/user_guide/indexing.html#returning-a-view-versus-a-copy\n",
      "  df['Size'] = df['Size'].astype(int)\n"
     ]
    }
   ],
   "source": [
    "df['Size'] = df['Size'].astype(int)"
   ]
  },
  {
   "cell_type": "code",
   "execution_count": 35,
   "id": "28112b63",
   "metadata": {},
   "outputs": [
    {
     "data": {
      "text/html": [
       "<div>\n",
       "<style scoped>\n",
       "    .dataframe tbody tr th:only-of-type {\n",
       "        vertical-align: middle;\n",
       "    }\n",
       "\n",
       "    .dataframe tbody tr th {\n",
       "        vertical-align: top;\n",
       "    }\n",
       "\n",
       "    .dataframe thead th {\n",
       "        text-align: right;\n",
       "    }\n",
       "</style>\n",
       "<table border=\"1\" class=\"dataframe\">\n",
       "  <thead>\n",
       "    <tr style=\"text-align: right;\">\n",
       "      <th></th>\n",
       "      <th>Product_Name</th>\n",
       "      <th>Selling_Price</th>\n",
       "      <th>Original_Price</th>\n",
       "      <th>Specs</th>\n",
       "      <th>Ratings</th>\n",
       "      <th>Name</th>\n",
       "      <th>Size</th>\n",
       "    </tr>\n",
       "  </thead>\n",
       "  <tbody>\n",
       "    <tr>\n",
       "      <th>0</th>\n",
       "      <td>Acer Advanced I Series 102 cm (40 inch) Full H...</td>\n",
       "      <td>₹17,499</td>\n",
       "      <td>₹29,999</td>\n",
       "      <td>Operating System: Google TVFull HD 1080 x 1920...</td>\n",
       "      <td>4.3</td>\n",
       "      <td>Acer</td>\n",
       "      <td>40</td>\n",
       "    </tr>\n",
       "    <tr>\n",
       "      <th>1</th>\n",
       "      <td>SONY Bravia 2 108 cm (43 inch) Ultra HD (4K) L...</td>\n",
       "      <td>₹40,990</td>\n",
       "      <td>₹59,900</td>\n",
       "      <td>Operating System: Google TVUltra HD (4K) 3840 ...</td>\n",
       "      <td>4.7</td>\n",
       "      <td>Sony</td>\n",
       "      <td>43</td>\n",
       "    </tr>\n",
       "    <tr>\n",
       "      <th>2</th>\n",
       "      <td>Thomson Phoenix 108 cm (43 inch) QLED Ultra HD...</td>\n",
       "      <td>₹21,999</td>\n",
       "      <td>₹31,999</td>\n",
       "      <td>Operating System: Google TVUltra HD (4K) 3840 ...</td>\n",
       "      <td>4.5</td>\n",
       "      <td>Thomson</td>\n",
       "      <td>43</td>\n",
       "    </tr>\n",
       "    <tr>\n",
       "      <th>3</th>\n",
       "      <td>Mi X Series 138 cm (55 inch) Ultra HD (4K) LED...</td>\n",
       "      <td>₹36,999</td>\n",
       "      <td>₹54,999</td>\n",
       "      <td>Operating System: Google TVUltra HD (4K) 3840 ...</td>\n",
       "      <td>4.3</td>\n",
       "      <td>Mi</td>\n",
       "      <td>55</td>\n",
       "    </tr>\n",
       "    <tr>\n",
       "      <th>4</th>\n",
       "      <td>MOTOROLA EnvisionX 140 cm (55 inch) QLED Ultra...</td>\n",
       "      <td>₹32,999</td>\n",
       "      <td>₹1,19,980</td>\n",
       "      <td>Operating System: Google TVUltra HD (4K) 3840 ...</td>\n",
       "      <td>4.3</td>\n",
       "      <td>Motorola</td>\n",
       "      <td>55</td>\n",
       "    </tr>\n",
       "  </tbody>\n",
       "</table>\n",
       "</div>"
      ],
      "text/plain": [
       "                                        Product_Name Selling_Price  \\\n",
       "0  Acer Advanced I Series 102 cm (40 inch) Full H...       ₹17,499   \n",
       "1  SONY Bravia 2 108 cm (43 inch) Ultra HD (4K) L...       ₹40,990   \n",
       "2  Thomson Phoenix 108 cm (43 inch) QLED Ultra HD...       ₹21,999   \n",
       "3  Mi X Series 138 cm (55 inch) Ultra HD (4K) LED...       ₹36,999   \n",
       "4  MOTOROLA EnvisionX 140 cm (55 inch) QLED Ultra...       ₹32,999   \n",
       "\n",
       "  Original_Price                                              Specs  Ratings  \\\n",
       "0        ₹29,999  Operating System: Google TVFull HD 1080 x 1920...      4.3   \n",
       "1        ₹59,900  Operating System: Google TVUltra HD (4K) 3840 ...      4.7   \n",
       "2        ₹31,999  Operating System: Google TVUltra HD (4K) 3840 ...      4.5   \n",
       "3        ₹54,999  Operating System: Google TVUltra HD (4K) 3840 ...      4.3   \n",
       "4      ₹1,19,980  Operating System: Google TVUltra HD (4K) 3840 ...      4.3   \n",
       "\n",
       "       Name  Size  \n",
       "0      Acer    40  \n",
       "1      Sony    43  \n",
       "2   Thomson    43  \n",
       "3        Mi    55  \n",
       "4  Motorola    55  "
      ]
     },
     "execution_count": 35,
     "metadata": {},
     "output_type": "execute_result"
    }
   ],
   "source": [
    "df.head()"
   ]
  },
  {
   "cell_type": "code",
   "execution_count": 36,
   "id": "9388ec4d",
   "metadata": {},
   "outputs": [
    {
     "data": {
      "text/plain": [
       "Product_Name       object\n",
       "Selling_Price      object\n",
       "Original_Price     object\n",
       "Specs              object\n",
       "Ratings           float64\n",
       "Name               object\n",
       "Size                int32\n",
       "dtype: object"
      ]
     },
     "execution_count": 36,
     "metadata": {},
     "output_type": "execute_result"
    }
   ],
   "source": [
    "### Hence we can see the size data type as int\n",
    "df.dtypes"
   ]
  },
  {
   "cell_type": "code",
   "execution_count": 37,
   "id": "23720b36",
   "metadata": {},
   "outputs": [
    {
     "data": {
      "text/plain": [
       "['Full HD LED']"
      ]
     },
     "execution_count": 37,
     "metadata": {},
     "output_type": "execute_result"
    }
   ],
   "source": [
    "re.findall(r'(Full HD LED|QLED Ultra HD 4K|Ultra HD \\(4K\\)|OLED Ultra HD 4K|QLED Ultra HD \\(4K\\))',df['Product_Name'][0])"
   ]
  },
  {
   "cell_type": "markdown",
   "id": "ef82a728",
   "metadata": {},
   "source": [
    "# Display column\n",
    "\n",
    "* r'(Full HD LED|QLED Ultra HD 4K|Ultra HD \\(4K\\)|OLED Ultra HD 4K|QLED Ultra HD \\(4K\\)' \n",
    "\n",
    "* Which finds the exacts words from the df.Product_Name\n",
    "\n",
    "\n",
    "* Extract the Display Information: Use regular expressions to capture display information such as \"Full HD LED,\" \"Ultra HD (4K),\" or \"QLED Ultra HD 4K.\"\n",
    "\n",
    "* Replace Null Values: Replace null values with np.nan\n",
    "\n",
    "* Drop Columns with Missing Display Information: Remove columns where the display information is missing.\n",
    "\n",
    "* converting the display information into title case"
   ]
  },
  {
   "cell_type": "code",
   "execution_count": 38,
   "id": "bdde705a",
   "metadata": {},
   "outputs": [
    {
     "name": "stderr",
     "output_type": "stream",
     "text": [
      "C:\\Users\\mdazh\\AppData\\Local\\Temp\\ipykernel_22652\\3259708085.py:1: SettingWithCopyWarning: \n",
      "A value is trying to be set on a copy of a slice from a DataFrame.\n",
      "Try using .loc[row_indexer,col_indexer] = value instead\n",
      "\n",
      "See the caveats in the documentation: https://pandas.pydata.org/pandas-docs/stable/user_guide/indexing.html#returning-a-view-versus-a-copy\n",
      "  df['Display'] = df['Product_Name'].apply(lambda x: ' '.join(re.findall(r'(Full HD LED|QLED Ultra HD 4K|Ultra HD \\(4K\\)|OLED Ultra HD 4K|QLED Ultra HD \\(4K\\))',x)))\n"
     ]
    }
   ],
   "source": [
    "df['Display'] = df['Product_Name'].apply(lambda x: ' '.join(re.findall(r'(Full HD LED|QLED Ultra HD 4K|Ultra HD \\(4K\\)|OLED Ultra HD 4K|QLED Ultra HD \\(4K\\))',x)))"
   ]
  },
  {
   "cell_type": "code",
   "execution_count": 39,
   "id": "116b47b5",
   "metadata": {},
   "outputs": [
    {
     "name": "stderr",
     "output_type": "stream",
     "text": [
      "C:\\Users\\mdazh\\AppData\\Local\\Temp\\ipykernel_22652\\2558618690.py:1: SettingWithCopyWarning: \n",
      "A value is trying to be set on a copy of a slice from a DataFrame.\n",
      "Try using .loc[row_indexer,col_indexer] = value instead\n",
      "\n",
      "See the caveats in the documentation: https://pandas.pydata.org/pandas-docs/stable/user_guide/indexing.html#returning-a-view-versus-a-copy\n",
      "  df['Display'] = df['Display'].replace('',np.nan)\n"
     ]
    }
   ],
   "source": [
    "df['Display'] = df['Display'].replace('',np.nan)"
   ]
  },
  {
   "cell_type": "code",
   "execution_count": 40,
   "id": "ecd9a0d3",
   "metadata": {},
   "outputs": [],
   "source": [
    "df = df.dropna(subset = ['Display'])"
   ]
  },
  {
   "cell_type": "code",
   "execution_count": 41,
   "id": "a8e41b4e",
   "metadata": {},
   "outputs": [],
   "source": [
    "df['Display'] = df.Display.str.title()"
   ]
  },
  {
   "cell_type": "code",
   "execution_count": 42,
   "id": "cc66fa14",
   "metadata": {},
   "outputs": [
    {
     "data": {
      "text/plain": [
       "Product_Name       object\n",
       "Selling_Price      object\n",
       "Original_Price     object\n",
       "Specs              object\n",
       "Ratings           float64\n",
       "Name               object\n",
       "Size                int32\n",
       "Display            object\n",
       "dtype: object"
      ]
     },
     "execution_count": 42,
     "metadata": {},
     "output_type": "execute_result"
    }
   ],
   "source": [
    "df.dtypes"
   ]
  },
  {
   "cell_type": "markdown",
   "id": "9d2b8702",
   "metadata": {},
   "source": [
    "# Selling_Price, Original_Price\n",
    "\n",
    "* using prices columns such as Selling_Price and Original_Price\n",
    "\n",
    "* Convert Object Data to Float: Replace the ₹ symbol with an empty string ('') and also remove any commas (,), then convert the  pricind datatype to float.\n",
    "\n",
    "* Dropping the columns where the both prices are null "
   ]
  },
  {
   "cell_type": "code",
   "execution_count": 43,
   "id": "c5047b99",
   "metadata": {},
   "outputs": [],
   "source": [
    "df['Selling_Price']=df['Selling_Price'].str.replace('₹','').str.replace(',','').astype(float)"
   ]
  },
  {
   "cell_type": "code",
   "execution_count": 44,
   "id": "c6cd593f",
   "metadata": {},
   "outputs": [],
   "source": [
    "df = df.dropna(subset = ['Selling_Price'])"
   ]
  },
  {
   "cell_type": "code",
   "execution_count": 45,
   "id": "f5e7b935",
   "metadata": {},
   "outputs": [
    {
     "data": {
      "text/html": [
       "<div>\n",
       "<style scoped>\n",
       "    .dataframe tbody tr th:only-of-type {\n",
       "        vertical-align: middle;\n",
       "    }\n",
       "\n",
       "    .dataframe tbody tr th {\n",
       "        vertical-align: top;\n",
       "    }\n",
       "\n",
       "    .dataframe thead th {\n",
       "        text-align: right;\n",
       "    }\n",
       "</style>\n",
       "<table border=\"1\" class=\"dataframe\">\n",
       "  <thead>\n",
       "    <tr style=\"text-align: right;\">\n",
       "      <th></th>\n",
       "      <th>Product_Name</th>\n",
       "      <th>Selling_Price</th>\n",
       "      <th>Original_Price</th>\n",
       "      <th>Specs</th>\n",
       "      <th>Ratings</th>\n",
       "      <th>Name</th>\n",
       "      <th>Size</th>\n",
       "      <th>Display</th>\n",
       "    </tr>\n",
       "  </thead>\n",
       "  <tbody>\n",
       "    <tr>\n",
       "      <th>0</th>\n",
       "      <td>Acer Advanced I Series 102 cm (40 inch) Full H...</td>\n",
       "      <td>17499.0</td>\n",
       "      <td>₹29,999</td>\n",
       "      <td>Operating System: Google TVFull HD 1080 x 1920...</td>\n",
       "      <td>4.3</td>\n",
       "      <td>Acer</td>\n",
       "      <td>40</td>\n",
       "      <td>Full Hd Led</td>\n",
       "    </tr>\n",
       "    <tr>\n",
       "      <th>1</th>\n",
       "      <td>SONY Bravia 2 108 cm (43 inch) Ultra HD (4K) L...</td>\n",
       "      <td>40990.0</td>\n",
       "      <td>₹59,900</td>\n",
       "      <td>Operating System: Google TVUltra HD (4K) 3840 ...</td>\n",
       "      <td>4.7</td>\n",
       "      <td>Sony</td>\n",
       "      <td>43</td>\n",
       "      <td>Ultra Hd (4K)</td>\n",
       "    </tr>\n",
       "    <tr>\n",
       "      <th>2</th>\n",
       "      <td>Thomson Phoenix 108 cm (43 inch) QLED Ultra HD...</td>\n",
       "      <td>21999.0</td>\n",
       "      <td>₹31,999</td>\n",
       "      <td>Operating System: Google TVUltra HD (4K) 3840 ...</td>\n",
       "      <td>4.5</td>\n",
       "      <td>Thomson</td>\n",
       "      <td>43</td>\n",
       "      <td>Qled Ultra Hd (4K)</td>\n",
       "    </tr>\n",
       "    <tr>\n",
       "      <th>3</th>\n",
       "      <td>Mi X Series 138 cm (55 inch) Ultra HD (4K) LED...</td>\n",
       "      <td>36999.0</td>\n",
       "      <td>₹54,999</td>\n",
       "      <td>Operating System: Google TVUltra HD (4K) 3840 ...</td>\n",
       "      <td>4.3</td>\n",
       "      <td>Mi</td>\n",
       "      <td>55</td>\n",
       "      <td>Ultra Hd (4K)</td>\n",
       "    </tr>\n",
       "    <tr>\n",
       "      <th>4</th>\n",
       "      <td>MOTOROLA EnvisionX 140 cm (55 inch) QLED Ultra...</td>\n",
       "      <td>32999.0</td>\n",
       "      <td>₹1,19,980</td>\n",
       "      <td>Operating System: Google TVUltra HD (4K) 3840 ...</td>\n",
       "      <td>4.3</td>\n",
       "      <td>Motorola</td>\n",
       "      <td>55</td>\n",
       "      <td>Qled Ultra Hd (4K)</td>\n",
       "    </tr>\n",
       "    <tr>\n",
       "      <th>...</th>\n",
       "      <td>...</td>\n",
       "      <td>...</td>\n",
       "      <td>...</td>\n",
       "      <td>...</td>\n",
       "      <td>...</td>\n",
       "      <td>...</td>\n",
       "      <td>...</td>\n",
       "      <td>...</td>\n",
       "    </tr>\n",
       "    <tr>\n",
       "      <th>691</th>\n",
       "      <td>Mi Q1 138.8 cm (55 inch) QLED Ultra HD (4K) Sm...</td>\n",
       "      <td>59999.0</td>\n",
       "      <td>NaN</td>\n",
       "      <td>Operating System: AndroidUltra HD (4K) 3840 x ...</td>\n",
       "      <td>4.4</td>\n",
       "      <td>Mi</td>\n",
       "      <td>55</td>\n",
       "      <td>Qled Ultra Hd (4K)</td>\n",
       "    </tr>\n",
       "    <tr>\n",
       "      <th>692</th>\n",
       "      <td>KODAK 108 cm (43 inch) Full HD LED Smart Linux...</td>\n",
       "      <td>14999.0</td>\n",
       "      <td>₹22,999</td>\n",
       "      <td>Operating System: LinuxFull HD 1920 x 1080 Pix...</td>\n",
       "      <td>4.3</td>\n",
       "      <td>Kodak</td>\n",
       "      <td>43</td>\n",
       "      <td>Full Hd Led</td>\n",
       "    </tr>\n",
       "    <tr>\n",
       "      <th>693</th>\n",
       "      <td>SAMSUNG New D Series Brighter Crystal Vivid (2...</td>\n",
       "      <td>43990.0</td>\n",
       "      <td>₹64,900</td>\n",
       "      <td>Operating System: TizenUltra HD (4K) 3840 x 21...</td>\n",
       "      <td>4.3</td>\n",
       "      <td>Samsung</td>\n",
       "      <td>55</td>\n",
       "      <td>Ultra Hd (4K)</td>\n",
       "    </tr>\n",
       "    <tr>\n",
       "      <th>694</th>\n",
       "      <td>SONY Bravia 138.8 cm (55 inch) OLED Ultra HD (...</td>\n",
       "      <td>156900.0</td>\n",
       "      <td>₹2,49,900</td>\n",
       "      <td>Operating System: Google TVUltra HD (4K) 3840 ...</td>\n",
       "      <td>4.8</td>\n",
       "      <td>Sony</td>\n",
       "      <td>55</td>\n",
       "      <td>Ultra Hd (4K)</td>\n",
       "    </tr>\n",
       "    <tr>\n",
       "      <th>695</th>\n",
       "      <td>SONY Bravia 139 cm (55 inch) Ultra HD (4K) LED...</td>\n",
       "      <td>57990.0</td>\n",
       "      <td>₹99,990</td>\n",
       "      <td>Operating System: Google TVUltra HD (4K) 3840 ...</td>\n",
       "      <td>NaN</td>\n",
       "      <td>Sony</td>\n",
       "      <td>55</td>\n",
       "      <td>Ultra Hd (4K)</td>\n",
       "    </tr>\n",
       "  </tbody>\n",
       "</table>\n",
       "<p>685 rows × 8 columns</p>\n",
       "</div>"
      ],
      "text/plain": [
       "                                          Product_Name  Selling_Price  \\\n",
       "0    Acer Advanced I Series 102 cm (40 inch) Full H...        17499.0   \n",
       "1    SONY Bravia 2 108 cm (43 inch) Ultra HD (4K) L...        40990.0   \n",
       "2    Thomson Phoenix 108 cm (43 inch) QLED Ultra HD...        21999.0   \n",
       "3    Mi X Series 138 cm (55 inch) Ultra HD (4K) LED...        36999.0   \n",
       "4    MOTOROLA EnvisionX 140 cm (55 inch) QLED Ultra...        32999.0   \n",
       "..                                                 ...            ...   \n",
       "691  Mi Q1 138.8 cm (55 inch) QLED Ultra HD (4K) Sm...        59999.0   \n",
       "692  KODAK 108 cm (43 inch) Full HD LED Smart Linux...        14999.0   \n",
       "693  SAMSUNG New D Series Brighter Crystal Vivid (2...        43990.0   \n",
       "694  SONY Bravia 138.8 cm (55 inch) OLED Ultra HD (...       156900.0   \n",
       "695  SONY Bravia 139 cm (55 inch) Ultra HD (4K) LED...        57990.0   \n",
       "\n",
       "    Original_Price                                              Specs  \\\n",
       "0          ₹29,999  Operating System: Google TVFull HD 1080 x 1920...   \n",
       "1          ₹59,900  Operating System: Google TVUltra HD (4K) 3840 ...   \n",
       "2          ₹31,999  Operating System: Google TVUltra HD (4K) 3840 ...   \n",
       "3          ₹54,999  Operating System: Google TVUltra HD (4K) 3840 ...   \n",
       "4        ₹1,19,980  Operating System: Google TVUltra HD (4K) 3840 ...   \n",
       "..             ...                                                ...   \n",
       "691            NaN  Operating System: AndroidUltra HD (4K) 3840 x ...   \n",
       "692        ₹22,999  Operating System: LinuxFull HD 1920 x 1080 Pix...   \n",
       "693        ₹64,900  Operating System: TizenUltra HD (4K) 3840 x 21...   \n",
       "694      ₹2,49,900  Operating System: Google TVUltra HD (4K) 3840 ...   \n",
       "695        ₹99,990  Operating System: Google TVUltra HD (4K) 3840 ...   \n",
       "\n",
       "     Ratings      Name  Size             Display  \n",
       "0        4.3      Acer    40         Full Hd Led  \n",
       "1        4.7      Sony    43       Ultra Hd (4K)  \n",
       "2        4.5   Thomson    43  Qled Ultra Hd (4K)  \n",
       "3        4.3        Mi    55       Ultra Hd (4K)  \n",
       "4        4.3  Motorola    55  Qled Ultra Hd (4K)  \n",
       "..       ...       ...   ...                 ...  \n",
       "691      4.4        Mi    55  Qled Ultra Hd (4K)  \n",
       "692      4.3     Kodak    43         Full Hd Led  \n",
       "693      4.3   Samsung    55       Ultra Hd (4K)  \n",
       "694      4.8      Sony    55       Ultra Hd (4K)  \n",
       "695      NaN      Sony    55       Ultra Hd (4K)  \n",
       "\n",
       "[685 rows x 8 columns]"
      ]
     },
     "execution_count": 45,
     "metadata": {},
     "output_type": "execute_result"
    }
   ],
   "source": [
    "df"
   ]
  },
  {
   "cell_type": "code",
   "execution_count": 46,
   "id": "b2228b7b",
   "metadata": {},
   "outputs": [],
   "source": [
    "df['Original_Price']=df['Original_Price'].str.replace('₹','').str.replace(',','').astype(float)"
   ]
  },
  {
   "cell_type": "code",
   "execution_count": 47,
   "id": "2f7271cb",
   "metadata": {},
   "outputs": [],
   "source": [
    "df = df.dropna(subset = 'Original_Price')"
   ]
  },
  {
   "cell_type": "code",
   "execution_count": 48,
   "id": "9740508d",
   "metadata": {},
   "outputs": [
    {
     "data": {
      "text/html": [
       "<div>\n",
       "<style scoped>\n",
       "    .dataframe tbody tr th:only-of-type {\n",
       "        vertical-align: middle;\n",
       "    }\n",
       "\n",
       "    .dataframe tbody tr th {\n",
       "        vertical-align: top;\n",
       "    }\n",
       "\n",
       "    .dataframe thead th {\n",
       "        text-align: right;\n",
       "    }\n",
       "</style>\n",
       "<table border=\"1\" class=\"dataframe\">\n",
       "  <thead>\n",
       "    <tr style=\"text-align: right;\">\n",
       "      <th></th>\n",
       "      <th>Product_Name</th>\n",
       "      <th>Selling_Price</th>\n",
       "      <th>Original_Price</th>\n",
       "      <th>Specs</th>\n",
       "      <th>Ratings</th>\n",
       "      <th>Name</th>\n",
       "      <th>Size</th>\n",
       "      <th>Display</th>\n",
       "    </tr>\n",
       "  </thead>\n",
       "  <tbody>\n",
       "    <tr>\n",
       "      <th>0</th>\n",
       "      <td>Acer Advanced I Series 102 cm (40 inch) Full H...</td>\n",
       "      <td>17499.0</td>\n",
       "      <td>29999.0</td>\n",
       "      <td>Operating System: Google TVFull HD 1080 x 1920...</td>\n",
       "      <td>4.3</td>\n",
       "      <td>Acer</td>\n",
       "      <td>40</td>\n",
       "      <td>Full Hd Led</td>\n",
       "    </tr>\n",
       "    <tr>\n",
       "      <th>1</th>\n",
       "      <td>SONY Bravia 2 108 cm (43 inch) Ultra HD (4K) L...</td>\n",
       "      <td>40990.0</td>\n",
       "      <td>59900.0</td>\n",
       "      <td>Operating System: Google TVUltra HD (4K) 3840 ...</td>\n",
       "      <td>4.7</td>\n",
       "      <td>Sony</td>\n",
       "      <td>43</td>\n",
       "      <td>Ultra Hd (4K)</td>\n",
       "    </tr>\n",
       "    <tr>\n",
       "      <th>2</th>\n",
       "      <td>Thomson Phoenix 108 cm (43 inch) QLED Ultra HD...</td>\n",
       "      <td>21999.0</td>\n",
       "      <td>31999.0</td>\n",
       "      <td>Operating System: Google TVUltra HD (4K) 3840 ...</td>\n",
       "      <td>4.5</td>\n",
       "      <td>Thomson</td>\n",
       "      <td>43</td>\n",
       "      <td>Qled Ultra Hd (4K)</td>\n",
       "    </tr>\n",
       "    <tr>\n",
       "      <th>3</th>\n",
       "      <td>Mi X Series 138 cm (55 inch) Ultra HD (4K) LED...</td>\n",
       "      <td>36999.0</td>\n",
       "      <td>54999.0</td>\n",
       "      <td>Operating System: Google TVUltra HD (4K) 3840 ...</td>\n",
       "      <td>4.3</td>\n",
       "      <td>Mi</td>\n",
       "      <td>55</td>\n",
       "      <td>Ultra Hd (4K)</td>\n",
       "    </tr>\n",
       "    <tr>\n",
       "      <th>4</th>\n",
       "      <td>MOTOROLA EnvisionX 140 cm (55 inch) QLED Ultra...</td>\n",
       "      <td>32999.0</td>\n",
       "      <td>119980.0</td>\n",
       "      <td>Operating System: Google TVUltra HD (4K) 3840 ...</td>\n",
       "      <td>4.3</td>\n",
       "      <td>Motorola</td>\n",
       "      <td>55</td>\n",
       "      <td>Qled Ultra Hd (4K)</td>\n",
       "    </tr>\n",
       "    <tr>\n",
       "      <th>...</th>\n",
       "      <td>...</td>\n",
       "      <td>...</td>\n",
       "      <td>...</td>\n",
       "      <td>...</td>\n",
       "      <td>...</td>\n",
       "      <td>...</td>\n",
       "      <td>...</td>\n",
       "      <td>...</td>\n",
       "    </tr>\n",
       "    <tr>\n",
       "      <th>690</th>\n",
       "      <td>LG OLED B2 164 cm (65 inch) OLED Ultra HD (4K)...</td>\n",
       "      <td>169990.0</td>\n",
       "      <td>234990.0</td>\n",
       "      <td>Operating System: WebOSUltra HD (4K) 3840 × 21...</td>\n",
       "      <td>3.6</td>\n",
       "      <td>Lg</td>\n",
       "      <td>65</td>\n",
       "      <td>Ultra Hd (4K)</td>\n",
       "    </tr>\n",
       "    <tr>\n",
       "      <th>692</th>\n",
       "      <td>KODAK 108 cm (43 inch) Full HD LED Smart Linux...</td>\n",
       "      <td>14999.0</td>\n",
       "      <td>22999.0</td>\n",
       "      <td>Operating System: LinuxFull HD 1920 x 1080 Pix...</td>\n",
       "      <td>4.3</td>\n",
       "      <td>Kodak</td>\n",
       "      <td>43</td>\n",
       "      <td>Full Hd Led</td>\n",
       "    </tr>\n",
       "    <tr>\n",
       "      <th>693</th>\n",
       "      <td>SAMSUNG New D Series Brighter Crystal Vivid (2...</td>\n",
       "      <td>43990.0</td>\n",
       "      <td>64900.0</td>\n",
       "      <td>Operating System: TizenUltra HD (4K) 3840 x 21...</td>\n",
       "      <td>4.3</td>\n",
       "      <td>Samsung</td>\n",
       "      <td>55</td>\n",
       "      <td>Ultra Hd (4K)</td>\n",
       "    </tr>\n",
       "    <tr>\n",
       "      <th>694</th>\n",
       "      <td>SONY Bravia 138.8 cm (55 inch) OLED Ultra HD (...</td>\n",
       "      <td>156900.0</td>\n",
       "      <td>249900.0</td>\n",
       "      <td>Operating System: Google TVUltra HD (4K) 3840 ...</td>\n",
       "      <td>4.8</td>\n",
       "      <td>Sony</td>\n",
       "      <td>55</td>\n",
       "      <td>Ultra Hd (4K)</td>\n",
       "    </tr>\n",
       "    <tr>\n",
       "      <th>695</th>\n",
       "      <td>SONY Bravia 139 cm (55 inch) Ultra HD (4K) LED...</td>\n",
       "      <td>57990.0</td>\n",
       "      <td>99990.0</td>\n",
       "      <td>Operating System: Google TVUltra HD (4K) 3840 ...</td>\n",
       "      <td>NaN</td>\n",
       "      <td>Sony</td>\n",
       "      <td>55</td>\n",
       "      <td>Ultra Hd (4K)</td>\n",
       "    </tr>\n",
       "  </tbody>\n",
       "</table>\n",
       "<p>679 rows × 8 columns</p>\n",
       "</div>"
      ],
      "text/plain": [
       "                                          Product_Name  Selling_Price  \\\n",
       "0    Acer Advanced I Series 102 cm (40 inch) Full H...        17499.0   \n",
       "1    SONY Bravia 2 108 cm (43 inch) Ultra HD (4K) L...        40990.0   \n",
       "2    Thomson Phoenix 108 cm (43 inch) QLED Ultra HD...        21999.0   \n",
       "3    Mi X Series 138 cm (55 inch) Ultra HD (4K) LED...        36999.0   \n",
       "4    MOTOROLA EnvisionX 140 cm (55 inch) QLED Ultra...        32999.0   \n",
       "..                                                 ...            ...   \n",
       "690  LG OLED B2 164 cm (65 inch) OLED Ultra HD (4K)...       169990.0   \n",
       "692  KODAK 108 cm (43 inch) Full HD LED Smart Linux...        14999.0   \n",
       "693  SAMSUNG New D Series Brighter Crystal Vivid (2...        43990.0   \n",
       "694  SONY Bravia 138.8 cm (55 inch) OLED Ultra HD (...       156900.0   \n",
       "695  SONY Bravia 139 cm (55 inch) Ultra HD (4K) LED...        57990.0   \n",
       "\n",
       "     Original_Price                                              Specs  \\\n",
       "0           29999.0  Operating System: Google TVFull HD 1080 x 1920...   \n",
       "1           59900.0  Operating System: Google TVUltra HD (4K) 3840 ...   \n",
       "2           31999.0  Operating System: Google TVUltra HD (4K) 3840 ...   \n",
       "3           54999.0  Operating System: Google TVUltra HD (4K) 3840 ...   \n",
       "4          119980.0  Operating System: Google TVUltra HD (4K) 3840 ...   \n",
       "..              ...                                                ...   \n",
       "690        234990.0  Operating System: WebOSUltra HD (4K) 3840 × 21...   \n",
       "692         22999.0  Operating System: LinuxFull HD 1920 x 1080 Pix...   \n",
       "693         64900.0  Operating System: TizenUltra HD (4K) 3840 x 21...   \n",
       "694        249900.0  Operating System: Google TVUltra HD (4K) 3840 ...   \n",
       "695         99990.0  Operating System: Google TVUltra HD (4K) 3840 ...   \n",
       "\n",
       "     Ratings      Name  Size             Display  \n",
       "0        4.3      Acer    40         Full Hd Led  \n",
       "1        4.7      Sony    43       Ultra Hd (4K)  \n",
       "2        4.5   Thomson    43  Qled Ultra Hd (4K)  \n",
       "3        4.3        Mi    55       Ultra Hd (4K)  \n",
       "4        4.3  Motorola    55  Qled Ultra Hd (4K)  \n",
       "..       ...       ...   ...                 ...  \n",
       "690      3.6        Lg    65       Ultra Hd (4K)  \n",
       "692      4.3     Kodak    43         Full Hd Led  \n",
       "693      4.3   Samsung    55       Ultra Hd (4K)  \n",
       "694      4.8      Sony    55       Ultra Hd (4K)  \n",
       "695      NaN      Sony    55       Ultra Hd (4K)  \n",
       "\n",
       "[679 rows x 8 columns]"
      ]
     },
     "execution_count": 48,
     "metadata": {},
     "output_type": "execute_result"
    }
   ],
   "source": [
    "df"
   ]
  },
  {
   "cell_type": "markdown",
   "id": "d738e265",
   "metadata": {},
   "source": [
    "# Launch Year\n",
    "\n",
    "* using regular expression ('Year:\\s[0-9]{4}') it finds the exact information form the specs\n",
    "\n",
    "* Extraced the launch year data using regular expression which finds the exact 4 digits of the number Year\n",
    "\n",
    "* The replace the Year:  with empty string ('') and converted it into integer data type using astype(int)"
   ]
  },
  {
   "cell_type": "code",
   "execution_count": 49,
   "id": "78964c84",
   "metadata": {},
   "outputs": [
    {
     "data": {
      "text/plain": [
       "['Year: 2023']"
      ]
     },
     "execution_count": 49,
     "metadata": {},
     "output_type": "execute_result"
    }
   ],
   "source": [
    "re.findall(('Year:\\s[0-9]{4}'),df.Specs[0])"
   ]
  },
  {
   "cell_type": "code",
   "execution_count": 50,
   "id": "c44e1a32",
   "metadata": {},
   "outputs": [
    {
     "name": "stderr",
     "output_type": "stream",
     "text": [
      "C:\\Users\\mdazh\\AppData\\Local\\Temp\\ipykernel_22652\\1640921831.py:1: SettingWithCopyWarning: \n",
      "A value is trying to be set on a copy of a slice from a DataFrame.\n",
      "Try using .loc[row_indexer,col_indexer] = value instead\n",
      "\n",
      "See the caveats in the documentation: https://pandas.pydata.org/pandas-docs/stable/user_guide/indexing.html#returning-a-view-versus-a-copy\n",
      "  df['Launch_Year'] = df.Specs.apply(lambda x: ''.join(re.findall('Year:\\s[0-9]{4}',x)))\n",
      "C:\\Users\\mdazh\\AppData\\Local\\Temp\\ipykernel_22652\\1640921831.py:2: SettingWithCopyWarning: \n",
      "A value is trying to be set on a copy of a slice from a DataFrame.\n",
      "Try using .loc[row_indexer,col_indexer] = value instead\n",
      "\n",
      "See the caveats in the documentation: https://pandas.pydata.org/pandas-docs/stable/user_guide/indexing.html#returning-a-view-versus-a-copy\n",
      "  df['Launch_Year'] = df['Launch_Year'].str.replace('Year: ','').astype(int)\n"
     ]
    }
   ],
   "source": [
    "df['Launch_Year'] = df.Specs.apply(lambda x: ''.join(re.findall('Year:\\s[0-9]{4}',x)))\n",
    "df['Launch_Year'] = df['Launch_Year'].str.replace('Year: ','').astype(int)"
   ]
  },
  {
   "cell_type": "markdown",
   "id": "267e3a99",
   "metadata": {},
   "source": [
    "# Operating System OS\n",
    "\n",
    "* Extracted the OS data using regular expressions where it finds Operating System\n",
    "\n",
    "* Replaced the Operating System: with empty string ('') and also replaced (Full, full, ultra , Ultra) it with empty string\n",
    "\n",
    "* Which gives the proper data of the Operating System\n",
    "\n",
    "* Dropping the columns where the operating system is null. And converting it into str.title() method"
   ]
  },
  {
   "cell_type": "code",
   "execution_count": 51,
   "id": "83c49aaa",
   "metadata": {},
   "outputs": [
    {
     "name": "stderr",
     "output_type": "stream",
     "text": [
      "C:\\Users\\mdazh\\AppData\\Local\\Temp\\ipykernel_22652\\1768507991.py:1: SettingWithCopyWarning: \n",
      "A value is trying to be set on a copy of a slice from a DataFrame.\n",
      "Try using .loc[row_indexer,col_indexer] = value instead\n",
      "\n",
      "See the caveats in the documentation: https://pandas.pydata.org/pandas-docs/stable/user_guide/indexing.html#returning-a-view-versus-a-copy\n",
      "  df['OS'] = df.Specs.apply(lambda x: ''.join(re.findall('Operating System:\\s\\w+',x)))\n"
     ]
    }
   ],
   "source": [
    "df['OS'] = df.Specs.apply(lambda x: ''.join(re.findall('Operating System:\\s\\w+',x)))"
   ]
  },
  {
   "cell_type": "code",
   "execution_count": 52,
   "id": "9b106272",
   "metadata": {},
   "outputs": [
    {
     "name": "stderr",
     "output_type": "stream",
     "text": [
      "C:\\Users\\mdazh\\AppData\\Local\\Temp\\ipykernel_22652\\2874047310.py:1: SettingWithCopyWarning: \n",
      "A value is trying to be set on a copy of a slice from a DataFrame.\n",
      "Try using .loc[row_indexer,col_indexer] = value instead\n",
      "\n",
      "See the caveats in the documentation: https://pandas.pydata.org/pandas-docs/stable/user_guide/indexing.html#returning-a-view-versus-a-copy\n",
      "  df['OS'] = df.OS.str.replace('Operating System: ','')\n"
     ]
    }
   ],
   "source": [
    "df['OS'] = df.OS.str.replace('Operating System: ','')"
   ]
  },
  {
   "cell_type": "code",
   "execution_count": 53,
   "id": "dde11a76",
   "metadata": {},
   "outputs": [
    {
     "name": "stderr",
     "output_type": "stream",
     "text": [
      "C:\\Users\\mdazh\\AppData\\Local\\Temp\\ipykernel_22652\\1185121154.py:1: SettingWithCopyWarning: \n",
      "A value is trying to be set on a copy of a slice from a DataFrame.\n",
      "Try using .loc[row_indexer,col_indexer] = value instead\n",
      "\n",
      "See the caveats in the documentation: https://pandas.pydata.org/pandas-docs/stable/user_guide/indexing.html#returning-a-view-versus-a-copy\n",
      "  df['OS'] = df['OS'].replace('', np.nan)\n"
     ]
    }
   ],
   "source": [
    "df['OS'] = df['OS'].replace('', np.nan)"
   ]
  },
  {
   "cell_type": "code",
   "execution_count": 54,
   "id": "8b43ae7c",
   "metadata": {},
   "outputs": [
    {
     "name": "stderr",
     "output_type": "stream",
     "text": [
      "C:\\Users\\mdazh\\AppData\\Local\\Temp\\ipykernel_22652\\460367012.py:1: SettingWithCopyWarning: \n",
      "A value is trying to be set on a copy of a slice from a DataFrame.\n",
      "Try using .loc[row_indexer,col_indexer] = value instead\n",
      "\n",
      "See the caveats in the documentation: https://pandas.pydata.org/pandas-docs/stable/user_guide/indexing.html#returning-a-view-versus-a-copy\n",
      "  df['OS']=df.OS.str.replace('Full','')\n",
      "C:\\Users\\mdazh\\AppData\\Local\\Temp\\ipykernel_22652\\460367012.py:2: SettingWithCopyWarning: \n",
      "A value is trying to be set on a copy of a slice from a DataFrame.\n",
      "Try using .loc[row_indexer,col_indexer] = value instead\n",
      "\n",
      "See the caveats in the documentation: https://pandas.pydata.org/pandas-docs/stable/user_guide/indexing.html#returning-a-view-versus-a-copy\n",
      "  df['OS']=df.OS.str.replace('Ultra','')\n",
      "C:\\Users\\mdazh\\AppData\\Local\\Temp\\ipykernel_22652\\460367012.py:3: SettingWithCopyWarning: \n",
      "A value is trying to be set on a copy of a slice from a DataFrame.\n",
      "Try using .loc[row_indexer,col_indexer] = value instead\n",
      "\n",
      "See the caveats in the documentation: https://pandas.pydata.org/pandas-docs/stable/user_guide/indexing.html#returning-a-view-versus-a-copy\n",
      "  df['OS']=df.OS.str.replace('full','')\n",
      "C:\\Users\\mdazh\\AppData\\Local\\Temp\\ipykernel_22652\\460367012.py:4: SettingWithCopyWarning: \n",
      "A value is trying to be set on a copy of a slice from a DataFrame.\n",
      "Try using .loc[row_indexer,col_indexer] = value instead\n",
      "\n",
      "See the caveats in the documentation: https://pandas.pydata.org/pandas-docs/stable/user_guide/indexing.html#returning-a-view-versus-a-copy\n",
      "  df['OS']=df.OS.str.replace('ultra','')\n"
     ]
    }
   ],
   "source": [
    "df['OS']=df.OS.str.replace('Full','')\n",
    "df['OS']=df.OS.str.replace('Ultra','')\n",
    "df['OS']=df.OS.str.replace('full','')\n",
    "df['OS']=df.OS.str.replace('ultra','')"
   ]
  },
  {
   "cell_type": "code",
   "execution_count": 55,
   "id": "a31adf9a",
   "metadata": {},
   "outputs": [
    {
     "data": {
      "text/plain": [
       "12"
      ]
     },
     "execution_count": 55,
     "metadata": {},
     "output_type": "execute_result"
    }
   ],
   "source": [
    "df.OS.isnull().sum()"
   ]
  },
  {
   "cell_type": "code",
   "execution_count": 56,
   "id": "38f24c65",
   "metadata": {},
   "outputs": [
    {
     "data": {
      "text/plain": [
       "OS\n",
       "Google     268\n",
       "Tizen      168\n",
       "WebOS       99\n",
       "Android     90\n",
       "Linux       24\n",
       "VIDAA       16\n",
       "Coolita      2\n",
       "Name: count, dtype: int64"
      ]
     },
     "execution_count": 56,
     "metadata": {},
     "output_type": "execute_result"
    }
   ],
   "source": [
    "df.OS.value_counts()"
   ]
  },
  {
   "cell_type": "code",
   "execution_count": 57,
   "id": "d1b4e267",
   "metadata": {},
   "outputs": [],
   "source": [
    "df = df.dropna(subset = 'OS')"
   ]
  },
  {
   "cell_type": "code",
   "execution_count": 58,
   "id": "f26133e8",
   "metadata": {},
   "outputs": [
    {
     "name": "stderr",
     "output_type": "stream",
     "text": [
      "C:\\Users\\mdazh\\AppData\\Local\\Temp\\ipykernel_22652\\147739263.py:1: SettingWithCopyWarning: \n",
      "A value is trying to be set on a copy of a slice from a DataFrame.\n",
      "Try using .loc[row_indexer,col_indexer] = value instead\n",
      "\n",
      "See the caveats in the documentation: https://pandas.pydata.org/pandas-docs/stable/user_guide/indexing.html#returning-a-view-versus-a-copy\n",
      "  df['OS'] = df.OS.str.title()\n"
     ]
    }
   ],
   "source": [
    "df['OS'] = df.OS.str.title()"
   ]
  },
  {
   "cell_type": "code",
   "execution_count": 59,
   "id": "620424b7",
   "metadata": {},
   "outputs": [
    {
     "data": {
      "text/html": [
       "<div>\n",
       "<style scoped>\n",
       "    .dataframe tbody tr th:only-of-type {\n",
       "        vertical-align: middle;\n",
       "    }\n",
       "\n",
       "    .dataframe tbody tr th {\n",
       "        vertical-align: top;\n",
       "    }\n",
       "\n",
       "    .dataframe thead th {\n",
       "        text-align: right;\n",
       "    }\n",
       "</style>\n",
       "<table border=\"1\" class=\"dataframe\">\n",
       "  <thead>\n",
       "    <tr style=\"text-align: right;\">\n",
       "      <th></th>\n",
       "      <th>Product_Name</th>\n",
       "      <th>Selling_Price</th>\n",
       "      <th>Original_Price</th>\n",
       "      <th>Specs</th>\n",
       "      <th>Ratings</th>\n",
       "      <th>Name</th>\n",
       "      <th>Size</th>\n",
       "      <th>Display</th>\n",
       "      <th>Launch_Year</th>\n",
       "      <th>OS</th>\n",
       "    </tr>\n",
       "  </thead>\n",
       "  <tbody>\n",
       "    <tr>\n",
       "      <th>0</th>\n",
       "      <td>Acer Advanced I Series 102 cm (40 inch) Full H...</td>\n",
       "      <td>17499.0</td>\n",
       "      <td>29999.0</td>\n",
       "      <td>Operating System: Google TVFull HD 1080 x 1920...</td>\n",
       "      <td>4.3</td>\n",
       "      <td>Acer</td>\n",
       "      <td>40</td>\n",
       "      <td>Full Hd Led</td>\n",
       "      <td>2023</td>\n",
       "      <td>Google</td>\n",
       "    </tr>\n",
       "    <tr>\n",
       "      <th>1</th>\n",
       "      <td>SONY Bravia 2 108 cm (43 inch) Ultra HD (4K) L...</td>\n",
       "      <td>40990.0</td>\n",
       "      <td>59900.0</td>\n",
       "      <td>Operating System: Google TVUltra HD (4K) 3840 ...</td>\n",
       "      <td>4.7</td>\n",
       "      <td>Sony</td>\n",
       "      <td>43</td>\n",
       "      <td>Ultra Hd (4K)</td>\n",
       "      <td>2024</td>\n",
       "      <td>Google</td>\n",
       "    </tr>\n",
       "    <tr>\n",
       "      <th>2</th>\n",
       "      <td>Thomson Phoenix 108 cm (43 inch) QLED Ultra HD...</td>\n",
       "      <td>21999.0</td>\n",
       "      <td>31999.0</td>\n",
       "      <td>Operating System: Google TVUltra HD (4K) 3840 ...</td>\n",
       "      <td>4.5</td>\n",
       "      <td>Thomson</td>\n",
       "      <td>43</td>\n",
       "      <td>Qled Ultra Hd (4K)</td>\n",
       "      <td>2023</td>\n",
       "      <td>Google</td>\n",
       "    </tr>\n",
       "    <tr>\n",
       "      <th>3</th>\n",
       "      <td>Mi X Series 138 cm (55 inch) Ultra HD (4K) LED...</td>\n",
       "      <td>36999.0</td>\n",
       "      <td>54999.0</td>\n",
       "      <td>Operating System: Google TVUltra HD (4K) 3840 ...</td>\n",
       "      <td>4.3</td>\n",
       "      <td>Mi</td>\n",
       "      <td>55</td>\n",
       "      <td>Ultra Hd (4K)</td>\n",
       "      <td>2023</td>\n",
       "      <td>Google</td>\n",
       "    </tr>\n",
       "    <tr>\n",
       "      <th>4</th>\n",
       "      <td>MOTOROLA EnvisionX 140 cm (55 inch) QLED Ultra...</td>\n",
       "      <td>32999.0</td>\n",
       "      <td>119980.0</td>\n",
       "      <td>Operating System: Google TVUltra HD (4K) 3840 ...</td>\n",
       "      <td>4.3</td>\n",
       "      <td>Motorola</td>\n",
       "      <td>55</td>\n",
       "      <td>Qled Ultra Hd (4K)</td>\n",
       "      <td>2023</td>\n",
       "      <td>Google</td>\n",
       "    </tr>\n",
       "    <tr>\n",
       "      <th>...</th>\n",
       "      <td>...</td>\n",
       "      <td>...</td>\n",
       "      <td>...</td>\n",
       "      <td>...</td>\n",
       "      <td>...</td>\n",
       "      <td>...</td>\n",
       "      <td>...</td>\n",
       "      <td>...</td>\n",
       "      <td>...</td>\n",
       "      <td>...</td>\n",
       "    </tr>\n",
       "    <tr>\n",
       "      <th>690</th>\n",
       "      <td>LG OLED B2 164 cm (65 inch) OLED Ultra HD (4K)...</td>\n",
       "      <td>169990.0</td>\n",
       "      <td>234990.0</td>\n",
       "      <td>Operating System: WebOSUltra HD (4K) 3840 × 21...</td>\n",
       "      <td>3.6</td>\n",
       "      <td>Lg</td>\n",
       "      <td>65</td>\n",
       "      <td>Ultra Hd (4K)</td>\n",
       "      <td>2022</td>\n",
       "      <td>Webos</td>\n",
       "    </tr>\n",
       "    <tr>\n",
       "      <th>692</th>\n",
       "      <td>KODAK 108 cm (43 inch) Full HD LED Smart Linux...</td>\n",
       "      <td>14999.0</td>\n",
       "      <td>22999.0</td>\n",
       "      <td>Operating System: LinuxFull HD 1920 x 1080 Pix...</td>\n",
       "      <td>4.3</td>\n",
       "      <td>Kodak</td>\n",
       "      <td>43</td>\n",
       "      <td>Full Hd Led</td>\n",
       "      <td>2024</td>\n",
       "      <td>Linux</td>\n",
       "    </tr>\n",
       "    <tr>\n",
       "      <th>693</th>\n",
       "      <td>SAMSUNG New D Series Brighter Crystal Vivid (2...</td>\n",
       "      <td>43990.0</td>\n",
       "      <td>64900.0</td>\n",
       "      <td>Operating System: TizenUltra HD (4K) 3840 x 21...</td>\n",
       "      <td>4.3</td>\n",
       "      <td>Samsung</td>\n",
       "      <td>55</td>\n",
       "      <td>Ultra Hd (4K)</td>\n",
       "      <td>2024</td>\n",
       "      <td>Tizen</td>\n",
       "    </tr>\n",
       "    <tr>\n",
       "      <th>694</th>\n",
       "      <td>SONY Bravia 138.8 cm (55 inch) OLED Ultra HD (...</td>\n",
       "      <td>156900.0</td>\n",
       "      <td>249900.0</td>\n",
       "      <td>Operating System: Google TVUltra HD (4K) 3840 ...</td>\n",
       "      <td>4.8</td>\n",
       "      <td>Sony</td>\n",
       "      <td>55</td>\n",
       "      <td>Ultra Hd (4K)</td>\n",
       "      <td>2022</td>\n",
       "      <td>Google</td>\n",
       "    </tr>\n",
       "    <tr>\n",
       "      <th>695</th>\n",
       "      <td>SONY Bravia 139 cm (55 inch) Ultra HD (4K) LED...</td>\n",
       "      <td>57990.0</td>\n",
       "      <td>99990.0</td>\n",
       "      <td>Operating System: Google TVUltra HD (4K) 3840 ...</td>\n",
       "      <td>NaN</td>\n",
       "      <td>Sony</td>\n",
       "      <td>55</td>\n",
       "      <td>Ultra Hd (4K)</td>\n",
       "      <td>2022</td>\n",
       "      <td>Google</td>\n",
       "    </tr>\n",
       "  </tbody>\n",
       "</table>\n",
       "<p>667 rows × 10 columns</p>\n",
       "</div>"
      ],
      "text/plain": [
       "                                          Product_Name  Selling_Price  \\\n",
       "0    Acer Advanced I Series 102 cm (40 inch) Full H...        17499.0   \n",
       "1    SONY Bravia 2 108 cm (43 inch) Ultra HD (4K) L...        40990.0   \n",
       "2    Thomson Phoenix 108 cm (43 inch) QLED Ultra HD...        21999.0   \n",
       "3    Mi X Series 138 cm (55 inch) Ultra HD (4K) LED...        36999.0   \n",
       "4    MOTOROLA EnvisionX 140 cm (55 inch) QLED Ultra...        32999.0   \n",
       "..                                                 ...            ...   \n",
       "690  LG OLED B2 164 cm (65 inch) OLED Ultra HD (4K)...       169990.0   \n",
       "692  KODAK 108 cm (43 inch) Full HD LED Smart Linux...        14999.0   \n",
       "693  SAMSUNG New D Series Brighter Crystal Vivid (2...        43990.0   \n",
       "694  SONY Bravia 138.8 cm (55 inch) OLED Ultra HD (...       156900.0   \n",
       "695  SONY Bravia 139 cm (55 inch) Ultra HD (4K) LED...        57990.0   \n",
       "\n",
       "     Original_Price                                              Specs  \\\n",
       "0           29999.0  Operating System: Google TVFull HD 1080 x 1920...   \n",
       "1           59900.0  Operating System: Google TVUltra HD (4K) 3840 ...   \n",
       "2           31999.0  Operating System: Google TVUltra HD (4K) 3840 ...   \n",
       "3           54999.0  Operating System: Google TVUltra HD (4K) 3840 ...   \n",
       "4          119980.0  Operating System: Google TVUltra HD (4K) 3840 ...   \n",
       "..              ...                                                ...   \n",
       "690        234990.0  Operating System: WebOSUltra HD (4K) 3840 × 21...   \n",
       "692         22999.0  Operating System: LinuxFull HD 1920 x 1080 Pix...   \n",
       "693         64900.0  Operating System: TizenUltra HD (4K) 3840 x 21...   \n",
       "694        249900.0  Operating System: Google TVUltra HD (4K) 3840 ...   \n",
       "695         99990.0  Operating System: Google TVUltra HD (4K) 3840 ...   \n",
       "\n",
       "     Ratings      Name  Size             Display  Launch_Year      OS  \n",
       "0        4.3      Acer    40         Full Hd Led         2023  Google  \n",
       "1        4.7      Sony    43       Ultra Hd (4K)         2024  Google  \n",
       "2        4.5   Thomson    43  Qled Ultra Hd (4K)         2023  Google  \n",
       "3        4.3        Mi    55       Ultra Hd (4K)         2023  Google  \n",
       "4        4.3  Motorola    55  Qled Ultra Hd (4K)         2023  Google  \n",
       "..       ...       ...   ...                 ...          ...     ...  \n",
       "690      3.6        Lg    65       Ultra Hd (4K)         2022   Webos  \n",
       "692      4.3     Kodak    43         Full Hd Led         2024   Linux  \n",
       "693      4.3   Samsung    55       Ultra Hd (4K)         2024   Tizen  \n",
       "694      4.8      Sony    55       Ultra Hd (4K)         2022  Google  \n",
       "695      NaN      Sony    55       Ultra Hd (4K)         2022  Google  \n",
       "\n",
       "[667 rows x 10 columns]"
      ]
     },
     "execution_count": 59,
     "metadata": {},
     "output_type": "execute_result"
    }
   ],
   "source": [
    "df"
   ]
  },
  {
   "cell_type": "markdown",
   "id": "b336ea70",
   "metadata": {},
   "source": [
    "# Ratings\n",
    "\n",
    "* For some Products there are no ratings. \n",
    "\n",
    "* Hence filling the null ratings data with median of the ratings \n",
    "\n",
    "* Mostly the ratings are missing for the 75 and 85 inches of samsung, LG, sony, and Hisense tvs. Hence replaced the missing values with median. In real time data All these brands are rated around 4.2 stars to 5 stars \n",
    "\n",
    "* The median  of the ratings is 4.3. Hence filling the null ratings with 4.3"
   ]
  },
  {
   "cell_type": "code",
   "execution_count": 60,
   "id": "863b807a",
   "metadata": {},
   "outputs": [
    {
     "name": "stderr",
     "output_type": "stream",
     "text": [
      "C:\\Users\\mdazh\\AppData\\Local\\Temp\\ipykernel_22652\\2501812569.py:1: SettingWithCopyWarning: \n",
      "A value is trying to be set on a copy of a slice from a DataFrame.\n",
      "Try using .loc[row_indexer,col_indexer] = value instead\n",
      "\n",
      "See the caveats in the documentation: https://pandas.pydata.org/pandas-docs/stable/user_guide/indexing.html#returning-a-view-versus-a-copy\n",
      "  df['Ratings'] = df.Ratings.fillna(value  = df.Ratings.median())\n"
     ]
    }
   ],
   "source": [
    "df['Ratings'] = df.Ratings.fillna(value  = df.Ratings.median())"
   ]
  },
  {
   "cell_type": "code",
   "execution_count": 61,
   "id": "bfe99055",
   "metadata": {},
   "outputs": [
    {
     "data": {
      "text/plain": [
       "['1080 x 1920']"
      ]
     },
     "execution_count": 61,
     "metadata": {},
     "output_type": "execute_result"
    }
   ],
   "source": [
    "re.findall('\\d+\\s[x|*]\\s\\d+',df['Specs'][0])"
   ]
  },
  {
   "cell_type": "markdown",
   "id": "5dfe6fdf",
   "metadata": {},
   "source": [
    "# Screen_resolution\n",
    "\n",
    "* The resolutions extracted Using  regular expressions\n",
    "\n",
    "* \\d+ extracts the numbers from the data \n",
    "\n",
    "* \\s refers to slash\n",
    "\n",
    "* | referrs to or  - [×|X|x|*] which extracts 1 letter from the specs\n",
    "\n"
   ]
  },
  {
   "cell_type": "code",
   "execution_count": 62,
   "id": "b6d7c748",
   "metadata": {},
   "outputs": [
    {
     "data": {
      "text/plain": [
       "['1080 x 1920']"
      ]
     },
     "execution_count": 62,
     "metadata": {},
     "output_type": "execute_result"
    }
   ],
   "source": [
    "re.findall('\\d+\\s[×|X|x|*]\\s\\d+|\\d+[×|X|x|*]\\d+',df.Specs[0])"
   ]
  },
  {
   "cell_type": "code",
   "execution_count": 63,
   "id": "1e685388",
   "metadata": {},
   "outputs": [
    {
     "name": "stderr",
     "output_type": "stream",
     "text": [
      "C:\\Users\\mdazh\\AppData\\Local\\Temp\\ipykernel_22652\\3958962885.py:1: SettingWithCopyWarning: \n",
      "A value is trying to be set on a copy of a slice from a DataFrame.\n",
      "Try using .loc[row_indexer,col_indexer] = value instead\n",
      "\n",
      "See the caveats in the documentation: https://pandas.pydata.org/pandas-docs/stable/user_guide/indexing.html#returning-a-view-versus-a-copy\n",
      "  df['Screen_resolution'] = df.Specs.apply(lambda x: ' '.join(re.findall('\\d+\\s[×|X|x|*]\\s\\d+|\\d+[×|X|x|*]\\d+',x)))\n"
     ]
    }
   ],
   "source": [
    "df['Screen_resolution'] = df.Specs.apply(lambda x: ' '.join(re.findall('\\d+\\s[×|X|x|*]\\s\\d+|\\d+[×|X|x|*]\\d+',x)))"
   ]
  },
  {
   "cell_type": "code",
   "execution_count": 64,
   "id": "de37a9d1",
   "metadata": {},
   "outputs": [
    {
     "data": {
      "text/plain": [
       "Screen_resolution\n",
       "3840 x 2160    508\n",
       "1920 x 1080     86\n",
       "1080 x 1920     27\n",
       "3840 × 2160     18\n",
       "1920x1080        7\n",
       "3840 X 2160      6\n",
       "840 x 2          4\n",
       "3840*2160        4\n",
       "1920 × 1080      3\n",
       "3840 x 2161      2\n",
       "3840x2160        1\n",
       "                 1\n",
       "Name: count, dtype: int64"
      ]
     },
     "execution_count": 64,
     "metadata": {},
     "output_type": "execute_result"
    }
   ],
   "source": [
    "df['Screen_resolution'].value_counts()"
   ]
  },
  {
   "cell_type": "markdown",
   "id": "a941728f",
   "metadata": {},
   "source": [
    "# The resolution 3840 x 2160 & 3840 X 2160 are same, 1920 x 1080 & 1080 x 1920 are same\n",
    "\n",
    "* Hence replacing the space, '*', '×', X with small x to get all the screen resolutions as same using str.replace method"
   ]
  },
  {
   "cell_type": "code",
   "execution_count": 65,
   "id": "f344f757",
   "metadata": {},
   "outputs": [
    {
     "name": "stderr",
     "output_type": "stream",
     "text": [
      "C:\\Users\\mdazh\\AppData\\Local\\Temp\\ipykernel_22652\\4119657922.py:1: SettingWithCopyWarning: \n",
      "A value is trying to be set on a copy of a slice from a DataFrame.\n",
      "Try using .loc[row_indexer,col_indexer] = value instead\n",
      "\n",
      "See the caveats in the documentation: https://pandas.pydata.org/pandas-docs/stable/user_guide/indexing.html#returning-a-view-versus-a-copy\n",
      "  df['Screen_resolution'] = df['Screen_resolution'].str.replace(' ', '').str.replace('×', 'x').str.replace('*','x')\n"
     ]
    }
   ],
   "source": [
    "df['Screen_resolution'] = df['Screen_resolution'].str.replace(' ', '').str.replace('×', 'x').str.replace('*','x')"
   ]
  },
  {
   "cell_type": "code",
   "execution_count": 66,
   "id": "094e8871",
   "metadata": {},
   "outputs": [
    {
     "data": {
      "text/plain": [
       "Screen_resolution\n",
       "3840x2160    531\n",
       "1920x1080     96\n",
       "1080x1920     27\n",
       "3840X2160      6\n",
       "840x2          4\n",
       "3840x2161      2\n",
       "               1\n",
       "Name: count, dtype: int64"
      ]
     },
     "execution_count": 66,
     "metadata": {},
     "output_type": "execute_result"
    }
   ],
   "source": [
    "df['Screen_resolution'].value_counts()"
   ]
  },
  {
   "cell_type": "code",
   "execution_count": 67,
   "id": "35f9c171",
   "metadata": {},
   "outputs": [
    {
     "name": "stderr",
     "output_type": "stream",
     "text": [
      "C:\\Users\\mdazh\\AppData\\Local\\Temp\\ipykernel_22652\\3947930036.py:1: SettingWithCopyWarning: \n",
      "A value is trying to be set on a copy of a slice from a DataFrame.\n",
      "Try using .loc[row_indexer,col_indexer] = value instead\n",
      "\n",
      "See the caveats in the documentation: https://pandas.pydata.org/pandas-docs/stable/user_guide/indexing.html#returning-a-view-versus-a-copy\n",
      "  df['Screen_resolution'] = df.Screen_resolution.str.replace('1920x1080','1080x1920')\n",
      "C:\\Users\\mdazh\\AppData\\Local\\Temp\\ipykernel_22652\\3947930036.py:2: SettingWithCopyWarning: \n",
      "A value is trying to be set on a copy of a slice from a DataFrame.\n",
      "Try using .loc[row_indexer,col_indexer] = value instead\n",
      "\n",
      "See the caveats in the documentation: https://pandas.pydata.org/pandas-docs/stable/user_guide/indexing.html#returning-a-view-versus-a-copy\n",
      "  df['Screen_resolution'] = df.Screen_resolution.str.replace('3840X2160','3840x2160')\n",
      "C:\\Users\\mdazh\\AppData\\Local\\Temp\\ipykernel_22652\\3947930036.py:3: SettingWithCopyWarning: \n",
      "A value is trying to be set on a copy of a slice from a DataFrame.\n",
      "Try using .loc[row_indexer,col_indexer] = value instead\n",
      "\n",
      "See the caveats in the documentation: https://pandas.pydata.org/pandas-docs/stable/user_guide/indexing.html#returning-a-view-versus-a-copy\n",
      "  df['Screen_resolution'] = df.Screen_resolution.str.replace('3840X2161','3840x2160')\n",
      "C:\\Users\\mdazh\\AppData\\Local\\Temp\\ipykernel_22652\\3947930036.py:4: SettingWithCopyWarning: \n",
      "A value is trying to be set on a copy of a slice from a DataFrame.\n",
      "Try using .loc[row_indexer,col_indexer] = value instead\n",
      "\n",
      "See the caveats in the documentation: https://pandas.pydata.org/pandas-docs/stable/user_guide/indexing.html#returning-a-view-versus-a-copy\n",
      "  df['Screen_resolution'] = df.Screen_resolution.str.replace('3840x2161','3840x2160')\n"
     ]
    }
   ],
   "source": [
    "df['Screen_resolution'] = df.Screen_resolution.str.replace('1920x1080','1080x1920')\n",
    "df['Screen_resolution'] = df.Screen_resolution.str.replace('3840X2160','3840x2160')\n",
    "df['Screen_resolution'] = df.Screen_resolution.str.replace('3840X2161','3840x2160')\n",
    "df['Screen_resolution'] = df.Screen_resolution.str.replace('3840x2161','3840x2160')"
   ]
  },
  {
   "cell_type": "code",
   "execution_count": 68,
   "id": "abbb1297",
   "metadata": {},
   "outputs": [
    {
     "data": {
      "text/plain": [
       "Screen_resolution\n",
       "3840x2160    539\n",
       "1080x1920    123\n",
       "840x2          4\n",
       "               1\n",
       "Name: count, dtype: int64"
      ]
     },
     "execution_count": 68,
     "metadata": {},
     "output_type": "execute_result"
    }
   ],
   "source": [
    "df['Screen_resolution'].value_counts()"
   ]
  },
  {
   "cell_type": "code",
   "execution_count": 69,
   "id": "211caa92",
   "metadata": {},
   "outputs": [
    {
     "name": "stderr",
     "output_type": "stream",
     "text": [
      "C:\\Users\\mdazh\\AppData\\Local\\Temp\\ipykernel_22652\\3230578920.py:1: SettingWithCopyWarning: \n",
      "A value is trying to be set on a copy of a slice from a DataFrame.\n",
      "Try using .loc[row_indexer,col_indexer] = value instead\n",
      "\n",
      "See the caveats in the documentation: https://pandas.pydata.org/pandas-docs/stable/user_guide/indexing.html#returning-a-view-versus-a-copy\n",
      "  df['Screen_resolution'] = df['Screen_resolution'].replace('', np.nan)\n"
     ]
    }
   ],
   "source": [
    "df['Screen_resolution'] = df['Screen_resolution'].replace('', np.nan)"
   ]
  },
  {
   "cell_type": "code",
   "execution_count": 70,
   "id": "d51392d8",
   "metadata": {},
   "outputs": [],
   "source": [
    "df = df.dropna(subset = 'Screen_resolution')"
   ]
  },
  {
   "cell_type": "code",
   "execution_count": 71,
   "id": "c2748540",
   "metadata": {
    "scrolled": true
   },
   "outputs": [
    {
     "data": {
      "text/plain": [
       "Screen_resolution\n",
       "3840x2160    539\n",
       "1080x1920    123\n",
       "840x2          4\n",
       "Name: count, dtype: int64"
      ]
     },
     "execution_count": 71,
     "metadata": {},
     "output_type": "execute_result"
    }
   ],
   "source": [
    "df['Screen_resolution'].value_counts()"
   ]
  },
  {
   "cell_type": "markdown",
   "id": "0b1a3180",
   "metadata": {},
   "source": [
    "Dropping the columns Product_Name, Specs because we have extracted the meaning full infroamtion of the data form this columns"
   ]
  },
  {
   "cell_type": "code",
   "execution_count": 72,
   "id": "62185da8",
   "metadata": {},
   "outputs": [],
   "source": [
    "df = df.drop(columns = ['Product_Name', 'Specs'])"
   ]
  },
  {
   "cell_type": "code",
   "execution_count": 73,
   "id": "e6e66837",
   "metadata": {},
   "outputs": [
    {
     "data": {
      "text/html": [
       "<div>\n",
       "<style scoped>\n",
       "    .dataframe tbody tr th:only-of-type {\n",
       "        vertical-align: middle;\n",
       "    }\n",
       "\n",
       "    .dataframe tbody tr th {\n",
       "        vertical-align: top;\n",
       "    }\n",
       "\n",
       "    .dataframe thead th {\n",
       "        text-align: right;\n",
       "    }\n",
       "</style>\n",
       "<table border=\"1\" class=\"dataframe\">\n",
       "  <thead>\n",
       "    <tr style=\"text-align: right;\">\n",
       "      <th></th>\n",
       "      <th>Selling_Price</th>\n",
       "      <th>Original_Price</th>\n",
       "      <th>Ratings</th>\n",
       "      <th>Name</th>\n",
       "      <th>Size</th>\n",
       "      <th>Display</th>\n",
       "      <th>Launch_Year</th>\n",
       "      <th>OS</th>\n",
       "      <th>Screen_resolution</th>\n",
       "    </tr>\n",
       "  </thead>\n",
       "  <tbody>\n",
       "    <tr>\n",
       "      <th>0</th>\n",
       "      <td>17499.0</td>\n",
       "      <td>29999.0</td>\n",
       "      <td>4.3</td>\n",
       "      <td>Acer</td>\n",
       "      <td>40</td>\n",
       "      <td>Full Hd Led</td>\n",
       "      <td>2023</td>\n",
       "      <td>Google</td>\n",
       "      <td>1080x1920</td>\n",
       "    </tr>\n",
       "    <tr>\n",
       "      <th>1</th>\n",
       "      <td>40990.0</td>\n",
       "      <td>59900.0</td>\n",
       "      <td>4.7</td>\n",
       "      <td>Sony</td>\n",
       "      <td>43</td>\n",
       "      <td>Ultra Hd (4K)</td>\n",
       "      <td>2024</td>\n",
       "      <td>Google</td>\n",
       "      <td>3840x2160</td>\n",
       "    </tr>\n",
       "    <tr>\n",
       "      <th>2</th>\n",
       "      <td>21999.0</td>\n",
       "      <td>31999.0</td>\n",
       "      <td>4.5</td>\n",
       "      <td>Thomson</td>\n",
       "      <td>43</td>\n",
       "      <td>Qled Ultra Hd (4K)</td>\n",
       "      <td>2023</td>\n",
       "      <td>Google</td>\n",
       "      <td>3840x2160</td>\n",
       "    </tr>\n",
       "    <tr>\n",
       "      <th>3</th>\n",
       "      <td>36999.0</td>\n",
       "      <td>54999.0</td>\n",
       "      <td>4.3</td>\n",
       "      <td>Mi</td>\n",
       "      <td>55</td>\n",
       "      <td>Ultra Hd (4K)</td>\n",
       "      <td>2023</td>\n",
       "      <td>Google</td>\n",
       "      <td>3840x2160</td>\n",
       "    </tr>\n",
       "    <tr>\n",
       "      <th>4</th>\n",
       "      <td>32999.0</td>\n",
       "      <td>119980.0</td>\n",
       "      <td>4.3</td>\n",
       "      <td>Motorola</td>\n",
       "      <td>55</td>\n",
       "      <td>Qled Ultra Hd (4K)</td>\n",
       "      <td>2023</td>\n",
       "      <td>Google</td>\n",
       "      <td>3840x2160</td>\n",
       "    </tr>\n",
       "    <tr>\n",
       "      <th>...</th>\n",
       "      <td>...</td>\n",
       "      <td>...</td>\n",
       "      <td>...</td>\n",
       "      <td>...</td>\n",
       "      <td>...</td>\n",
       "      <td>...</td>\n",
       "      <td>...</td>\n",
       "      <td>...</td>\n",
       "      <td>...</td>\n",
       "    </tr>\n",
       "    <tr>\n",
       "      <th>690</th>\n",
       "      <td>169990.0</td>\n",
       "      <td>234990.0</td>\n",
       "      <td>3.6</td>\n",
       "      <td>Lg</td>\n",
       "      <td>65</td>\n",
       "      <td>Ultra Hd (4K)</td>\n",
       "      <td>2022</td>\n",
       "      <td>Webos</td>\n",
       "      <td>3840x2160</td>\n",
       "    </tr>\n",
       "    <tr>\n",
       "      <th>692</th>\n",
       "      <td>14999.0</td>\n",
       "      <td>22999.0</td>\n",
       "      <td>4.3</td>\n",
       "      <td>Kodak</td>\n",
       "      <td>43</td>\n",
       "      <td>Full Hd Led</td>\n",
       "      <td>2024</td>\n",
       "      <td>Linux</td>\n",
       "      <td>1080x1920</td>\n",
       "    </tr>\n",
       "    <tr>\n",
       "      <th>693</th>\n",
       "      <td>43990.0</td>\n",
       "      <td>64900.0</td>\n",
       "      <td>4.3</td>\n",
       "      <td>Samsung</td>\n",
       "      <td>55</td>\n",
       "      <td>Ultra Hd (4K)</td>\n",
       "      <td>2024</td>\n",
       "      <td>Tizen</td>\n",
       "      <td>3840x2160</td>\n",
       "    </tr>\n",
       "    <tr>\n",
       "      <th>694</th>\n",
       "      <td>156900.0</td>\n",
       "      <td>249900.0</td>\n",
       "      <td>4.8</td>\n",
       "      <td>Sony</td>\n",
       "      <td>55</td>\n",
       "      <td>Ultra Hd (4K)</td>\n",
       "      <td>2022</td>\n",
       "      <td>Google</td>\n",
       "      <td>3840x2160</td>\n",
       "    </tr>\n",
       "    <tr>\n",
       "      <th>695</th>\n",
       "      <td>57990.0</td>\n",
       "      <td>99990.0</td>\n",
       "      <td>4.3</td>\n",
       "      <td>Sony</td>\n",
       "      <td>55</td>\n",
       "      <td>Ultra Hd (4K)</td>\n",
       "      <td>2022</td>\n",
       "      <td>Google</td>\n",
       "      <td>3840x2160</td>\n",
       "    </tr>\n",
       "  </tbody>\n",
       "</table>\n",
       "<p>666 rows × 9 columns</p>\n",
       "</div>"
      ],
      "text/plain": [
       "     Selling_Price  Original_Price  Ratings      Name  Size  \\\n",
       "0          17499.0         29999.0      4.3      Acer    40   \n",
       "1          40990.0         59900.0      4.7      Sony    43   \n",
       "2          21999.0         31999.0      4.5   Thomson    43   \n",
       "3          36999.0         54999.0      4.3        Mi    55   \n",
       "4          32999.0        119980.0      4.3  Motorola    55   \n",
       "..             ...             ...      ...       ...   ...   \n",
       "690       169990.0        234990.0      3.6        Lg    65   \n",
       "692        14999.0         22999.0      4.3     Kodak    43   \n",
       "693        43990.0         64900.0      4.3   Samsung    55   \n",
       "694       156900.0        249900.0      4.8      Sony    55   \n",
       "695        57990.0         99990.0      4.3      Sony    55   \n",
       "\n",
       "                Display  Launch_Year      OS Screen_resolution  \n",
       "0           Full Hd Led         2023  Google         1080x1920  \n",
       "1         Ultra Hd (4K)         2024  Google         3840x2160  \n",
       "2    Qled Ultra Hd (4K)         2023  Google         3840x2160  \n",
       "3         Ultra Hd (4K)         2023  Google         3840x2160  \n",
       "4    Qled Ultra Hd (4K)         2023  Google         3840x2160  \n",
       "..                  ...          ...     ...               ...  \n",
       "690       Ultra Hd (4K)         2022   Webos         3840x2160  \n",
       "692         Full Hd Led         2024   Linux         1080x1920  \n",
       "693       Ultra Hd (4K)         2024   Tizen         3840x2160  \n",
       "694       Ultra Hd (4K)         2022  Google         3840x2160  \n",
       "695       Ultra Hd (4K)         2022  Google         3840x2160  \n",
       "\n",
       "[666 rows x 9 columns]"
      ]
     },
     "execution_count": 73,
     "metadata": {},
     "output_type": "execute_result"
    }
   ],
   "source": [
    "df"
   ]
  },
  {
   "cell_type": "markdown",
   "id": "8c03e7a6",
   "metadata": {},
   "source": [
    "## Creating an index list and arranging the Data Frame values as order of lists"
   ]
  },
  {
   "cell_type": "code",
   "execution_count": 74,
   "id": "25c6724c",
   "metadata": {},
   "outputs": [],
   "source": [
    "Index = ['Name', 'Selling_Price','Original_Price', 'Display', 'Size', 'Screen_resolution', 'OS','Launch_Year', 'Ratings']"
   ]
  },
  {
   "cell_type": "markdown",
   "id": "2f5bf258",
   "metadata": {},
   "source": [
    "# Data Frame = df[Index] which sort the data in an index list order"
   ]
  },
  {
   "cell_type": "code",
   "execution_count": 75,
   "id": "4179a35b",
   "metadata": {},
   "outputs": [],
   "source": [
    "df=df[Index]"
   ]
  },
  {
   "cell_type": "code",
   "execution_count": 76,
   "id": "a45a0dc3",
   "metadata": {},
   "outputs": [
    {
     "data": {
      "text/plain": [
       "Name                 0\n",
       "Selling_Price        0\n",
       "Original_Price       0\n",
       "Display              0\n",
       "Size                 0\n",
       "Screen_resolution    0\n",
       "OS                   0\n",
       "Launch_Year          0\n",
       "Ratings              0\n",
       "dtype: int64"
      ]
     },
     "execution_count": 76,
     "metadata": {},
     "output_type": "execute_result"
    }
   ],
   "source": [
    "df.isnull().sum()"
   ]
  },
  {
   "cell_type": "code",
   "execution_count": 77,
   "id": "2b0eaa7b",
   "metadata": {},
   "outputs": [
    {
     "data": {
      "text/plain": [
       "Name                  object\n",
       "Selling_Price        float64\n",
       "Original_Price       float64\n",
       "Display               object\n",
       "Size                   int32\n",
       "Screen_resolution     object\n",
       "OS                    object\n",
       "Launch_Year            int32\n",
       "Ratings              float64\n",
       "dtype: object"
      ]
     },
     "execution_count": 77,
     "metadata": {},
     "output_type": "execute_result"
    }
   ],
   "source": [
    "df.dtypes"
   ]
  },
  {
   "cell_type": "code",
   "execution_count": 78,
   "id": "35bca7c9",
   "metadata": {},
   "outputs": [],
   "source": [
    "df['OS'] = df.OS.str.title()"
   ]
  },
  {
   "cell_type": "code",
   "execution_count": 79,
   "id": "59dd319f",
   "metadata": {},
   "outputs": [
    {
     "data": {
      "text/plain": [
       "OS\n",
       "Google     267\n",
       "Tizen      168\n",
       "Webos       99\n",
       "Android     90\n",
       "Linux       24\n",
       "Vidaa       16\n",
       "Coolita      2\n",
       "Name: count, dtype: int64"
      ]
     },
     "execution_count": 79,
     "metadata": {},
     "output_type": "execute_result"
    }
   ],
   "source": [
    "df.OS.value_counts()"
   ]
  },
  {
   "cell_type": "markdown",
   "id": "0915160f",
   "metadata": {},
   "source": [
    "## Dropping the duplicates data from the above Data Frame and saving the final csv data"
   ]
  },
  {
   "cell_type": "code",
   "execution_count": 80,
   "id": "e276a131",
   "metadata": {},
   "outputs": [
    {
     "data": {
      "text/html": [
       "<div>\n",
       "<style scoped>\n",
       "    .dataframe tbody tr th:only-of-type {\n",
       "        vertical-align: middle;\n",
       "    }\n",
       "\n",
       "    .dataframe tbody tr th {\n",
       "        vertical-align: top;\n",
       "    }\n",
       "\n",
       "    .dataframe thead th {\n",
       "        text-align: right;\n",
       "    }\n",
       "</style>\n",
       "<table border=\"1\" class=\"dataframe\">\n",
       "  <thead>\n",
       "    <tr style=\"text-align: right;\">\n",
       "      <th></th>\n",
       "      <th>Name</th>\n",
       "      <th>Selling_Price</th>\n",
       "      <th>Original_Price</th>\n",
       "      <th>Display</th>\n",
       "      <th>Size</th>\n",
       "      <th>Screen_resolution</th>\n",
       "      <th>OS</th>\n",
       "      <th>Launch_Year</th>\n",
       "      <th>Ratings</th>\n",
       "    </tr>\n",
       "  </thead>\n",
       "  <tbody>\n",
       "    <tr>\n",
       "      <th>0</th>\n",
       "      <td>Acer</td>\n",
       "      <td>17499.0</td>\n",
       "      <td>29999.0</td>\n",
       "      <td>Full Hd Led</td>\n",
       "      <td>40</td>\n",
       "      <td>1080x1920</td>\n",
       "      <td>Google</td>\n",
       "      <td>2023</td>\n",
       "      <td>4.3</td>\n",
       "    </tr>\n",
       "    <tr>\n",
       "      <th>1</th>\n",
       "      <td>Sony</td>\n",
       "      <td>40990.0</td>\n",
       "      <td>59900.0</td>\n",
       "      <td>Ultra Hd (4K)</td>\n",
       "      <td>43</td>\n",
       "      <td>3840x2160</td>\n",
       "      <td>Google</td>\n",
       "      <td>2024</td>\n",
       "      <td>4.7</td>\n",
       "    </tr>\n",
       "    <tr>\n",
       "      <th>2</th>\n",
       "      <td>Thomson</td>\n",
       "      <td>21999.0</td>\n",
       "      <td>31999.0</td>\n",
       "      <td>Qled Ultra Hd (4K)</td>\n",
       "      <td>43</td>\n",
       "      <td>3840x2160</td>\n",
       "      <td>Google</td>\n",
       "      <td>2023</td>\n",
       "      <td>4.5</td>\n",
       "    </tr>\n",
       "    <tr>\n",
       "      <th>3</th>\n",
       "      <td>Mi</td>\n",
       "      <td>36999.0</td>\n",
       "      <td>54999.0</td>\n",
       "      <td>Ultra Hd (4K)</td>\n",
       "      <td>55</td>\n",
       "      <td>3840x2160</td>\n",
       "      <td>Google</td>\n",
       "      <td>2023</td>\n",
       "      <td>4.3</td>\n",
       "    </tr>\n",
       "    <tr>\n",
       "      <th>4</th>\n",
       "      <td>Motorola</td>\n",
       "      <td>32999.0</td>\n",
       "      <td>119980.0</td>\n",
       "      <td>Qled Ultra Hd (4K)</td>\n",
       "      <td>55</td>\n",
       "      <td>3840x2160</td>\n",
       "      <td>Google</td>\n",
       "      <td>2023</td>\n",
       "      <td>4.3</td>\n",
       "    </tr>\n",
       "    <tr>\n",
       "      <th>...</th>\n",
       "      <td>...</td>\n",
       "      <td>...</td>\n",
       "      <td>...</td>\n",
       "      <td>...</td>\n",
       "      <td>...</td>\n",
       "      <td>...</td>\n",
       "      <td>...</td>\n",
       "      <td>...</td>\n",
       "      <td>...</td>\n",
       "    </tr>\n",
       "    <tr>\n",
       "      <th>688</th>\n",
       "      <td>Sony</td>\n",
       "      <td>446490.0</td>\n",
       "      <td>699900.0</td>\n",
       "      <td>Ultra Hd (4K)</td>\n",
       "      <td>77</td>\n",
       "      <td>3840x2160</td>\n",
       "      <td>Google</td>\n",
       "      <td>2023</td>\n",
       "      <td>4.9</td>\n",
       "    </tr>\n",
       "    <tr>\n",
       "      <th>689</th>\n",
       "      <td>Lg</td>\n",
       "      <td>87990.0</td>\n",
       "      <td>139990.0</td>\n",
       "      <td>Ultra Hd (4K)</td>\n",
       "      <td>42</td>\n",
       "      <td>3840x2160</td>\n",
       "      <td>Webos</td>\n",
       "      <td>2022</td>\n",
       "      <td>4.0</td>\n",
       "    </tr>\n",
       "    <tr>\n",
       "      <th>690</th>\n",
       "      <td>Lg</td>\n",
       "      <td>169990.0</td>\n",
       "      <td>234990.0</td>\n",
       "      <td>Ultra Hd (4K)</td>\n",
       "      <td>65</td>\n",
       "      <td>3840x2160</td>\n",
       "      <td>Webos</td>\n",
       "      <td>2022</td>\n",
       "      <td>3.6</td>\n",
       "    </tr>\n",
       "    <tr>\n",
       "      <th>694</th>\n",
       "      <td>Sony</td>\n",
       "      <td>156900.0</td>\n",
       "      <td>249900.0</td>\n",
       "      <td>Ultra Hd (4K)</td>\n",
       "      <td>55</td>\n",
       "      <td>3840x2160</td>\n",
       "      <td>Google</td>\n",
       "      <td>2022</td>\n",
       "      <td>4.8</td>\n",
       "    </tr>\n",
       "    <tr>\n",
       "      <th>695</th>\n",
       "      <td>Sony</td>\n",
       "      <td>57990.0</td>\n",
       "      <td>99990.0</td>\n",
       "      <td>Ultra Hd (4K)</td>\n",
       "      <td>55</td>\n",
       "      <td>3840x2160</td>\n",
       "      <td>Google</td>\n",
       "      <td>2022</td>\n",
       "      <td>4.3</td>\n",
       "    </tr>\n",
       "  </tbody>\n",
       "</table>\n",
       "<p>443 rows × 9 columns</p>\n",
       "</div>"
      ],
      "text/plain": [
       "         Name  Selling_Price  Original_Price             Display  Size  \\\n",
       "0        Acer        17499.0         29999.0         Full Hd Led    40   \n",
       "1        Sony        40990.0         59900.0       Ultra Hd (4K)    43   \n",
       "2     Thomson        21999.0         31999.0  Qled Ultra Hd (4K)    43   \n",
       "3          Mi        36999.0         54999.0       Ultra Hd (4K)    55   \n",
       "4    Motorola        32999.0        119980.0  Qled Ultra Hd (4K)    55   \n",
       "..        ...            ...             ...                 ...   ...   \n",
       "688      Sony       446490.0        699900.0       Ultra Hd (4K)    77   \n",
       "689        Lg        87990.0        139990.0       Ultra Hd (4K)    42   \n",
       "690        Lg       169990.0        234990.0       Ultra Hd (4K)    65   \n",
       "694      Sony       156900.0        249900.0       Ultra Hd (4K)    55   \n",
       "695      Sony        57990.0         99990.0       Ultra Hd (4K)    55   \n",
       "\n",
       "    Screen_resolution      OS  Launch_Year  Ratings  \n",
       "0           1080x1920  Google         2023      4.3  \n",
       "1           3840x2160  Google         2024      4.7  \n",
       "2           3840x2160  Google         2023      4.5  \n",
       "3           3840x2160  Google         2023      4.3  \n",
       "4           3840x2160  Google         2023      4.3  \n",
       "..                ...     ...          ...      ...  \n",
       "688         3840x2160  Google         2023      4.9  \n",
       "689         3840x2160   Webos         2022      4.0  \n",
       "690         3840x2160   Webos         2022      3.6  \n",
       "694         3840x2160  Google         2022      4.8  \n",
       "695         3840x2160  Google         2022      4.3  \n",
       "\n",
       "[443 rows x 9 columns]"
      ]
     },
     "execution_count": 80,
     "metadata": {},
     "output_type": "execute_result"
    }
   ],
   "source": [
    "df.drop_duplicates()"
   ]
  },
  {
   "cell_type": "code",
   "execution_count": 81,
   "id": "0ce129d8",
   "metadata": {},
   "outputs": [],
   "source": [
    "df = df.drop_duplicates()"
   ]
  },
  {
   "cell_type": "code",
   "execution_count": 82,
   "id": "f4a8c7e3",
   "metadata": {},
   "outputs": [
    {
     "data": {
      "text/html": [
       "<div>\n",
       "<style scoped>\n",
       "    .dataframe tbody tr th:only-of-type {\n",
       "        vertical-align: middle;\n",
       "    }\n",
       "\n",
       "    .dataframe tbody tr th {\n",
       "        vertical-align: top;\n",
       "    }\n",
       "\n",
       "    .dataframe thead th {\n",
       "        text-align: right;\n",
       "    }\n",
       "</style>\n",
       "<table border=\"1\" class=\"dataframe\">\n",
       "  <thead>\n",
       "    <tr style=\"text-align: right;\">\n",
       "      <th></th>\n",
       "      <th>Name</th>\n",
       "      <th>Selling_Price</th>\n",
       "      <th>Original_Price</th>\n",
       "      <th>Display</th>\n",
       "      <th>Size</th>\n",
       "      <th>Screen_resolution</th>\n",
       "      <th>OS</th>\n",
       "      <th>Launch_Year</th>\n",
       "      <th>Ratings</th>\n",
       "    </tr>\n",
       "  </thead>\n",
       "  <tbody>\n",
       "    <tr>\n",
       "      <th>0</th>\n",
       "      <td>Acer</td>\n",
       "      <td>17499.0</td>\n",
       "      <td>29999.0</td>\n",
       "      <td>Full Hd Led</td>\n",
       "      <td>40</td>\n",
       "      <td>1080x1920</td>\n",
       "      <td>Google</td>\n",
       "      <td>2023</td>\n",
       "      <td>4.3</td>\n",
       "    </tr>\n",
       "    <tr>\n",
       "      <th>1</th>\n",
       "      <td>Sony</td>\n",
       "      <td>40990.0</td>\n",
       "      <td>59900.0</td>\n",
       "      <td>Ultra Hd (4K)</td>\n",
       "      <td>43</td>\n",
       "      <td>3840x2160</td>\n",
       "      <td>Google</td>\n",
       "      <td>2024</td>\n",
       "      <td>4.7</td>\n",
       "    </tr>\n",
       "    <tr>\n",
       "      <th>2</th>\n",
       "      <td>Thomson</td>\n",
       "      <td>21999.0</td>\n",
       "      <td>31999.0</td>\n",
       "      <td>Qled Ultra Hd (4K)</td>\n",
       "      <td>43</td>\n",
       "      <td>3840x2160</td>\n",
       "      <td>Google</td>\n",
       "      <td>2023</td>\n",
       "      <td>4.5</td>\n",
       "    </tr>\n",
       "    <tr>\n",
       "      <th>3</th>\n",
       "      <td>Mi</td>\n",
       "      <td>36999.0</td>\n",
       "      <td>54999.0</td>\n",
       "      <td>Ultra Hd (4K)</td>\n",
       "      <td>55</td>\n",
       "      <td>3840x2160</td>\n",
       "      <td>Google</td>\n",
       "      <td>2023</td>\n",
       "      <td>4.3</td>\n",
       "    </tr>\n",
       "    <tr>\n",
       "      <th>4</th>\n",
       "      <td>Motorola</td>\n",
       "      <td>32999.0</td>\n",
       "      <td>119980.0</td>\n",
       "      <td>Qled Ultra Hd (4K)</td>\n",
       "      <td>55</td>\n",
       "      <td>3840x2160</td>\n",
       "      <td>Google</td>\n",
       "      <td>2023</td>\n",
       "      <td>4.3</td>\n",
       "    </tr>\n",
       "    <tr>\n",
       "      <th>...</th>\n",
       "      <td>...</td>\n",
       "      <td>...</td>\n",
       "      <td>...</td>\n",
       "      <td>...</td>\n",
       "      <td>...</td>\n",
       "      <td>...</td>\n",
       "      <td>...</td>\n",
       "      <td>...</td>\n",
       "      <td>...</td>\n",
       "    </tr>\n",
       "    <tr>\n",
       "      <th>438</th>\n",
       "      <td>Sony</td>\n",
       "      <td>446490.0</td>\n",
       "      <td>699900.0</td>\n",
       "      <td>Ultra Hd (4K)</td>\n",
       "      <td>77</td>\n",
       "      <td>3840x2160</td>\n",
       "      <td>Google</td>\n",
       "      <td>2023</td>\n",
       "      <td>4.9</td>\n",
       "    </tr>\n",
       "    <tr>\n",
       "      <th>439</th>\n",
       "      <td>Lg</td>\n",
       "      <td>87990.0</td>\n",
       "      <td>139990.0</td>\n",
       "      <td>Ultra Hd (4K)</td>\n",
       "      <td>42</td>\n",
       "      <td>3840x2160</td>\n",
       "      <td>Webos</td>\n",
       "      <td>2022</td>\n",
       "      <td>4.0</td>\n",
       "    </tr>\n",
       "    <tr>\n",
       "      <th>440</th>\n",
       "      <td>Lg</td>\n",
       "      <td>169990.0</td>\n",
       "      <td>234990.0</td>\n",
       "      <td>Ultra Hd (4K)</td>\n",
       "      <td>65</td>\n",
       "      <td>3840x2160</td>\n",
       "      <td>Webos</td>\n",
       "      <td>2022</td>\n",
       "      <td>3.6</td>\n",
       "    </tr>\n",
       "    <tr>\n",
       "      <th>441</th>\n",
       "      <td>Sony</td>\n",
       "      <td>156900.0</td>\n",
       "      <td>249900.0</td>\n",
       "      <td>Ultra Hd (4K)</td>\n",
       "      <td>55</td>\n",
       "      <td>3840x2160</td>\n",
       "      <td>Google</td>\n",
       "      <td>2022</td>\n",
       "      <td>4.8</td>\n",
       "    </tr>\n",
       "    <tr>\n",
       "      <th>442</th>\n",
       "      <td>Sony</td>\n",
       "      <td>57990.0</td>\n",
       "      <td>99990.0</td>\n",
       "      <td>Ultra Hd (4K)</td>\n",
       "      <td>55</td>\n",
       "      <td>3840x2160</td>\n",
       "      <td>Google</td>\n",
       "      <td>2022</td>\n",
       "      <td>4.3</td>\n",
       "    </tr>\n",
       "  </tbody>\n",
       "</table>\n",
       "<p>443 rows × 9 columns</p>\n",
       "</div>"
      ],
      "text/plain": [
       "         Name  Selling_Price  Original_Price             Display  Size  \\\n",
       "0        Acer        17499.0         29999.0         Full Hd Led    40   \n",
       "1        Sony        40990.0         59900.0       Ultra Hd (4K)    43   \n",
       "2     Thomson        21999.0         31999.0  Qled Ultra Hd (4K)    43   \n",
       "3          Mi        36999.0         54999.0       Ultra Hd (4K)    55   \n",
       "4    Motorola        32999.0        119980.0  Qled Ultra Hd (4K)    55   \n",
       "..        ...            ...             ...                 ...   ...   \n",
       "438      Sony       446490.0        699900.0       Ultra Hd (4K)    77   \n",
       "439        Lg        87990.0        139990.0       Ultra Hd (4K)    42   \n",
       "440        Lg       169990.0        234990.0       Ultra Hd (4K)    65   \n",
       "441      Sony       156900.0        249900.0       Ultra Hd (4K)    55   \n",
       "442      Sony        57990.0         99990.0       Ultra Hd (4K)    55   \n",
       "\n",
       "    Screen_resolution      OS  Launch_Year  Ratings  \n",
       "0           1080x1920  Google         2023      4.3  \n",
       "1           3840x2160  Google         2024      4.7  \n",
       "2           3840x2160  Google         2023      4.5  \n",
       "3           3840x2160  Google         2023      4.3  \n",
       "4           3840x2160  Google         2023      4.3  \n",
       "..                ...     ...          ...      ...  \n",
       "438         3840x2160  Google         2023      4.9  \n",
       "439         3840x2160   Webos         2022      4.0  \n",
       "440         3840x2160   Webos         2022      3.6  \n",
       "441         3840x2160  Google         2022      4.8  \n",
       "442         3840x2160  Google         2022      4.3  \n",
       "\n",
       "[443 rows x 9 columns]"
      ]
     },
     "execution_count": 82,
     "metadata": {},
     "output_type": "execute_result"
    }
   ],
   "source": [
    "df.to_csv('Final_data.csv', index = False)\n",
    "df = pd.read_csv('Final_data.csv')\n",
    "df"
   ]
  },
  {
   "cell_type": "markdown",
   "id": "76bf30da",
   "metadata": {},
   "source": [
    "# EDA Dataset Details"
   ]
  },
  {
   "cell_type": "markdown",
   "id": "644489d7",
   "metadata": {},
   "source": [
    "Name = This indicates the manufacturer of the product\n",
    "\n",
    "Selling Price = This column has the Selling Price or the Price of the product after discount\n",
    "\n",
    "Original Price =  This column has the Original Price of the product from the manufacturer\n",
    "\n",
    "Display = This column refers to the screen quality of the visual display output\n",
    "\n",
    "Size = This column refers to the size of the tv in inches\n",
    "\n",
    "Screen resolution = IT refers to the number of pixels that make up the display of a screen, measured as width × height.\n",
    "\n",
    "OS =  This categorical variable shows the type of Operating system like Android, Google, etc.....\n",
    "\n",
    "Launch Year = This column refers to the latest launch of the telivision\n",
    "\n",
    "Rating =  Average customer ratings on a scale of 5\n",
    "\n"
   ]
  },
  {
   "cell_type": "code",
   "execution_count": 83,
   "id": "4b5655ca",
   "metadata": {},
   "outputs": [
    {
     "data": {
      "text/html": [
       "<div>\n",
       "<style scoped>\n",
       "    .dataframe tbody tr th:only-of-type {\n",
       "        vertical-align: middle;\n",
       "    }\n",
       "\n",
       "    .dataframe tbody tr th {\n",
       "        vertical-align: top;\n",
       "    }\n",
       "\n",
       "    .dataframe thead th {\n",
       "        text-align: right;\n",
       "    }\n",
       "</style>\n",
       "<table border=\"1\" class=\"dataframe\">\n",
       "  <thead>\n",
       "    <tr style=\"text-align: right;\">\n",
       "      <th></th>\n",
       "      <th>Name</th>\n",
       "      <th>Selling_Price</th>\n",
       "      <th>Original_Price</th>\n",
       "      <th>Display</th>\n",
       "      <th>Size</th>\n",
       "      <th>Screen_resolution</th>\n",
       "      <th>OS</th>\n",
       "      <th>Launch_Year</th>\n",
       "      <th>Ratings</th>\n",
       "    </tr>\n",
       "  </thead>\n",
       "  <tbody>\n",
       "    <tr>\n",
       "      <th>0</th>\n",
       "      <td>Acer</td>\n",
       "      <td>17499.0</td>\n",
       "      <td>29999.0</td>\n",
       "      <td>Full Hd Led</td>\n",
       "      <td>40</td>\n",
       "      <td>1080x1920</td>\n",
       "      <td>Google</td>\n",
       "      <td>2023</td>\n",
       "      <td>4.3</td>\n",
       "    </tr>\n",
       "    <tr>\n",
       "      <th>1</th>\n",
       "      <td>Sony</td>\n",
       "      <td>40990.0</td>\n",
       "      <td>59900.0</td>\n",
       "      <td>Ultra Hd (4K)</td>\n",
       "      <td>43</td>\n",
       "      <td>3840x2160</td>\n",
       "      <td>Google</td>\n",
       "      <td>2024</td>\n",
       "      <td>4.7</td>\n",
       "    </tr>\n",
       "    <tr>\n",
       "      <th>2</th>\n",
       "      <td>Thomson</td>\n",
       "      <td>21999.0</td>\n",
       "      <td>31999.0</td>\n",
       "      <td>Qled Ultra Hd (4K)</td>\n",
       "      <td>43</td>\n",
       "      <td>3840x2160</td>\n",
       "      <td>Google</td>\n",
       "      <td>2023</td>\n",
       "      <td>4.5</td>\n",
       "    </tr>\n",
       "    <tr>\n",
       "      <th>3</th>\n",
       "      <td>Mi</td>\n",
       "      <td>36999.0</td>\n",
       "      <td>54999.0</td>\n",
       "      <td>Ultra Hd (4K)</td>\n",
       "      <td>55</td>\n",
       "      <td>3840x2160</td>\n",
       "      <td>Google</td>\n",
       "      <td>2023</td>\n",
       "      <td>4.3</td>\n",
       "    </tr>\n",
       "    <tr>\n",
       "      <th>4</th>\n",
       "      <td>Motorola</td>\n",
       "      <td>32999.0</td>\n",
       "      <td>119980.0</td>\n",
       "      <td>Qled Ultra Hd (4K)</td>\n",
       "      <td>55</td>\n",
       "      <td>3840x2160</td>\n",
       "      <td>Google</td>\n",
       "      <td>2023</td>\n",
       "      <td>4.3</td>\n",
       "    </tr>\n",
       "    <tr>\n",
       "      <th>...</th>\n",
       "      <td>...</td>\n",
       "      <td>...</td>\n",
       "      <td>...</td>\n",
       "      <td>...</td>\n",
       "      <td>...</td>\n",
       "      <td>...</td>\n",
       "      <td>...</td>\n",
       "      <td>...</td>\n",
       "      <td>...</td>\n",
       "    </tr>\n",
       "    <tr>\n",
       "      <th>438</th>\n",
       "      <td>Sony</td>\n",
       "      <td>446490.0</td>\n",
       "      <td>699900.0</td>\n",
       "      <td>Ultra Hd (4K)</td>\n",
       "      <td>77</td>\n",
       "      <td>3840x2160</td>\n",
       "      <td>Google</td>\n",
       "      <td>2023</td>\n",
       "      <td>4.9</td>\n",
       "    </tr>\n",
       "    <tr>\n",
       "      <th>439</th>\n",
       "      <td>Lg</td>\n",
       "      <td>87990.0</td>\n",
       "      <td>139990.0</td>\n",
       "      <td>Ultra Hd (4K)</td>\n",
       "      <td>42</td>\n",
       "      <td>3840x2160</td>\n",
       "      <td>Webos</td>\n",
       "      <td>2022</td>\n",
       "      <td>4.0</td>\n",
       "    </tr>\n",
       "    <tr>\n",
       "      <th>440</th>\n",
       "      <td>Lg</td>\n",
       "      <td>169990.0</td>\n",
       "      <td>234990.0</td>\n",
       "      <td>Ultra Hd (4K)</td>\n",
       "      <td>65</td>\n",
       "      <td>3840x2160</td>\n",
       "      <td>Webos</td>\n",
       "      <td>2022</td>\n",
       "      <td>3.6</td>\n",
       "    </tr>\n",
       "    <tr>\n",
       "      <th>441</th>\n",
       "      <td>Sony</td>\n",
       "      <td>156900.0</td>\n",
       "      <td>249900.0</td>\n",
       "      <td>Ultra Hd (4K)</td>\n",
       "      <td>55</td>\n",
       "      <td>3840x2160</td>\n",
       "      <td>Google</td>\n",
       "      <td>2022</td>\n",
       "      <td>4.8</td>\n",
       "    </tr>\n",
       "    <tr>\n",
       "      <th>442</th>\n",
       "      <td>Sony</td>\n",
       "      <td>57990.0</td>\n",
       "      <td>99990.0</td>\n",
       "      <td>Ultra Hd (4K)</td>\n",
       "      <td>55</td>\n",
       "      <td>3840x2160</td>\n",
       "      <td>Google</td>\n",
       "      <td>2022</td>\n",
       "      <td>4.3</td>\n",
       "    </tr>\n",
       "  </tbody>\n",
       "</table>\n",
       "<p>443 rows × 9 columns</p>\n",
       "</div>"
      ],
      "text/plain": [
       "         Name  Selling_Price  Original_Price             Display  Size  \\\n",
       "0        Acer        17499.0         29999.0         Full Hd Led    40   \n",
       "1        Sony        40990.0         59900.0       Ultra Hd (4K)    43   \n",
       "2     Thomson        21999.0         31999.0  Qled Ultra Hd (4K)    43   \n",
       "3          Mi        36999.0         54999.0       Ultra Hd (4K)    55   \n",
       "4    Motorola        32999.0        119980.0  Qled Ultra Hd (4K)    55   \n",
       "..        ...            ...             ...                 ...   ...   \n",
       "438      Sony       446490.0        699900.0       Ultra Hd (4K)    77   \n",
       "439        Lg        87990.0        139990.0       Ultra Hd (4K)    42   \n",
       "440        Lg       169990.0        234990.0       Ultra Hd (4K)    65   \n",
       "441      Sony       156900.0        249900.0       Ultra Hd (4K)    55   \n",
       "442      Sony        57990.0         99990.0       Ultra Hd (4K)    55   \n",
       "\n",
       "    Screen_resolution      OS  Launch_Year  Ratings  \n",
       "0           1080x1920  Google         2023      4.3  \n",
       "1           3840x2160  Google         2024      4.7  \n",
       "2           3840x2160  Google         2023      4.5  \n",
       "3           3840x2160  Google         2023      4.3  \n",
       "4           3840x2160  Google         2023      4.3  \n",
       "..                ...     ...          ...      ...  \n",
       "438         3840x2160  Google         2023      4.9  \n",
       "439         3840x2160   Webos         2022      4.0  \n",
       "440         3840x2160   Webos         2022      3.6  \n",
       "441         3840x2160  Google         2022      4.8  \n",
       "442         3840x2160  Google         2022      4.3  \n",
       "\n",
       "[443 rows x 9 columns]"
      ]
     },
     "execution_count": 83,
     "metadata": {},
     "output_type": "execute_result"
    }
   ],
   "source": [
    "## data frame\n",
    "df"
   ]
  },
  {
   "cell_type": "code",
   "execution_count": 84,
   "id": "1c83aa20",
   "metadata": {},
   "outputs": [
    {
     "data": {
      "text/plain": [
       "[RangeIndex(start=0, stop=443, step=1),\n",
       " Index(['Name', 'Selling_Price', 'Original_Price', 'Display', 'Size',\n",
       "        'Screen_resolution', 'OS', 'Launch_Year', 'Ratings'],\n",
       "       dtype='object')]"
      ]
     },
     "execution_count": 84,
     "metadata": {},
     "output_type": "execute_result"
    }
   ],
   "source": [
    "df.axes"
   ]
  },
  {
   "cell_type": "code",
   "execution_count": 246,
   "id": "2d0fc791",
   "metadata": {},
   "outputs": [
    {
     "data": {
      "text/plain": [
       "(443, 9)"
      ]
     },
     "execution_count": 246,
     "metadata": {},
     "output_type": "execute_result"
    }
   ],
   "source": [
    "## it shows the shape of the data frame\n",
    "df.shape"
   ]
  },
  {
   "cell_type": "code",
   "execution_count": 247,
   "id": "bc1ca350",
   "metadata": {},
   "outputs": [
    {
     "data": {
      "text/plain": [
       "Index(['Name', 'Selling_Price', 'Original_Price', 'Display', 'Size',\n",
       "       'Screen_resolution', 'OS', 'Launch_Year', 'Ratings'],\n",
       "      dtype='object')"
      ]
     },
     "execution_count": 247,
     "metadata": {},
     "output_type": "execute_result"
    }
   ],
   "source": [
    "## what are the columns of the data frame\n",
    "df.columns"
   ]
  },
  {
   "cell_type": "code",
   "execution_count": 87,
   "id": "27199713",
   "metadata": {},
   "outputs": [
    {
     "data": {
      "text/html": [
       "<div>\n",
       "<style scoped>\n",
       "    .dataframe tbody tr th:only-of-type {\n",
       "        vertical-align: middle;\n",
       "    }\n",
       "\n",
       "    .dataframe tbody tr th {\n",
       "        vertical-align: top;\n",
       "    }\n",
       "\n",
       "    .dataframe thead th {\n",
       "        text-align: right;\n",
       "    }\n",
       "</style>\n",
       "<table border=\"1\" class=\"dataframe\">\n",
       "  <thead>\n",
       "    <tr style=\"text-align: right;\">\n",
       "      <th></th>\n",
       "      <th>Selling_Price</th>\n",
       "      <th>Original_Price</th>\n",
       "      <th>Size</th>\n",
       "      <th>Launch_Year</th>\n",
       "      <th>Ratings</th>\n",
       "    </tr>\n",
       "  </thead>\n",
       "  <tbody>\n",
       "    <tr>\n",
       "      <th>count</th>\n",
       "      <td>443.000000</td>\n",
       "      <td>443.000000</td>\n",
       "      <td>443.000000</td>\n",
       "      <td>443.000000</td>\n",
       "      <td>443.000000</td>\n",
       "    </tr>\n",
       "    <tr>\n",
       "      <th>mean</th>\n",
       "      <td>73908.004515</td>\n",
       "      <td>121336.358916</td>\n",
       "      <td>91.726862</td>\n",
       "      <td>2022.117381</td>\n",
       "      <td>4.318736</td>\n",
       "    </tr>\n",
       "    <tr>\n",
       "      <th>std</th>\n",
       "      <td>75497.412994</td>\n",
       "      <td>114055.105243</td>\n",
       "      <td>384.904889</td>\n",
       "      <td>1.712277</td>\n",
       "      <td>0.301784</td>\n",
       "    </tr>\n",
       "    <tr>\n",
       "      <th>min</th>\n",
       "      <td>13584.000000</td>\n",
       "      <td>17999.000000</td>\n",
       "      <td>40.000000</td>\n",
       "      <td>2016.000000</td>\n",
       "      <td>2.000000</td>\n",
       "    </tr>\n",
       "    <tr>\n",
       "      <th>25%</th>\n",
       "      <td>30999.000000</td>\n",
       "      <td>53140.000000</td>\n",
       "      <td>43.000000</td>\n",
       "      <td>2021.000000</td>\n",
       "      <td>4.200000</td>\n",
       "    </tr>\n",
       "    <tr>\n",
       "      <th>50%</th>\n",
       "      <td>47990.000000</td>\n",
       "      <td>77990.000000</td>\n",
       "      <td>55.000000</td>\n",
       "      <td>2023.000000</td>\n",
       "      <td>4.300000</td>\n",
       "    </tr>\n",
       "    <tr>\n",
       "      <th>75%</th>\n",
       "      <td>84990.000000</td>\n",
       "      <td>147900.000000</td>\n",
       "      <td>65.000000</td>\n",
       "      <td>2023.000000</td>\n",
       "      <td>4.400000</td>\n",
       "    </tr>\n",
       "    <tr>\n",
       "      <th>max</th>\n",
       "      <td>583399.000000</td>\n",
       "      <td>799900.000000</td>\n",
       "      <td>4343.000000</td>\n",
       "      <td>2024.000000</td>\n",
       "      <td>5.000000</td>\n",
       "    </tr>\n",
       "  </tbody>\n",
       "</table>\n",
       "</div>"
      ],
      "text/plain": [
       "       Selling_Price  Original_Price         Size  Launch_Year     Ratings\n",
       "count     443.000000      443.000000   443.000000   443.000000  443.000000\n",
       "mean    73908.004515   121336.358916    91.726862  2022.117381    4.318736\n",
       "std     75497.412994   114055.105243   384.904889     1.712277    0.301784\n",
       "min     13584.000000    17999.000000    40.000000  2016.000000    2.000000\n",
       "25%     30999.000000    53140.000000    43.000000  2021.000000    4.200000\n",
       "50%     47990.000000    77990.000000    55.000000  2023.000000    4.300000\n",
       "75%     84990.000000   147900.000000    65.000000  2023.000000    4.400000\n",
       "max    583399.000000   799900.000000  4343.000000  2024.000000    5.000000"
      ]
     },
     "execution_count": 87,
     "metadata": {},
     "output_type": "execute_result"
    }
   ],
   "source": [
    "### it describes the statistical data of the data frame\n",
    "df.describe()"
   ]
  },
  {
   "cell_type": "code",
   "execution_count": 248,
   "id": "79242ff7",
   "metadata": {},
   "outputs": [
    {
     "data": {
      "text/html": [
       "<div>\n",
       "<style scoped>\n",
       "    .dataframe tbody tr th:only-of-type {\n",
       "        vertical-align: middle;\n",
       "    }\n",
       "\n",
       "    .dataframe tbody tr th {\n",
       "        vertical-align: top;\n",
       "    }\n",
       "\n",
       "    .dataframe thead th {\n",
       "        text-align: right;\n",
       "    }\n",
       "</style>\n",
       "<table border=\"1\" class=\"dataframe\">\n",
       "  <thead>\n",
       "    <tr style=\"text-align: right;\">\n",
       "      <th></th>\n",
       "      <th>Name</th>\n",
       "      <th>Display</th>\n",
       "      <th>Screen_resolution</th>\n",
       "      <th>OS</th>\n",
       "    </tr>\n",
       "  </thead>\n",
       "  <tbody>\n",
       "    <tr>\n",
       "      <th>count</th>\n",
       "      <td>443</td>\n",
       "      <td>443</td>\n",
       "      <td>443</td>\n",
       "      <td>443</td>\n",
       "    </tr>\n",
       "    <tr>\n",
       "      <th>unique</th>\n",
       "      <td>27</td>\n",
       "      <td>3</td>\n",
       "      <td>3</td>\n",
       "      <td>7</td>\n",
       "    </tr>\n",
       "    <tr>\n",
       "      <th>top</th>\n",
       "      <td>Samsung</td>\n",
       "      <td>Ultra Hd (4K)</td>\n",
       "      <td>3840x2160</td>\n",
       "      <td>Google</td>\n",
       "    </tr>\n",
       "    <tr>\n",
       "      <th>freq</th>\n",
       "      <td>88</td>\n",
       "      <td>297</td>\n",
       "      <td>391</td>\n",
       "      <td>178</td>\n",
       "    </tr>\n",
       "  </tbody>\n",
       "</table>\n",
       "</div>"
      ],
      "text/plain": [
       "           Name        Display Screen_resolution      OS\n",
       "count       443            443               443     443\n",
       "unique       27              3                 3       7\n",
       "top     Samsung  Ultra Hd (4K)         3840x2160  Google\n",
       "freq         88            297               391     178"
      ]
     },
     "execution_count": 248,
     "metadata": {},
     "output_type": "execute_result"
    }
   ],
   "source": [
    "# it describes the counts of the objects\n",
    "df.describe(include = object)"
   ]
  },
  {
   "cell_type": "code",
   "execution_count": 89,
   "id": "93c02d2c",
   "metadata": {},
   "outputs": [
    {
     "data": {
      "text/plain": [
       "array(['Acer', 'Sony', 'Thomson', 'Mi', 'Motorola', 'Vu', 'Coocaa',\n",
       "       'Blaupunkt', 'Samsung', 'Toshiba', 'Iffalcon', 'Lg', 'Tcl',\n",
       "       'Kodak', 'Sansui', 'Haier', 'Onida', 'Hisense', 'Dyanora',\n",
       "       'Infinix', 'Sens', 'Candy', 'Lloyd', 'Admiral', 'Hyundai', 'Bpl',\n",
       "       'Skylive'], dtype=object)"
      ]
     },
     "execution_count": 89,
     "metadata": {},
     "output_type": "execute_result"
    }
   ],
   "source": [
    "### what are the number of brands \n",
    "df.Name.unique()"
   ]
  },
  {
   "cell_type": "code",
   "execution_count": 90,
   "id": "c9221685",
   "metadata": {},
   "outputs": [
    {
     "data": {
      "text/plain": [
       "27"
      ]
     },
     "execution_count": 90,
     "metadata": {},
     "output_type": "execute_result"
    }
   ],
   "source": [
    "df.Name.nunique()"
   ]
  },
  {
   "cell_type": "code",
   "execution_count": 249,
   "id": "a6d0811a",
   "metadata": {},
   "outputs": [
    {
     "data": {
      "image/png": "[encoded data removed]",
      "text/plain": [
       "<Figure size 640x480 with 1 Axes>"
      ]
     },
     "metadata": {},
     "output_type": "display_data"
    }
   ],
   "source": [
    "### plotting the countplot for telivions it shows no of telivisions brand wise\n",
    "sns.countplot(x = df.Name)\n",
    "plt.title('Telivisions')\n",
    "plt.xticks(rotation = 90)\n",
    "plt.show()"
   ]
  },
  {
   "cell_type": "code",
   "execution_count": 92,
   "id": "7de5b3d1",
   "metadata": {},
   "outputs": [],
   "source": [
    "##### what are the top 15 brands of the Telivisions"
   ]
  },
  {
   "cell_type": "code",
   "execution_count": 93,
   "id": "99eef37a",
   "metadata": {},
   "outputs": [
    {
     "data": {
      "text/plain": [
       "Name\n",
       "Samsung      88\n",
       "Lg           75\n",
       "Sony         43\n",
       "Tcl          34\n",
       "Hisense      24\n",
       "Thomson      18\n",
       "Toshiba      17\n",
       "Acer         13\n",
       "Mi           13\n",
       "Haier        11\n",
       "Kodak        11\n",
       "Iffalcon     10\n",
       "Vu           10\n",
       "Blaupunkt     9\n",
       "Sansui        9\n",
       "Name: count, dtype: int64"
      ]
     },
     "execution_count": 93,
     "metadata": {},
     "output_type": "execute_result"
    }
   ],
   "source": [
    "df.Name.value_counts().iloc[:15]"
   ]
  },
  {
   "cell_type": "code",
   "execution_count": 94,
   "id": "d3ee5d3b",
   "metadata": {},
   "outputs": [],
   "source": [
    "#### plotting the graphs using univariate analysis"
   ]
  },
  {
   "cell_type": "code",
   "execution_count": 95,
   "id": "59f97de7",
   "metadata": {},
   "outputs": [
    {
     "data": {
      "image/png": "[encoded data removed]",
      "text/plain": [
       "<Figure size 640x480 with 1 Axes>"
      ]
     },
     "metadata": {},
     "output_type": "display_data"
    }
   ],
   "source": [
    "### this are the top 10 brands of the Telivision\n",
    "df.Name.value_counts().iloc[:10].plot.pie(autopct = '%.2f')\n",
    "plt.title('Telivisions')\n",
    "plt.xlabel('The top 10 brands of the telivisions')\n",
    "plt.show()"
   ]
  },
  {
   "cell_type": "code",
   "execution_count": 96,
   "id": "394e1ca7",
   "metadata": {},
   "outputs": [
    {
     "data": {
      "text/plain": [
       "Text(0.5, 1.0, 'Count of the products by display')"
      ]
     },
     "execution_count": 96,
     "metadata": {},
     "output_type": "execute_result"
    },
    {
     "data": {
      "image/png": "[encoded data removed]",
      "text/plain": [
       "<Figure size 640x480 with 1 Axes>"
      ]
     },
     "metadata": {},
     "output_type": "display_data"
    }
   ],
   "source": [
    "### count of the products by display\n",
    "df.Display.value_counts().plot.bar()\n",
    "plt.title('Count of the products by display')"
   ]
  },
  {
   "cell_type": "markdown",
   "id": "53867732",
   "metadata": {},
   "source": [
    "# Ultra HD (4k) display TV's seems to be in greater demand as more than 70% of the products are catogorized as Telivision on website are of this type"
   ]
  },
  {
   "cell_type": "code",
   "execution_count": 250,
   "id": "46076da7",
   "metadata": {},
   "outputs": [
    {
     "data": {
      "text/plain": [
       "Name\n",
       "Samsung      88\n",
       "Lg           75\n",
       "Sony         43\n",
       "Tcl          34\n",
       "Hisense      24\n",
       "Thomson      18\n",
       "Toshiba      17\n",
       "Acer         13\n",
       "Mi           13\n",
       "Haier        11\n",
       "Kodak        11\n",
       "Iffalcon     10\n",
       "Vu           10\n",
       "Blaupunkt     9\n",
       "Sansui        9\n",
       "Lloyd         9\n",
       "Motorola      8\n",
       "Candy         7\n",
       "Coocaa        6\n",
       "Bpl           6\n",
       "Onida         4\n",
       "Sens          4\n",
       "Skylive       4\n",
       "Dyanora       3\n",
       "Hyundai       3\n",
       "Infinix       2\n",
       "Admiral       2\n",
       "Name: count, dtype: int64"
      ]
     },
     "execution_count": 250,
     "metadata": {},
     "output_type": "execute_result"
    }
   ],
   "source": [
    "#### which brand offers the more number of tvs\n",
    "df['Name'].value_counts()\n",
    "## samsung offers more number of products"
   ]
  },
  {
   "cell_type": "code",
   "execution_count": 251,
   "id": "e7fe6a87",
   "metadata": {},
   "outputs": [
    {
     "data": {
      "text/plain": [
       "<Axes: xlabel='Name'>"
      ]
     },
     "execution_count": 251,
     "metadata": {},
     "output_type": "execute_result"
    },
    {
     "data": {
      "image/png": "[encoded data removed]",
      "text/plain": [
       "<Figure size 640x480 with 1 Axes>"
      ]
     },
     "metadata": {},
     "output_type": "display_data"
    }
   ],
   "source": [
    "### top 6 brands with products count wise\n",
    "df.Name.value_counts().iloc[:6].plot.bar()"
   ]
  },
  {
   "cell_type": "markdown",
   "id": "f737c299",
   "metadata": {},
   "source": [
    "# The samsung brand has more number of telivisons in the market and also the market closely followed by lg. While  tcl, sony, hisense, Thomson offers lesser number of products when compared to this brands"
   ]
  },
  {
   "cell_type": "code",
   "execution_count": 99,
   "id": "de7811d8",
   "metadata": {},
   "outputs": [
    {
     "data": {
      "image/png": "[encoded data removed]",
      "text/plain": [
       "<Figure size 1000x500 with 1 Axes>"
      ]
     },
     "metadata": {},
     "output_type": "display_data"
    }
   ],
   "source": [
    "####\n",
    "plt.figure(figsize = (10,5))\n",
    "sns.countplot(y = 'Name',hue = 'Display', data = df, order = df.Name.value_counts().iloc[:6].index)\n",
    "plt.show()"
   ]
  },
  {
   "cell_type": "markdown",
   "id": "b6dd18b0",
   "metadata": {},
   "source": [
    "# From the above data we can clearly see the samung offers the products in all types of screen quality. while lg and sony does not offer the Qled Ultra HD (4k) display. Hisense and Thomson also offers all types of displays but in very less count"
   ]
  },
  {
   "cell_type": "code",
   "execution_count": 100,
   "id": "886fee37",
   "metadata": {},
   "outputs": [
    {
     "data": {
      "text/plain": [
       "<Axes: xlabel='Screen_resolution', ylabel='count'>"
      ]
     },
     "execution_count": 100,
     "metadata": {},
     "output_type": "execute_result"
    },
    {
     "data": {
      "image/png": "[encoded data removed]",
      "text/plain": [
       "<Figure size 640x480 with 1 Axes>"
      ]
     },
     "metadata": {},
     "output_type": "display_data"
    }
   ],
   "source": [
    "### most 90 percent of the tv screens supports 3840x2160 pixels resolution\n",
    "sns.countplot(x = df.Screen_resolution)"
   ]
  },
  {
   "cell_type": "code",
   "execution_count": 101,
   "id": "00d3a6b7",
   "metadata": {},
   "outputs": [
    {
     "data": {
      "image/png": "[encoded data removed]",
      "text/plain": [
       "<Figure size 640x480 with 1 Axes>"
      ]
     },
     "metadata": {},
     "output_type": "display_data"
    }
   ],
   "source": [
    "#### 43, 55, 65 inches are the common sizes of the tvs in market \n",
    "colors = sns.color_palette('pastel')[0:4]\n",
    "df.Size.value_counts().head().plot.pie(autopct = '%.2f')\n",
    "plt.show()"
   ]
  },
  {
   "cell_type": "markdown",
   "id": "c875c457",
   "metadata": {},
   "source": [
    "#  43, 55, 65 are the common sizes of the telivion markets"
   ]
  },
  {
   "cell_type": "code",
   "execution_count": 102,
   "id": "be9cd749",
   "metadata": {},
   "outputs": [
    {
     "name": "stderr",
     "output_type": "stream",
     "text": [
      "C:\\Users\\mdazh\\anaconda3\\Lib\\site-packages\\seaborn\\_oldcore.py:1119: FutureWarning: use_inf_as_na option is deprecated and will be removed in a future version. Convert inf values to NaN before operating instead.\n",
      "  with pd.option_context('mode.use_inf_as_na', True):\n"
     ]
    },
    {
     "data": {
      "image/png": "[encoded data removed]",
      "text/plain": [
       "<Figure size 640x480 with 1 Axes>"
      ]
     },
     "metadata": {},
     "output_type": "display_data"
    }
   ],
   "source": [
    "### Here we are using histogram plots to display distribution of screen sizes using bins \n",
    "plt.title('The distribution of screen sizes')\n",
    "sns.histplot(x = 'Size', data = df, kde = False, bins = [40,45,50,55,60,65,70,75,80])\n",
    "plt.show()"
   ]
  },
  {
   "cell_type": "code",
   "execution_count": 103,
   "id": "c08dc469",
   "metadata": {},
   "outputs": [
    {
     "data": {
      "text/plain": [
       "<Axes: ylabel='Selling_Price'>"
      ]
     },
     "execution_count": 103,
     "metadata": {},
     "output_type": "execute_result"
    },
    {
     "data": {
      "image/png": "[encoded data removed]",
      "text/plain": [
       "<Figure size 640x480 with 1 Axes>"
      ]
     },
     "metadata": {},
     "output_type": "display_data"
    }
   ],
   "source": [
    "#### \n",
    "sns.boxplot(y = df.Selling_Price)\n"
   ]
  },
  {
   "cell_type": "code",
   "execution_count": 104,
   "id": "061ef4c3",
   "metadata": {},
   "outputs": [
    {
     "data": {
      "text/plain": [
       "<Axes: ylabel='Original_Price'>"
      ]
     },
     "execution_count": 104,
     "metadata": {},
     "output_type": "execute_result"
    },
    {
     "data": {
      "image/png": "[encoded data removed]",
      "text/plain": [
       "<Figure size 640x480 with 1 Axes>"
      ]
     },
     "metadata": {},
     "output_type": "display_data"
    }
   ],
   "source": [
    "sns.boxplot(y = df.Original_Price)"
   ]
  },
  {
   "cell_type": "markdown",
   "id": "ab4f8d75",
   "metadata": {},
   "source": [
    "# bivariate analysis"
   ]
  },
  {
   "cell_type": "code",
   "execution_count": 106,
   "id": "8df84ca9",
   "metadata": {},
   "outputs": [
    {
     "data": {
      "text/plain": [
       "<matplotlib.collections.PathCollection at 0x1ca396fc890>"
      ]
     },
     "execution_count": 106,
     "metadata": {},
     "output_type": "execute_result"
    },
    {
     "data": {
      "image/png": "[encoded data removed]",
      "text/plain": [
       "<Figure size 640x480 with 1 Axes>"
      ]
     },
     "metadata": {},
     "output_type": "display_data"
    }
   ],
   "source": [
    "plt.scatter(y = df.Selling_Price, x = df.Original_Price)"
   ]
  },
  {
   "cell_type": "code",
   "execution_count": 107,
   "id": "881ce380",
   "metadata": {},
   "outputs": [
    {
     "name": "stderr",
     "output_type": "stream",
     "text": [
      "C:\\Users\\mdazh\\anaconda3\\Lib\\site-packages\\seaborn\\_oldcore.py:1119: FutureWarning: use_inf_as_na option is deprecated and will be removed in a future version. Convert inf values to NaN before operating instead.\n",
      "  with pd.option_context('mode.use_inf_as_na', True):\n",
      "C:\\Users\\mdazh\\anaconda3\\Lib\\site-packages\\seaborn\\_oldcore.py:1119: FutureWarning: use_inf_as_na option is deprecated and will be removed in a future version. Convert inf values to NaN before operating instead.\n",
      "  with pd.option_context('mode.use_inf_as_na', True):\n",
      "C:\\Users\\mdazh\\anaconda3\\Lib\\site-packages\\seaborn\\axisgrid.py:118: UserWarning: The figure layout has changed to tight\n",
      "  self._figure.tight_layout(*args, **kwargs)\n"
     ]
    },
    {
     "data": {
      "text/plain": [
       "<seaborn.axisgrid.PairGrid at 0x1ca37fd3c10>"
      ]
     },
     "execution_count": 107,
     "metadata": {},
     "output_type": "execute_result"
    },
    {
     "data": {
      "image/png": "[encoded data removed]",
      "text/plain": [
       "<Figure size 500x500 with 6 Axes>"
      ]
     },
     "metadata": {},
     "output_type": "display_data"
    }
   ],
   "source": [
    "sns.pairplot(data = df, vars = ['Selling_Price','Original_Price'])"
   ]
  },
  {
   "cell_type": "code",
   "execution_count": 108,
   "id": "e9b04cad",
   "metadata": {},
   "outputs": [
    {
     "name": "stderr",
     "output_type": "stream",
     "text": [
      "C:\\Users\\mdazh\\anaconda3\\Lib\\site-packages\\seaborn\\_oldcore.py:1119: FutureWarning: use_inf_as_na option is deprecated and will be removed in a future version. Convert inf values to NaN before operating instead.\n",
      "  with pd.option_context('mode.use_inf_as_na', True):\n",
      "C:\\Users\\mdazh\\anaconda3\\Lib\\site-packages\\seaborn\\_oldcore.py:1119: FutureWarning: use_inf_as_na option is deprecated and will be removed in a future version. Convert inf values to NaN before operating instead.\n",
      "  with pd.option_context('mode.use_inf_as_na', True):\n",
      "C:\\Users\\mdazh\\anaconda3\\Lib\\site-packages\\seaborn\\_oldcore.py:1119: FutureWarning: use_inf_as_na option is deprecated and will be removed in a future version. Convert inf values to NaN before operating instead.\n",
      "  with pd.option_context('mode.use_inf_as_na', True):\n",
      "C:\\Users\\mdazh\\anaconda3\\Lib\\site-packages\\seaborn\\axisgrid.py:118: UserWarning: The figure layout has changed to tight\n",
      "  self._figure.tight_layout(*args, **kwargs)\n"
     ]
    },
    {
     "data": {
      "image/png": "[encoded data removed]",
      "text/plain": [
       "<Figure size 750x750 with 12 Axes>"
      ]
     },
     "metadata": {},
     "output_type": "display_data"
    }
   ],
   "source": [
    "sns.pairplot(df[['Selling_Price', 'Original_Price', 'Ratings']])\n",
    "plt.show()"
   ]
  },
  {
   "cell_type": "code",
   "execution_count": 252,
   "id": "a4f444f1",
   "metadata": {},
   "outputs": [
    {
     "data": {
      "text/plain": [
       "Name\n",
       "Sony         4.6\n",
       "Blaupunkt    4.4\n",
       "Thomson      4.4\n",
       "Kodak        4.4\n",
       "Candy        4.4\n",
       "Lloyd        4.4\n",
       "Samsung      4.3\n",
       "Onida        4.3\n",
       "Lg           4.3\n",
       "Sansui       4.3\n",
       "Mi           4.3\n",
       "Toshiba      4.3\n",
       "Skylive      4.3\n",
       "Motorola     4.3\n",
       "Bpl          4.3\n",
       "Vu           4.3\n",
       "Sens         4.2\n",
       "Coocaa       4.2\n",
       "Hisense      4.2\n",
       "Iffalcon     4.2\n",
       "Infinix      4.2\n",
       "Acer         4.2\n",
       "Haier        4.1\n",
       "Tcl          4.1\n",
       "Dyanora      4.1\n",
       "Admiral      4.0\n",
       "Hyundai      3.9\n",
       "Name: Ratings, dtype: float64"
      ]
     },
     "execution_count": 252,
     "metadata": {},
     "output_type": "execute_result"
    }
   ],
   "source": [
    "### the brand wise average ratings\n",
    "round(df.groupby(by = 'Name').Ratings.mean().sort_values(ascending = False),1)"
   ]
  },
  {
   "cell_type": "code",
   "execution_count": 110,
   "id": "990dd879",
   "metadata": {},
   "outputs": [
    {
     "name": "stderr",
     "output_type": "stream",
     "text": [
      "C:\\Users\\mdazh\\anaconda3\\Lib\\site-packages\\seaborn\\_oldcore.py:1119: FutureWarning: use_inf_as_na option is deprecated and will be removed in a future version. Convert inf values to NaN before operating instead.\n",
      "  with pd.option_context('mode.use_inf_as_na', True):\n",
      "C:\\Users\\mdazh\\anaconda3\\Lib\\site-packages\\seaborn\\_oldcore.py:1119: FutureWarning: use_inf_as_na option is deprecated and will be removed in a future version. Convert inf values to NaN before operating instead.\n",
      "  with pd.option_context('mode.use_inf_as_na', True):\n"
     ]
    },
    {
     "data": {
      "text/plain": [
       "<Axes: xlabel='Launch_Year', ylabel='Ratings'>"
      ]
     },
     "execution_count": 110,
     "metadata": {},
     "output_type": "execute_result"
    },
    {
     "data": {
      "image/png": "[encoded data removed]",
      "text/plain": [
       "<Figure size 640x480 with 1 Axes>"
      ]
     },
     "metadata": {},
     "output_type": "display_data"
    }
   ],
   "source": [
    "## this are the ratings year wise how it increases year wise \n",
    "sns.lineplot(x = df.Launch_Year, y = df.Ratings)"
   ]
  },
  {
   "attachments": {},
   "cell_type": "markdown",
   "id": "bd681203",
   "metadata": {},
   "source": [
    "#  From the above line plots we can see the ratings are being fluctuated year wise. Rating might be goes up and down. Upward trend indicates improving ratings, while a downward trend indicates declining ratings."
   ]
  },
  {
   "cell_type": "code",
   "execution_count": 111,
   "id": "9c107938",
   "metadata": {},
   "outputs": [
    {
     "name": "stderr",
     "output_type": "stream",
     "text": [
      "C:\\Users\\mdazh\\anaconda3\\Lib\\site-packages\\seaborn\\_oldcore.py:1119: FutureWarning: use_inf_as_na option is deprecated and will be removed in a future version. Convert inf values to NaN before operating instead.\n",
      "  with pd.option_context('mode.use_inf_as_na', True):\n",
      "C:\\Users\\mdazh\\anaconda3\\Lib\\site-packages\\seaborn\\_oldcore.py:1119: FutureWarning: use_inf_as_na option is deprecated and will be removed in a future version. Convert inf values to NaN before operating instead.\n",
      "  with pd.option_context('mode.use_inf_as_na', True):\n"
     ]
    },
    {
     "data": {
      "text/plain": [
       "<Axes: xlabel='Launch_Year', ylabel='Selling_Price'>"
      ]
     },
     "execution_count": 111,
     "metadata": {},
     "output_type": "execute_result"
    },
    {
     "data": {
      "image/png": "[encoded data removed]",
      "text/plain": [
       "<Figure size 640x480 with 1 Axes>"
      ]
     },
     "metadata": {},
     "output_type": "display_data"
    }
   ],
   "source": [
    "### by this data we can cleary see that the budget of the tvs was very high in 2016 and 2017 but after 2021 the prices vary between \n",
    "#### 50000 to 1 lakh rupees\n",
    "sns.lineplot(x = df.Launch_Year, y = df.Selling_Price)"
   ]
  },
  {
   "attachments": {},
   "cell_type": "markdown",
   "id": "769006c0",
   "metadata": {},
   "source": [
    "# From the above line plots we can see the seling prices of the products are decresing. From this we can see prices of the prodcuts may decrease over time. If the technology is new the prices are high and products are in high demand. "
   ]
  },
  {
   "cell_type": "code",
   "execution_count": 112,
   "id": "5418b2e6",
   "metadata": {},
   "outputs": [
    {
     "data": {
      "text/plain": [
       "Name\n",
       "Acer          36997.0\n",
       "Admiral       24999.0\n",
       "Blaupunkt     26840.0\n",
       "Bpl           30326.0\n",
       "Candy         35490.0\n",
       "Coocaa        26349.0\n",
       "Dyanora       17499.0\n",
       "Haier         38575.0\n",
       "Hisense       72490.0\n",
       "Hyundai       29963.0\n",
       "Iffalcon      29448.0\n",
       "Infinix       28499.0\n",
       "Kodak         32435.0\n",
       "Lg            99944.0\n",
       "Lloyd         50757.0\n",
       "Mi            36613.0\n",
       "Motorola      34840.0\n",
       "Onida         48424.0\n",
       "Samsung      111070.0\n",
       "Sansui        51513.0\n",
       "Sens          28574.0\n",
       "Skylive       15840.0\n",
       "Sony         121693.0\n",
       "Tcl           56866.0\n",
       "Thomson       31938.0\n",
       "Toshiba       51756.0\n",
       "Vu            42807.0\n",
       "Name: Selling_Price, dtype: float64"
      ]
     },
     "execution_count": 112,
     "metadata": {},
     "output_type": "execute_result"
    }
   ],
   "source": [
    "#### brand wise average prices\n",
    "round(df.groupby(by = 'Name').Selling_Price.mean())"
   ]
  },
  {
   "cell_type": "code",
   "execution_count": 113,
   "id": "8a9c7cb4",
   "metadata": {},
   "outputs": [
    {
     "data": {
      "text/plain": [
       "Name\n",
       "Acer         29999.0\n",
       "Admiral      24999.0\n",
       "Blaupunkt    26999.0\n",
       "Bpl          25894.0\n",
       "Candy        32990.0\n",
       "Coocaa       24499.0\n",
       "Dyanora      16999.0\n",
       "Haier        35990.0\n",
       "Hisense      45249.0\n",
       "Hyundai      25999.0\n",
       "Iffalcon     27249.0\n",
       "Infinix      28499.0\n",
       "Kodak        30999.0\n",
       "Lg           80999.0\n",
       "Lloyd        45890.0\n",
       "Mi           32990.0\n",
       "Motorola     32499.0\n",
       "Onida        40649.0\n",
       "Samsung      73445.0\n",
       "Sansui       33599.0\n",
       "Sens         26749.0\n",
       "Skylive      16102.0\n",
       "Sony         77999.0\n",
       "Tcl          48994.0\n",
       "Thomson      24249.0\n",
       "Toshiba      39999.0\n",
       "Vu           34749.0\n",
       "Name: Selling_Price, dtype: float64"
      ]
     },
     "execution_count": 113,
     "metadata": {},
     "output_type": "execute_result"
    }
   ],
   "source": [
    "round(df.groupby(by = 'Name').Selling_Price.median())"
   ]
  },
  {
   "cell_type": "code",
   "execution_count": 114,
   "id": "46404624",
   "metadata": {},
   "outputs": [
    {
     "data": {
      "text/html": [
       "<div>\n",
       "<style scoped>\n",
       "    .dataframe tbody tr th:only-of-type {\n",
       "        vertical-align: middle;\n",
       "    }\n",
       "\n",
       "    .dataframe tbody tr th {\n",
       "        vertical-align: top;\n",
       "    }\n",
       "\n",
       "    .dataframe thead th {\n",
       "        text-align: right;\n",
       "    }\n",
       "</style>\n",
       "<table border=\"1\" class=\"dataframe\">\n",
       "  <thead>\n",
       "    <tr style=\"text-align: right;\">\n",
       "      <th>Display</th>\n",
       "      <th>Full Hd Led</th>\n",
       "      <th>Qled Ultra Hd (4K)</th>\n",
       "      <th>Ultra Hd (4K)</th>\n",
       "    </tr>\n",
       "    <tr>\n",
       "      <th>Name</th>\n",
       "      <th></th>\n",
       "      <th></th>\n",
       "      <th></th>\n",
       "    </tr>\n",
       "  </thead>\n",
       "  <tbody>\n",
       "    <tr>\n",
       "      <th>Acer</th>\n",
       "      <td>19249.000000</td>\n",
       "      <td>30999.000000</td>\n",
       "      <td>41146.300000</td>\n",
       "    </tr>\n",
       "    <tr>\n",
       "      <th>Admiral</th>\n",
       "      <td>18999.000000</td>\n",
       "      <td>NaN</td>\n",
       "      <td>30999.000000</td>\n",
       "    </tr>\n",
       "    <tr>\n",
       "      <th>Blaupunkt</th>\n",
       "      <td>15665.666667</td>\n",
       "      <td>40633.500000</td>\n",
       "      <td>28324.000000</td>\n",
       "    </tr>\n",
       "    <tr>\n",
       "      <th>Bpl</th>\n",
       "      <td>22556.333333</td>\n",
       "      <td>47999.000000</td>\n",
       "      <td>33144.500000</td>\n",
       "    </tr>\n",
       "    <tr>\n",
       "      <th>Candy</th>\n",
       "      <td>17990.000000</td>\n",
       "      <td>47490.000000</td>\n",
       "      <td>33865.000000</td>\n",
       "    </tr>\n",
       "    <tr>\n",
       "      <th>Coocaa</th>\n",
       "      <td>14499.000000</td>\n",
       "      <td>34999.000000</td>\n",
       "      <td>24532.333333</td>\n",
       "    </tr>\n",
       "    <tr>\n",
       "      <th>Dyanora</th>\n",
       "      <td>16249.000000</td>\n",
       "      <td>NaN</td>\n",
       "      <td>19999.000000</td>\n",
       "    </tr>\n",
       "    <tr>\n",
       "      <th>Haier</th>\n",
       "      <td>23990.000000</td>\n",
       "      <td>39990.000000</td>\n",
       "      <td>40038.444444</td>\n",
       "    </tr>\n",
       "    <tr>\n",
       "      <th>Hisense</th>\n",
       "      <td>22999.000000</td>\n",
       "      <td>51210.375000</td>\n",
       "      <td>87138.400000</td>\n",
       "    </tr>\n",
       "    <tr>\n",
       "      <th>Hyundai</th>\n",
       "      <td>17990.000000</td>\n",
       "      <td>NaN</td>\n",
       "      <td>35949.000000</td>\n",
       "    </tr>\n",
       "    <tr>\n",
       "      <th>Iffalcon</th>\n",
       "      <td>14999.000000</td>\n",
       "      <td>34662.666667</td>\n",
       "      <td>29249.000000</td>\n",
       "    </tr>\n",
       "    <tr>\n",
       "      <th>Infinix</th>\n",
       "      <td>NaN</td>\n",
       "      <td>28499.000000</td>\n",
       "      <td>NaN</td>\n",
       "    </tr>\n",
       "    <tr>\n",
       "      <th>Kodak</th>\n",
       "      <td>15099.000000</td>\n",
       "      <td>32999.000000</td>\n",
       "      <td>49349.000000</td>\n",
       "    </tr>\n",
       "    <tr>\n",
       "      <th>Lg</th>\n",
       "      <td>55467.000000</td>\n",
       "      <td>NaN</td>\n",
       "      <td>102449.718310</td>\n",
       "    </tr>\n",
       "    <tr>\n",
       "      <th>Lloyd</th>\n",
       "      <td>26074.500000</td>\n",
       "      <td>58497.000000</td>\n",
       "      <td>56893.333333</td>\n",
       "    </tr>\n",
       "    <tr>\n",
       "      <th>Mi</th>\n",
       "      <td>21665.666667</td>\n",
       "      <td>84999.000000</td>\n",
       "      <td>36219.222222</td>\n",
       "    </tr>\n",
       "    <tr>\n",
       "      <th>Motorola</th>\n",
       "      <td>21413.000000</td>\n",
       "      <td>31249.000000</td>\n",
       "      <td>43349.000000</td>\n",
       "    </tr>\n",
       "    <tr>\n",
       "      <th>Onida</th>\n",
       "      <td>NaN</td>\n",
       "      <td>NaN</td>\n",
       "      <td>48424.000000</td>\n",
       "    </tr>\n",
       "    <tr>\n",
       "      <th>Samsung</th>\n",
       "      <td>29494.500000</td>\n",
       "      <td>150459.055556</td>\n",
       "      <td>85973.120000</td>\n",
       "    </tr>\n",
       "    <tr>\n",
       "      <th>Sansui</th>\n",
       "      <td>20729.333333</td>\n",
       "      <td>57999.000000</td>\n",
       "      <td>68685.400000</td>\n",
       "    </tr>\n",
       "    <tr>\n",
       "      <th>Sens</th>\n",
       "      <td>NaN</td>\n",
       "      <td>34999.000000</td>\n",
       "      <td>22149.000000</td>\n",
       "    </tr>\n",
       "    <tr>\n",
       "      <th>Skylive</th>\n",
       "      <td>15840.250000</td>\n",
       "      <td>NaN</td>\n",
       "      <td>NaN</td>\n",
       "    </tr>\n",
       "    <tr>\n",
       "      <th>Sony</th>\n",
       "      <td>44990.000000</td>\n",
       "      <td>NaN</td>\n",
       "      <td>123519.761905</td>\n",
       "    </tr>\n",
       "    <tr>\n",
       "      <th>Tcl</th>\n",
       "      <td>NaN</td>\n",
       "      <td>47906.214286</td>\n",
       "      <td>63137.700000</td>\n",
       "    </tr>\n",
       "    <tr>\n",
       "      <th>Thomson</th>\n",
       "      <td>15599.000000</td>\n",
       "      <td>44499.000000</td>\n",
       "      <td>35432.333333</td>\n",
       "    </tr>\n",
       "    <tr>\n",
       "      <th>Toshiba</th>\n",
       "      <td>27449.500000</td>\n",
       "      <td>64124.000000</td>\n",
       "      <td>44566.000000</td>\n",
       "    </tr>\n",
       "    <tr>\n",
       "      <th>Vu</th>\n",
       "      <td>NaN</td>\n",
       "      <td>NaN</td>\n",
       "      <td>42807.200000</td>\n",
       "    </tr>\n",
       "  </tbody>\n",
       "</table>\n",
       "</div>"
      ],
      "text/plain": [
       "Display     Full Hd Led  Qled Ultra Hd (4K)  Ultra Hd (4K)\n",
       "Name                                                      \n",
       "Acer       19249.000000        30999.000000   41146.300000\n",
       "Admiral    18999.000000                 NaN   30999.000000\n",
       "Blaupunkt  15665.666667        40633.500000   28324.000000\n",
       "Bpl        22556.333333        47999.000000   33144.500000\n",
       "Candy      17990.000000        47490.000000   33865.000000\n",
       "Coocaa     14499.000000        34999.000000   24532.333333\n",
       "Dyanora    16249.000000                 NaN   19999.000000\n",
       "Haier      23990.000000        39990.000000   40038.444444\n",
       "Hisense    22999.000000        51210.375000   87138.400000\n",
       "Hyundai    17990.000000                 NaN   35949.000000\n",
       "Iffalcon   14999.000000        34662.666667   29249.000000\n",
       "Infinix             NaN        28499.000000            NaN\n",
       "Kodak      15099.000000        32999.000000   49349.000000\n",
       "Lg         55467.000000                 NaN  102449.718310\n",
       "Lloyd      26074.500000        58497.000000   56893.333333\n",
       "Mi         21665.666667        84999.000000   36219.222222\n",
       "Motorola   21413.000000        31249.000000   43349.000000\n",
       "Onida               NaN                 NaN   48424.000000\n",
       "Samsung    29494.500000       150459.055556   85973.120000\n",
       "Sansui     20729.333333        57999.000000   68685.400000\n",
       "Sens                NaN        34999.000000   22149.000000\n",
       "Skylive    15840.250000                 NaN            NaN\n",
       "Sony       44990.000000                 NaN  123519.761905\n",
       "Tcl                 NaN        47906.214286   63137.700000\n",
       "Thomson    15599.000000        44499.000000   35432.333333\n",
       "Toshiba    27449.500000        64124.000000   44566.000000\n",
       "Vu                  NaN                 NaN   42807.200000"
      ]
     },
     "execution_count": 114,
     "metadata": {},
     "output_type": "execute_result"
    }
   ],
   "source": [
    "### brand wise Average prices using crosstab which shows the average price of the tvs with respect to displays\n",
    "pd.crosstab(df.Name, df.Display , values = df.Selling_Price, aggfunc = ('mean')).iloc[:]"
   ]
  },
  {
   "cell_type": "code",
   "execution_count": 115,
   "id": "81de7cee",
   "metadata": {},
   "outputs": [
    {
     "data": {
      "text/html": [
       "<div>\n",
       "<style scoped>\n",
       "    .dataframe tbody tr th:only-of-type {\n",
       "        vertical-align: middle;\n",
       "    }\n",
       "\n",
       "    .dataframe tbody tr th {\n",
       "        vertical-align: top;\n",
       "    }\n",
       "\n",
       "    .dataframe thead th {\n",
       "        text-align: right;\n",
       "    }\n",
       "</style>\n",
       "<table border=\"1\" class=\"dataframe\">\n",
       "  <thead>\n",
       "    <tr style=\"text-align: right;\">\n",
       "      <th>Display</th>\n",
       "      <th>Full Hd Led</th>\n",
       "      <th>Qled Ultra Hd (4K)</th>\n",
       "      <th>Ultra Hd (4K)</th>\n",
       "    </tr>\n",
       "    <tr>\n",
       "      <th>Name</th>\n",
       "      <th></th>\n",
       "      <th></th>\n",
       "      <th></th>\n",
       "    </tr>\n",
       "  </thead>\n",
       "  <tbody>\n",
       "    <tr>\n",
       "      <th>Acer</th>\n",
       "      <td>19249.0</td>\n",
       "      <td>30999.0</td>\n",
       "      <td>29999.0</td>\n",
       "    </tr>\n",
       "    <tr>\n",
       "      <th>Admiral</th>\n",
       "      <td>18999.0</td>\n",
       "      <td>NaN</td>\n",
       "      <td>30999.0</td>\n",
       "    </tr>\n",
       "    <tr>\n",
       "      <th>Blaupunkt</th>\n",
       "      <td>14999.0</td>\n",
       "      <td>40633.5</td>\n",
       "      <td>28299.0</td>\n",
       "    </tr>\n",
       "    <tr>\n",
       "      <th>Bpl</th>\n",
       "      <td>22190.0</td>\n",
       "      <td>47999.0</td>\n",
       "      <td>33144.5</td>\n",
       "    </tr>\n",
       "    <tr>\n",
       "      <th>Candy</th>\n",
       "      <td>17990.0</td>\n",
       "      <td>47490.0</td>\n",
       "      <td>31490.0</td>\n",
       "    </tr>\n",
       "    <tr>\n",
       "      <th>Coocaa</th>\n",
       "      <td>14499.0</td>\n",
       "      <td>34999.0</td>\n",
       "      <td>24999.0</td>\n",
       "    </tr>\n",
       "    <tr>\n",
       "      <th>Dyanora</th>\n",
       "      <td>16249.0</td>\n",
       "      <td>NaN</td>\n",
       "      <td>19999.0</td>\n",
       "    </tr>\n",
       "    <tr>\n",
       "      <th>Haier</th>\n",
       "      <td>23990.0</td>\n",
       "      <td>39990.0</td>\n",
       "      <td>35990.0</td>\n",
       "    </tr>\n",
       "    <tr>\n",
       "      <th>Hisense</th>\n",
       "      <td>22999.0</td>\n",
       "      <td>45849.0</td>\n",
       "      <td>51499.0</td>\n",
       "    </tr>\n",
       "    <tr>\n",
       "      <th>Hyundai</th>\n",
       "      <td>17990.0</td>\n",
       "      <td>NaN</td>\n",
       "      <td>35949.0</td>\n",
       "    </tr>\n",
       "    <tr>\n",
       "      <th>Iffalcon</th>\n",
       "      <td>14999.0</td>\n",
       "      <td>33999.0</td>\n",
       "      <td>27249.0</td>\n",
       "    </tr>\n",
       "    <tr>\n",
       "      <th>Infinix</th>\n",
       "      <td>NaN</td>\n",
       "      <td>28499.0</td>\n",
       "      <td>NaN</td>\n",
       "    </tr>\n",
       "    <tr>\n",
       "      <th>Kodak</th>\n",
       "      <td>15249.0</td>\n",
       "      <td>31999.0</td>\n",
       "      <td>40599.0</td>\n",
       "    </tr>\n",
       "    <tr>\n",
       "      <th>Lg</th>\n",
       "      <td>54374.0</td>\n",
       "      <td>NaN</td>\n",
       "      <td>85990.0</td>\n",
       "    </tr>\n",
       "    <tr>\n",
       "      <th>Lloyd</th>\n",
       "      <td>26074.5</td>\n",
       "      <td>46999.5</td>\n",
       "      <td>45890.0</td>\n",
       "    </tr>\n",
       "    <tr>\n",
       "      <th>Mi</th>\n",
       "      <td>22999.0</td>\n",
       "      <td>84999.0</td>\n",
       "      <td>36999.0</td>\n",
       "    </tr>\n",
       "    <tr>\n",
       "      <th>Motorola</th>\n",
       "      <td>21413.0</td>\n",
       "      <td>31249.0</td>\n",
       "      <td>40699.0</td>\n",
       "    </tr>\n",
       "    <tr>\n",
       "      <th>Onida</th>\n",
       "      <td>NaN</td>\n",
       "      <td>NaN</td>\n",
       "      <td>40649.0</td>\n",
       "    </tr>\n",
       "    <tr>\n",
       "      <th>Samsung</th>\n",
       "      <td>29494.5</td>\n",
       "      <td>118934.5</td>\n",
       "      <td>51495.0</td>\n",
       "    </tr>\n",
       "    <tr>\n",
       "      <th>Sansui</th>\n",
       "      <td>20499.0</td>\n",
       "      <td>57999.0</td>\n",
       "      <td>36840.0</td>\n",
       "    </tr>\n",
       "    <tr>\n",
       "      <th>Sens</th>\n",
       "      <td>NaN</td>\n",
       "      <td>34999.0</td>\n",
       "      <td>22149.0</td>\n",
       "    </tr>\n",
       "    <tr>\n",
       "      <th>Skylive</th>\n",
       "      <td>16101.5</td>\n",
       "      <td>NaN</td>\n",
       "      <td>NaN</td>\n",
       "    </tr>\n",
       "    <tr>\n",
       "      <th>Sony</th>\n",
       "      <td>44990.0</td>\n",
       "      <td>NaN</td>\n",
       "      <td>78994.5</td>\n",
       "    </tr>\n",
       "    <tr>\n",
       "      <th>Tcl</th>\n",
       "      <td>NaN</td>\n",
       "      <td>41494.5</td>\n",
       "      <td>51494.5</td>\n",
       "    </tr>\n",
       "    <tr>\n",
       "      <th>Thomson</th>\n",
       "      <td>15499.0</td>\n",
       "      <td>37999.0</td>\n",
       "      <td>28599.0</td>\n",
       "    </tr>\n",
       "    <tr>\n",
       "      <th>Toshiba</th>\n",
       "      <td>27449.5</td>\n",
       "      <td>48499.0</td>\n",
       "      <td>38668.0</td>\n",
       "    </tr>\n",
       "    <tr>\n",
       "      <th>Vu</th>\n",
       "      <td>NaN</td>\n",
       "      <td>NaN</td>\n",
       "      <td>34749.0</td>\n",
       "    </tr>\n",
       "  </tbody>\n",
       "</table>\n",
       "</div>"
      ],
      "text/plain": [
       "Display    Full Hd Led  Qled Ultra Hd (4K)  Ultra Hd (4K)\n",
       "Name                                                     \n",
       "Acer           19249.0             30999.0        29999.0\n",
       "Admiral        18999.0                 NaN        30999.0\n",
       "Blaupunkt      14999.0             40633.5        28299.0\n",
       "Bpl            22190.0             47999.0        33144.5\n",
       "Candy          17990.0             47490.0        31490.0\n",
       "Coocaa         14499.0             34999.0        24999.0\n",
       "Dyanora        16249.0                 NaN        19999.0\n",
       "Haier          23990.0             39990.0        35990.0\n",
       "Hisense        22999.0             45849.0        51499.0\n",
       "Hyundai        17990.0                 NaN        35949.0\n",
       "Iffalcon       14999.0             33999.0        27249.0\n",
       "Infinix            NaN             28499.0            NaN\n",
       "Kodak          15249.0             31999.0        40599.0\n",
       "Lg             54374.0                 NaN        85990.0\n",
       "Lloyd          26074.5             46999.5        45890.0\n",
       "Mi             22999.0             84999.0        36999.0\n",
       "Motorola       21413.0             31249.0        40699.0\n",
       "Onida              NaN                 NaN        40649.0\n",
       "Samsung        29494.5            118934.5        51495.0\n",
       "Sansui         20499.0             57999.0        36840.0\n",
       "Sens               NaN             34999.0        22149.0\n",
       "Skylive        16101.5                 NaN            NaN\n",
       "Sony           44990.0                 NaN        78994.5\n",
       "Tcl                NaN             41494.5        51494.5\n",
       "Thomson        15499.0             37999.0        28599.0\n",
       "Toshiba        27449.5             48499.0        38668.0\n",
       "Vu                 NaN                 NaN        34749.0"
      ]
     },
     "execution_count": 115,
     "metadata": {},
     "output_type": "execute_result"
    }
   ],
   "source": [
    "### brand wise Average prices using crosstab which shows the average price of the tvs with respect to displays\n",
    "pd.crosstab(df.Name, df.Display , values = df.Selling_Price, aggfunc = ('median')).iloc[:]"
   ]
  },
  {
   "cell_type": "code",
   "execution_count": 116,
   "id": "32f88d7f",
   "metadata": {},
   "outputs": [],
   "source": [
    "### creating a data frame as tvs under 30000 and ratings > 4\n",
    "df1 = df[(df.Selling_Price<=35000)&(df.Ratings > 4.0)]"
   ]
  },
  {
   "cell_type": "code",
   "execution_count": 117,
   "id": "9ae8ecff",
   "metadata": {},
   "outputs": [],
   "source": [
    "### creating a data frame as tvs greater than 35000 and less than 75000 and ratings > 4\n",
    "df2 = df[(df.Selling_Price>=35000)&(df.Selling_Price<=200000)&(df.Ratings > 4.0)]"
   ]
  },
  {
   "cell_type": "code",
   "execution_count": 229,
   "id": "6f9ef629",
   "metadata": {},
   "outputs": [
    {
     "data": {
      "image/png": "[encoded data removed]",
      "text/plain": [
       "<Figure size 1500x500 with 1 Axes>"
      ]
     },
     "metadata": {},
     "output_type": "display_data"
    }
   ],
   "source": [
    "#### midrange considering budget\n",
    "plt.figure(figsize = (15,5))\n",
    "sns.boxplot(y = 'Selling_Price', x = 'Name', data = df1)\n",
    "plt.title('TVS under 35000 and with 4 star ratings')\n",
    "plt.xticks(rotation = 90)\n",
    "plt.show()"
   ]
  },
  {
   "cell_type": "markdown",
   "id": "dc99127a",
   "metadata": {},
   "source": [
    "# From df1, the midrange TVs include almost every brand except Sony. The most affordable TVs with 4-star ratings are from Thomson, Mi, Kodak, Coocaa, Motorola, Blaupunkt, and Acer."
   ]
  },
  {
   "cell_type": "code",
   "execution_count": 119,
   "id": "6fff0b3d",
   "metadata": {},
   "outputs": [
    {
     "data": {
      "image/png": "[encoded data removed]",
      "text/plain": [
       "<Figure size 1500x500 with 1 Axes>"
      ]
     },
     "metadata": {},
     "output_type": "display_data"
    }
   ],
   "source": [
    "plt.figure(figsize = (15,5))\n",
    "sns.boxplot(y = 'Selling_Price', x = 'Name', data = df2)\n",
    "plt.xticks(rotation = 90)\n",
    "plt.show()"
   ]
  },
  {
   "cell_type": "markdown",
   "id": "e59087de",
   "metadata": {},
   "source": [
    "# From df2, the most expensive brands are Sony, Samsung, and LG, which have the highest prices. Meanwhile, brands like Lloyd, TCL, MI,Thomson, Toshiba, Motorola, Hisense, and Acer are the most affordable compared to Sony, Samsung, and LG.\"\n",
    "\n",
    "This version clarifies the comparison between the most expensive and the most affordable brands."
   ]
  },
  {
   "cell_type": "code",
   "execution_count": 120,
   "id": "937eb5d5",
   "metadata": {},
   "outputs": [
    {
     "data": {
      "image/png": "[encoded data removed]",
      "text/plain": [
       "<Figure size 640x480 with 1 Axes>"
      ]
     },
     "metadata": {},
     "output_type": "display_data"
    }
   ],
   "source": [
    "sns.barplot(x = df.OS, y = df.Selling_Price, errorbar = None)\n",
    "plt.show()"
   ]
  },
  {
   "cell_type": "markdown",
   "id": "96e7eaf8",
   "metadata": {},
   "source": [
    "# From the above chart the most expensive Operating systems are Tizen, Android and WebOS. while Google, Vidaa, are the Operating systems which offers at mid rangers. Meanwhile coolita and LinuxOS are the most affordable ones."
   ]
  },
  {
   "cell_type": "code",
   "execution_count": 215,
   "id": "49cf4b58",
   "metadata": {},
   "outputs": [
    {
     "data": {
      "text/plain": [
       "<Axes: >"
      ]
     },
     "execution_count": 215,
     "metadata": {},
     "output_type": "execute_result"
    },
    {
     "data": {
      "image/png": "[encoded data removed]",
      "text/plain": [
       "<Figure size 640x480 with 2 Axes>"
      ]
     },
     "metadata": {},
     "output_type": "display_data"
    }
   ],
   "source": [
    "sns.heatmap(df[['Selling_Price','Original_Price']].corr(),annot = True)"
   ]
  },
  {
   "cell_type": "markdown",
   "id": "d24067d7",
   "metadata": {},
   "source": [
    "# Conclusion"
   ]
  },
  {
   "cell_type": "markdown",
   "id": "fe4a6eec",
   "metadata": {},
   "source": [
    "1) \n",
    "There are 27 brands of the TV With the different types of sizes and Operating Systems in the Telivision Market\n",
    "\n",
    "2) \n",
    "The Popular Brands are Samsung, LG, Sony in the market. Where there are some competative Brands like TCL, Toshiba, Thompson,\n",
    "Hisensce with competative products in the market\n",
    "\n",
    "3) \n",
    "Samsung Has the largest Number of products in all types of display's and screen sizes.\n",
    "\n",
    "4) \n",
    "The Most prefred screen sizes are 43, 50, 55, 65 inches and tv's should have screen resoltion's upto 3840*2160 interms of\n",
    "screen resolutions to support Ultra HD (4K) display.\n",
    "\n",
    "5) \n",
    "There is positive correlation between Original Price and  Selling Price. If the Original price increases then the selling price tends to increase. Higher priced items sold at near their original prices \n",
    "\n",
    "6) \n",
    "Brands such as TCL, MI, Thomson, Toshiba, and Acer offer an average selling price, indicating a good balance of cost and \n",
    "quality. These brands typically use operating systems like Google and Vidaa.\n",
    "\n",
    "7) \n",
    "Samsung, LG, and Sony are the most expensive brands in terms of pricing and quality. These TVs offer the latest operating \n",
    "systems such as Tizen, webOS, and Android TV, which support all connectivity and portability options, making the products more \n",
    "expensive.\n",
    "\n"
   ]
  },
  {
   "cell_type": "code",
   "execution_count": null,
   "id": "e4e98b50",
   "metadata": {},
   "outputs": [],
   "source": []
  },
  {
   "cell_type": "code",
   "execution_count": null,
   "id": "13796632",
   "metadata": {},
   "outputs": [],
   "source": []
  },
  {
   "cell_type": "code",
   "execution_count": null,
   "id": "26dcec4f",
   "metadata": {},
   "outputs": [],
   "source": []
  },
  {
   "cell_type": "code",
   "execution_count": null,
   "id": "0a988aaa",
   "metadata": {},
   "outputs": [],
   "source": []
  },
  {
   "cell_type": "code",
   "execution_count": null,
   "id": "54be8b93",
   "metadata": {},
   "outputs": [],
   "source": []
  }
 ],
 "metadata": {
  "kernelspec": {
   "display_name": "Python 3 (ipykernel)",
   "language": "python",
   "name": "python3"
  },
  "language_info": {
   "codemirror_mode": {
    "name": "ipython",
    "version": 3
   },
   "file_extension": ".py",
   "mimetype": "text/x-python",
   "name": "python",
   "nbconvert_exporter": "python",
   "pygments_lexer": "ipython3",
   "version": "3.11.5"
  }
 },
 "nbformat": 4,
 "nbformat_minor": 5
}
